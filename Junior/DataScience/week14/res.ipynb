{
 "cells": [
  {
   "attachments": {},
   "cell_type": "markdown",
   "metadata": {},
   "source": [
    "先對缺失的年齡資料進行填補並且對其他資料進行編碼\n",
    "建立好訓練集和測試集後使用迴圈測試不同參數的準確度\n",
    "最後得到當K值為4時準確度最佳"
   ]
  },
  {
   "cell_type": "code",
   "execution_count": null,
   "metadata": {},
   "outputs": [],
   "source": [
    "import pandas as pd\n",
    "import numpy as np\n",
    "import matplotlib.pyplot as plt\n",
    "from sklearn.preprocessing import LabelEncoder, OneHotEncoder\n",
    "from sklearn.model_selection import train_test_split\n",
    "from sklearn.neighbors import KNeighborsClassifier\n",
    "from sklearn.metrics import accuracy_score\n",
    "from sklearn.impute import SimpleImputer\n",
    "\n",
    "\n",
    "df = pd.read_csv('./Junior/DataScience/week14/titanic.csv')\n",
    "\n",
    "\n",
    "# 填補缺失值\n",
    "imputer = SimpleImputer(strategy=\"median\")\n",
    "df[\"Age\"] = imputer.fit_transform(df[[\"Age\"]])\n",
    "\n",
    "# 移除包含缺失值的列\n",
    "df.dropna(inplace=True)\n",
    "\n",
    "# 進行獨熱編碼\n",
    "df_encoded = pd.get_dummies(df, columns=[\"PClass\", \"Sex\"])\n",
    "\n",
    "# 選擇特徵和目標變量\n",
    "features = [\"Age\", \"PClass_1st\", \"PClass_2nd\", \"PClass_3rd\", \"Sex_female\", \"Sex_male\"]\n",
    "target = \"Survived\"\n",
    "\n",
    "# 分割資料集\n",
    "X = df_encoded[features]\n",
    "y = df_encoded[target]\n",
    "X_train, X_test, y_train, y_test = train_test_split(X, y, test_size=0.3, random_state=42)\n",
    "\n",
    "optimal_k = 0\n",
    "optimal_accuracy = 0\n",
    "for cur_k in range(1, 100):\n",
    "    print(\"K值：\", cur_k)\n",
    "    # 建立KNN分類器模型\n",
    "    knn = KNeighborsClassifier(n_neighbors=cur_k)  # 使用K=5\n",
    "    knn.fit(X_train, y_train)\n",
    "\n",
    "    # 在測試集上進行預測\n",
    "    y_pred = knn.predict(X_test)\n",
    "\n",
    "    # 計算預測正確性\n",
    "    accuracy = accuracy_score(y_test, y_pred)\n",
    "    if optimal_accuracy < accuracy:\n",
    "        optimal_accuracy = accuracy\n",
    "        optimal_k = cur_k\n",
    "\n",
    "print(\"最佳K值：\", optimal_k)\n",
    "print(\"最佳正確性：\", optimal_accuracy)"
   ]
  }
 ],
 "metadata": {
  "language_info": {
   "name": "python"
  },
  "orig_nbformat": 4
 },
 "nbformat": 4,
 "nbformat_minor": 2
}
