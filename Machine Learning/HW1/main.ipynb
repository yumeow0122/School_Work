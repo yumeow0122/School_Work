{
 "cells": [
  {
   "cell_type": "markdown",
   "metadata": {},
   "source": [
    "# Experimental results\n",
    "\n",
    "## v1: smaple code\n",
    "Public: 1.50616 Private : 1.53058\n",
    "\n",
    "## v2: select specific feature\n",
    "Public: 0.91900 Private :  0.88882\n"
   ]
  },
  {
   "cell_type": "code",
   "execution_count": 34,
   "metadata": {},
   "outputs": [],
   "source": [
    "# Install dataset\n",
    "# !wget -O ./data/covid_train.csv https://www.dropbox.com/s/lmy1riadzoy0ahw/covid.train.csv?dl=0\n",
    "# !wget -O ./data/covid_test.csv https://www.dropbox.com/s/zalbw42lu4nmhr2/covid.test.csv?dl=0"
   ]
  },
  {
   "cell_type": "code",
   "execution_count": 60,
   "metadata": {},
   "outputs": [],
   "source": [
    "# Numerical Operations\n",
    "import math\n",
    "import numpy as np\n",
    "\n",
    "# Reading/Writing Data\n",
    "import pandas as pd\n",
    "import os\n",
    "import csv\n",
    "\n",
    "# For Progress Bar\n",
    "from tqdm import tqdm\n",
    "\n",
    "# Pytorch\n",
    "import torch \n",
    "import torch.nn as nn\n",
    "from torch.utils.data import Dataset, DataLoader, random_split\n",
    "\n",
    "# Sklearn\n",
    "from sklearn import preprocessing\n",
    "from sklearn.feature_selection import SelectKBest\n",
    "from sklearn.feature_selection import f_regression\n",
    "\n",
    "# For plotting learning curve\n",
    "from torch.utils.tensorboard import SummaryWriter"
   ]
  },
  {
   "cell_type": "code",
   "execution_count": 103,
   "metadata": {},
   "outputs": [
    {
     "name": "stdout",
     "output_type": "stream",
     "text": [
      "All functions are defined.\n"
     ]
    }
   ],
   "source": [
    "#Some Utility Functions\n",
    "\n",
    "def same_seed(seed): \n",
    "    '''Fixes random number generator seeds for reproducibility.'''\n",
    "    torch.backends.cudnn.deterministic = True\n",
    "    torch.backends.cudnn.benchmark = False\n",
    "    np.random.seed(seed)\n",
    "    torch.manual_seed(seed)\n",
    "    if torch.cuda.is_available():\n",
    "        torch.cuda.manual_seed_all(seed)\n",
    "\n",
    "def train_valid_split(data_set, valid_ratio, seed):\n",
    "    '''Split provided training data into training set and validation set'''\n",
    "    valid_set_size = int(valid_ratio * len(data_set)) \n",
    "    train_set_size = len(data_set) - valid_set_size\n",
    "    train_set, valid_set = random_split(data_set, [train_set_size, valid_set_size], generator=torch.Generator().manual_seed(seed))\n",
    "    return np.array(train_set), np.array(valid_set)\n",
    "\n",
    "def predict(test_loader, model, device):\n",
    "    model.eval() # Set your model to evaluation mode.\n",
    "    preds = []\n",
    "    for x in tqdm(test_loader):\n",
    "        x = x.to(device)                        \n",
    "        with torch.no_grad():                   \n",
    "            pred = model(x)                     \n",
    "            preds.append(pred.detach().cpu())   \n",
    "    preds = torch.cat(preds, dim=0).numpy()  \n",
    "    return preds\n",
    "\n",
    "def select_feat(train_data, valid_data, test_data, select_all=True):\n",
    "    '''Selects useful features to perform regression'''\n",
    "    y_train, y_valid = train_data[:,-1], valid_data[:,-1]\n",
    "    raw_x_train, raw_x_valid, raw_x_test = train_data[:,:-1], valid_data[:,:-1], test_data\n",
    "\n",
    "    if select_all:\n",
    "        feat_idx = list(range(raw_x_train.shape[1]))\n",
    "    else:\n",
    "        feat_idx = list(range(35, raw_x_train.shape[1])) # TODO: Select suitable feature columns.\n",
    "        \n",
    "    return raw_x_train[:,feat_idx], raw_x_valid[:,feat_idx], raw_x_test[:,feat_idx], y_train, y_valid\n",
    "\n",
    "\n",
    "print(\"All functions are defined.\")"
   ]
  },
  {
   "cell_type": "code",
   "execution_count": 104,
   "metadata": {},
   "outputs": [],
   "source": [
    "from modules.dataset import COVID19Dataset\n",
    "from modules.classifier import CovidClassifier"
   ]
  },
  {
   "cell_type": "code",
   "execution_count": 115,
   "metadata": {},
   "outputs": [],
   "source": [
    "import torch\n",
    "import torch.nn as nn\n",
    "import torch.optim\n",
    "import os\n",
    "import math\n",
    "from torch.utils.tensorboard import SummaryWriter\n",
    "from tqdm import tqdm\n",
    "\n",
    "def trainer(train_loader, valid_loader, model, config, device):\n",
    "    criterion = nn.MSELoss(reduction='mean')  # Define your loss function, do not modify this.\n",
    "\n",
    "    # Define your optimization algorithm with L2 regularization.\n",
    "    optimizer = torch.optim.Adam(model.parameters(), lr=config['learning_rate'])\n",
    "    writer = SummaryWriter()  # Writer of tensoboard.\n",
    "\n",
    "    if not os.path.isdir('./models'):\n",
    "        os.mkdir('./models')  # Create directory of saving models.\n",
    "\n",
    "    n_epochs, best_loss, step, early_stop_count = config['n_epochs'], math.inf, 0, 0\n",
    "\n",
    "    for epoch in range(n_epochs):\n",
    "        model.train()  # Set your model to train mode.\n",
    "        loss_record = []\n",
    "\n",
    "        # tqdm is a package to visualize your training progress.\n",
    "        train_pbar = tqdm(train_loader, position=0, leave=True)\n",
    "\n",
    "        for x, y in train_pbar:\n",
    "            optimizer.zero_grad()  # Set gradient to zero.\n",
    "            x, y = x.to(device), y.to(device)  # Move your data to device.\n",
    "            pred = model(x)\n",
    "            loss = criterion(pred, y)\n",
    "            loss.backward()  # Compute gradient(backpropagation).\n",
    "            optimizer.step()  # Update parameters.\n",
    "            step += 1\n",
    "            loss_record.append(loss.detach().item())\n",
    "\n",
    "            # Display current epoch number and loss on tqdm progress bar.\n",
    "            train_pbar.set_description(f'Epoch [{epoch + 1}/{n_epochs}]')\n",
    "            train_pbar.set_postfix({'loss': loss.detach().item()})\n",
    "\n",
    "        mean_train_loss = sum(loss_record) / len(loss_record)\n",
    "        writer.add_scalar('Loss/train', mean_train_loss, step)\n",
    "\n",
    "        model.eval()  # Set your model to evaluation mode.\n",
    "        loss_record = []\n",
    "        for x, y in valid_loader:\n",
    "            x, y = x.to(device), y.to(device)\n",
    "            with torch.no_grad():\n",
    "                pred = model(x)\n",
    "                loss = criterion(pred, y)\n",
    "\n",
    "            loss_record.append(loss.item())\n",
    "\n",
    "        mean_valid_loss = sum(loss_record) / len(loss_record)\n",
    "        print(f'Epoch [{epoch + 1}/{n_epochs}]: Train loss: {mean_train_loss:.4f}, Valid loss: {mean_valid_loss:.4f}')\n",
    "        writer.add_scalar('Loss/valid', mean_valid_loss, step)\n",
    "\n",
    "        if mean_valid_loss < best_loss:\n",
    "            best_loss = mean_valid_loss\n",
    "            torch.save(model.state_dict(), config['save_path'])  # Save your best model\n",
    "            print('Saving model with loss {:.3f}...'.format(best_loss))\n",
    "            early_stop_count = 0\n",
    "        else:\n",
    "            early_stop_count += 1\n",
    "\n",
    "        if early_stop_count >= config['early_stop']:\n",
    "            print('\\nModel is not improving, so we halt the training session.')\n",
    "            return\n"
   ]
  },
  {
   "cell_type": "code",
   "execution_count": 116,
   "metadata": {},
   "outputs": [],
   "source": [
    "device = 'cuda' if torch.cuda.is_available() else 'cpu'\n",
    "config = {\n",
    "    'seed': 1203,      # Your seed number, you can pick your lucky number. :)\n",
    "    'select_all': False,   # Whether to use all features.\n",
    "    'valid_ratio': 0.2,   # validation_size = train_size * valid_ratio\n",
    "    'n_epochs': 2000,     # Number of epochs.            \n",
    "    'batch_size': 512, \n",
    "    'learning_rate': 1e-4,              \n",
    "    'early_stop': 600,    # If model has not improved for this many consecutive epochs, stop training.     \n",
    "    'save_path': './models/model.ckpt'  # Your model will be saved here.\n",
    "}"
   ]
  },
  {
   "cell_type": "code",
   "execution_count": 117,
   "metadata": {},
   "outputs": [
    {
     "name": "stdout",
     "output_type": "stream",
     "text": [
      "train_data size: (2408, 89) \n",
      "valid_data size: (601, 89) \n",
      "test_data size: (997, 88)\n",
      "number of features: 53\n"
     ]
    }
   ],
   "source": [
    "# Set seed for reproducibility\n",
    "same_seed(config['seed'])\n",
    "\n",
    "\n",
    "# train_data size: 3009 x 89 (35 states + 18 features x 3 days) \n",
    "# test_data size: 997 x 88 (without last day's positive rate)\n",
    "train_data, test_data = pd.read_csv('./data/covid_train.csv').values, pd.read_csv('./data/covid_test.csv').values\n",
    "train_data, valid_data = train_valid_split(train_data, config['valid_ratio'], config['seed'])\n",
    "\n",
    "# Print out the data size.\n",
    "print(f\"\"\"train_data size: {train_data.shape} \n",
    "valid_data size: {valid_data.shape} \n",
    "test_data size: {test_data.shape}\"\"\")\n",
    "\n",
    "# Select features\n",
    "x_train, x_valid, x_test, y_train, y_valid = select_feat(train_data, valid_data, test_data, config['select_all'])\n",
    "# Print out the number of features.\n",
    "print(f'number of features: {x_train.shape[1]}')\n",
    "\n",
    "train_dataset, valid_dataset, test_dataset = COVID19Dataset(x_train, y_train), \\\n",
    "                                            COVID19Dataset(x_valid, y_valid), \\\n",
    "                                            COVID19Dataset(x_test)\n",
    "\n",
    "# Pytorch data loader loads pytorch dataset into batches.\n",
    "train_loader = DataLoader(train_dataset, batch_size=config['batch_size'], shuffle=True, pin_memory=True)\n",
    "valid_loader = DataLoader(valid_dataset, batch_size=config['batch_size'], shuffle=True, pin_memory=True)\n",
    "test_loader = DataLoader(test_dataset, batch_size=config['batch_size'], shuffle=False, pin_memory=True)"
   ]
  },
  {
   "cell_type": "code",
   "execution_count": 118,
   "metadata": {},
   "outputs": [
    {
     "name": "stderr",
     "output_type": "stream",
     "text": [
      "Epoch [1278/2000]: 100%|██████████| 10/10 [00:00<00:00, 20.98it/s, loss=0.841]\n"
     ]
    },
    {
     "name": "stdout",
     "output_type": "stream",
     "text": [
      "Epoch [1278/2000]: Train loss: 1.0455, Valid loss: 1.1619\n"
     ]
    },
    {
     "name": "stderr",
     "output_type": "stream",
     "text": [
      "Epoch [1279/2000]: 100%|██████████| 10/10 [00:00<00:00, 15.78it/s, loss=1.29]\n"
     ]
    },
    {
     "name": "stdout",
     "output_type": "stream",
     "text": [
      "Epoch [1279/2000]: Train loss: 1.0835, Valid loss: 1.1062\n"
     ]
    },
    {
     "name": "stderr",
     "output_type": "stream",
     "text": [
      "Epoch [1280/2000]: 100%|██████████| 10/10 [00:00<00:00, 13.67it/s, loss=1.22]\n"
     ]
    },
    {
     "name": "stdout",
     "output_type": "stream",
     "text": [
      "Epoch [1280/2000]: Train loss: 1.0878, Valid loss: 1.1235\n"
     ]
    },
    {
     "name": "stderr",
     "output_type": "stream",
     "text": [
      "Epoch [1281/2000]: 100%|██████████| 10/10 [00:00<00:00, 29.28it/s, loss=0.829]\n"
     ]
    },
    {
     "name": "stdout",
     "output_type": "stream",
     "text": [
      "Epoch [1281/2000]: Train loss: 1.0561, Valid loss: 1.0794\n"
     ]
    },
    {
     "name": "stderr",
     "output_type": "stream",
     "text": [
      "Epoch [1282/2000]: 100%|██████████| 10/10 [00:00<00:00, 32.67it/s, loss=1.14]\n"
     ]
    },
    {
     "name": "stdout",
     "output_type": "stream",
     "text": [
      "Epoch [1282/2000]: Train loss: 1.0814, Valid loss: 1.1590\n"
     ]
    },
    {
     "name": "stderr",
     "output_type": "stream",
     "text": [
      "Epoch [1283/2000]: 100%|██████████| 10/10 [00:00<00:00, 13.02it/s, loss=1.23]\n"
     ]
    },
    {
     "name": "stdout",
     "output_type": "stream",
     "text": [
      "Epoch [1283/2000]: Train loss: 1.0852, Valid loss: 1.0861\n"
     ]
    },
    {
     "name": "stderr",
     "output_type": "stream",
     "text": [
      "Epoch [1284/2000]: 100%|██████████| 10/10 [00:00<00:00, 15.90it/s, loss=1.13]\n"
     ]
    },
    {
     "name": "stdout",
     "output_type": "stream",
     "text": [
      "Epoch [1284/2000]: Train loss: 1.0754, Valid loss: 1.0970\n"
     ]
    },
    {
     "name": "stderr",
     "output_type": "stream",
     "text": [
      "Epoch [1285/2000]: 100%|██████████| 10/10 [00:00<00:00, 23.80it/s, loss=1.03]\n"
     ]
    },
    {
     "name": "stdout",
     "output_type": "stream",
     "text": [
      "Epoch [1285/2000]: Train loss: 1.0694, Valid loss: 1.0567\n"
     ]
    },
    {
     "name": "stderr",
     "output_type": "stream",
     "text": [
      "Epoch [1286/2000]: 100%|██████████| 10/10 [00:00<00:00, 25.19it/s, loss=1.14]\n"
     ]
    },
    {
     "name": "stdout",
     "output_type": "stream",
     "text": [
      "Epoch [1286/2000]: Train loss: 1.0666, Valid loss: 1.0518\n"
     ]
    },
    {
     "name": "stderr",
     "output_type": "stream",
     "text": [
      "Epoch [1287/2000]: 100%|██████████| 10/10 [00:00<00:00, 21.25it/s, loss=0.894]\n"
     ]
    },
    {
     "name": "stdout",
     "output_type": "stream",
     "text": [
      "Epoch [1287/2000]: Train loss: 1.0527, Valid loss: 1.0719\n"
     ]
    },
    {
     "name": "stderr",
     "output_type": "stream",
     "text": [
      "Epoch [1288/2000]: 100%|██████████| 10/10 [00:00<00:00, 32.83it/s, loss=0.994]\n"
     ]
    },
    {
     "name": "stdout",
     "output_type": "stream",
     "text": [
      "Epoch [1288/2000]: Train loss: 1.0563, Valid loss: 1.0455\n"
     ]
    },
    {
     "name": "stderr",
     "output_type": "stream",
     "text": [
      "Epoch [1289/2000]: 100%|██████████| 10/10 [00:00<00:00, 42.44it/s, loss=0.834]\n"
     ]
    },
    {
     "name": "stdout",
     "output_type": "stream",
     "text": [
      "Epoch [1289/2000]: Train loss: 1.0502, Valid loss: 1.1389\n"
     ]
    },
    {
     "name": "stderr",
     "output_type": "stream",
     "text": [
      "Epoch [1290/2000]: 100%|██████████| 10/10 [00:00<00:00, 26.00it/s, loss=0.855]\n"
     ]
    },
    {
     "name": "stdout",
     "output_type": "stream",
     "text": [
      "Epoch [1290/2000]: Train loss: 1.0510, Valid loss: 1.1144\n"
     ]
    },
    {
     "name": "stderr",
     "output_type": "stream",
     "text": [
      "Epoch [1291/2000]: 100%|██████████| 10/10 [00:00<00:00, 16.72it/s, loss=1.01]\n"
     ]
    },
    {
     "name": "stdout",
     "output_type": "stream",
     "text": [
      "Epoch [1291/2000]: Train loss: 1.0607, Valid loss: 1.0804\n"
     ]
    },
    {
     "name": "stderr",
     "output_type": "stream",
     "text": [
      "Epoch [1292/2000]: 100%|██████████| 10/10 [00:00<00:00, 26.03it/s, loss=0.835]\n"
     ]
    },
    {
     "name": "stdout",
     "output_type": "stream",
     "text": [
      "Epoch [1292/2000]: Train loss: 1.0581, Valid loss: 1.0871\n"
     ]
    },
    {
     "name": "stderr",
     "output_type": "stream",
     "text": [
      "Epoch [1293/2000]: 100%|██████████| 10/10 [00:00<00:00, 22.29it/s, loss=0.943]\n"
     ]
    },
    {
     "name": "stdout",
     "output_type": "stream",
     "text": [
      "Epoch [1293/2000]: Train loss: 1.0539, Valid loss: 1.0845\n"
     ]
    },
    {
     "name": "stderr",
     "output_type": "stream",
     "text": [
      "Epoch [1294/2000]: 100%|██████████| 10/10 [00:00<00:00, 15.59it/s, loss=1.14]\n"
     ]
    },
    {
     "name": "stdout",
     "output_type": "stream",
     "text": [
      "Epoch [1294/2000]: Train loss: 1.0637, Valid loss: 1.1178\n"
     ]
    },
    {
     "name": "stderr",
     "output_type": "stream",
     "text": [
      "Epoch [1295/2000]: 100%|██████████| 10/10 [00:00<00:00, 13.32it/s, loss=0.896]\n"
     ]
    },
    {
     "name": "stdout",
     "output_type": "stream",
     "text": [
      "Epoch [1295/2000]: Train loss: 1.0470, Valid loss: 1.0521\n"
     ]
    },
    {
     "name": "stderr",
     "output_type": "stream",
     "text": [
      "Epoch [1296/2000]: 100%|██████████| 10/10 [00:00<00:00, 24.07it/s, loss=0.958]\n"
     ]
    },
    {
     "name": "stdout",
     "output_type": "stream",
     "text": [
      "Epoch [1296/2000]: Train loss: 1.0529, Valid loss: 1.0788\n"
     ]
    },
    {
     "name": "stderr",
     "output_type": "stream",
     "text": [
      "Epoch [1297/2000]: 100%|██████████| 10/10 [00:00<00:00, 12.76it/s, loss=1.18]\n"
     ]
    },
    {
     "name": "stdout",
     "output_type": "stream",
     "text": [
      "Epoch [1297/2000]: Train loss: 1.0626, Valid loss: 1.0840\n"
     ]
    },
    {
     "name": "stderr",
     "output_type": "stream",
     "text": [
      "Epoch [1298/2000]: 100%|██████████| 10/10 [00:00<00:00, 58.02it/s, loss=0.938]\n"
     ]
    },
    {
     "name": "stdout",
     "output_type": "stream",
     "text": [
      "Epoch [1298/2000]: Train loss: 1.0519, Valid loss: 1.0612\n"
     ]
    },
    {
     "name": "stderr",
     "output_type": "stream",
     "text": [
      "Epoch [1299/2000]: 100%|██████████| 10/10 [00:00<00:00, 22.82it/s, loss=1.2] \n"
     ]
    },
    {
     "name": "stdout",
     "output_type": "stream",
     "text": [
      "Epoch [1299/2000]: Train loss: 1.0684, Valid loss: 1.0557\n"
     ]
    },
    {
     "name": "stderr",
     "output_type": "stream",
     "text": [
      "Epoch [1300/2000]: 100%|██████████| 10/10 [00:00<00:00, 31.63it/s, loss=1.23]\n"
     ]
    },
    {
     "name": "stdout",
     "output_type": "stream",
     "text": [
      "Epoch [1300/2000]: Train loss: 1.0704, Valid loss: 1.0438\n"
     ]
    },
    {
     "name": "stderr",
     "output_type": "stream",
     "text": [
      "Epoch [1301/2000]: 100%|██████████| 10/10 [00:00<00:00, 49.03it/s, loss=0.864]\n"
     ]
    },
    {
     "name": "stdout",
     "output_type": "stream",
     "text": [
      "Epoch [1301/2000]: Train loss: 1.0486, Valid loss: 1.1082\n"
     ]
    },
    {
     "name": "stderr",
     "output_type": "stream",
     "text": [
      "Epoch [1302/2000]: 100%|██████████| 10/10 [00:00<00:00, 31.69it/s, loss=0.994]\n"
     ]
    },
    {
     "name": "stdout",
     "output_type": "stream",
     "text": [
      "Epoch [1302/2000]: Train loss: 1.0530, Valid loss: 1.1142\n"
     ]
    },
    {
     "name": "stderr",
     "output_type": "stream",
     "text": [
      "Epoch [1303/2000]: 100%|██████████| 10/10 [00:00<00:00, 24.25it/s, loss=0.922]\n"
     ]
    },
    {
     "name": "stdout",
     "output_type": "stream",
     "text": [
      "Epoch [1303/2000]: Train loss: 1.0530, Valid loss: 1.1221\n"
     ]
    },
    {
     "name": "stderr",
     "output_type": "stream",
     "text": [
      "Epoch [1304/2000]: 100%|██████████| 10/10 [00:00<00:00, 18.69it/s, loss=0.988]\n"
     ]
    },
    {
     "name": "stdout",
     "output_type": "stream",
     "text": [
      "Epoch [1304/2000]: Train loss: 1.0633, Valid loss: 1.0977\n"
     ]
    },
    {
     "name": "stderr",
     "output_type": "stream",
     "text": [
      "Epoch [1305/2000]: 100%|██████████| 10/10 [00:00<00:00, 38.25it/s, loss=1.16]\n"
     ]
    },
    {
     "name": "stdout",
     "output_type": "stream",
     "text": [
      "Epoch [1305/2000]: Train loss: 1.0652, Valid loss: 1.1381\n"
     ]
    },
    {
     "name": "stderr",
     "output_type": "stream",
     "text": [
      "Epoch [1306/2000]: 100%|██████████| 10/10 [00:00<00:00, 44.06it/s, loss=0.974]\n"
     ]
    },
    {
     "name": "stdout",
     "output_type": "stream",
     "text": [
      "Epoch [1306/2000]: Train loss: 1.0555, Valid loss: 1.0906\n"
     ]
    },
    {
     "name": "stderr",
     "output_type": "stream",
     "text": [
      "Epoch [1307/2000]: 100%|██████████| 10/10 [00:00<00:00, 15.82it/s, loss=1.08]\n"
     ]
    },
    {
     "name": "stdout",
     "output_type": "stream",
     "text": [
      "Epoch [1307/2000]: Train loss: 1.0687, Valid loss: 1.0654\n"
     ]
    },
    {
     "name": "stderr",
     "output_type": "stream",
     "text": [
      "Epoch [1308/2000]: 100%|██████████| 10/10 [00:00<00:00, 36.30it/s, loss=1.34]\n"
     ]
    },
    {
     "name": "stdout",
     "output_type": "stream",
     "text": [
      "Epoch [1308/2000]: Train loss: 1.0733, Valid loss: 1.1140\n"
     ]
    },
    {
     "name": "stderr",
     "output_type": "stream",
     "text": [
      "Epoch [1309/2000]: 100%|██████████| 10/10 [00:00<00:00, 26.56it/s, loss=1.12]\n"
     ]
    },
    {
     "name": "stdout",
     "output_type": "stream",
     "text": [
      "Epoch [1309/2000]: Train loss: 1.0657, Valid loss: 1.0570\n"
     ]
    },
    {
     "name": "stderr",
     "output_type": "stream",
     "text": [
      "Epoch [1310/2000]: 100%|██████████| 10/10 [00:00<00:00, 30.49it/s, loss=1.4] \n"
     ]
    },
    {
     "name": "stdout",
     "output_type": "stream",
     "text": [
      "Epoch [1310/2000]: Train loss: 1.0842, Valid loss: 1.0530\n"
     ]
    },
    {
     "name": "stderr",
     "output_type": "stream",
     "text": [
      "Epoch [1311/2000]: 100%|██████████| 10/10 [00:00<00:00, 26.49it/s, loss=0.648]\n"
     ]
    },
    {
     "name": "stdout",
     "output_type": "stream",
     "text": [
      "Epoch [1311/2000]: Train loss: 1.0321, Valid loss: 1.0625\n"
     ]
    },
    {
     "name": "stderr",
     "output_type": "stream",
     "text": [
      "Epoch [1312/2000]: 100%|██████████| 10/10 [00:00<00:00, 43.11it/s, loss=1.07]\n"
     ]
    },
    {
     "name": "stdout",
     "output_type": "stream",
     "text": [
      "Epoch [1312/2000]: Train loss: 1.0608, Valid loss: 1.0942\n"
     ]
    },
    {
     "name": "stderr",
     "output_type": "stream",
     "text": [
      "Epoch [1313/2000]: 100%|██████████| 10/10 [00:00<00:00, 22.73it/s, loss=0.987]\n"
     ]
    },
    {
     "name": "stdout",
     "output_type": "stream",
     "text": [
      "Epoch [1313/2000]: Train loss: 1.0545, Valid loss: 1.1056\n"
     ]
    },
    {
     "name": "stderr",
     "output_type": "stream",
     "text": [
      "Epoch [1314/2000]: 100%|██████████| 10/10 [00:00<00:00, 22.25it/s, loss=1.02]\n"
     ]
    },
    {
     "name": "stdout",
     "output_type": "stream",
     "text": [
      "Epoch [1314/2000]: Train loss: 1.0522, Valid loss: 1.0876\n"
     ]
    },
    {
     "name": "stderr",
     "output_type": "stream",
     "text": [
      "Epoch [1315/2000]: 100%|██████████| 10/10 [00:00<00:00, 35.28it/s, loss=1.01]\n"
     ]
    },
    {
     "name": "stdout",
     "output_type": "stream",
     "text": [
      "Epoch [1315/2000]: Train loss: 1.0556, Valid loss: 1.0483\n"
     ]
    },
    {
     "name": "stderr",
     "output_type": "stream",
     "text": [
      "Epoch [1316/2000]: 100%|██████████| 10/10 [00:00<00:00, 26.87it/s, loss=1.33]\n"
     ]
    },
    {
     "name": "stdout",
     "output_type": "stream",
     "text": [
      "Epoch [1316/2000]: Train loss: 1.0736, Valid loss: 1.0689\n"
     ]
    },
    {
     "name": "stderr",
     "output_type": "stream",
     "text": [
      "Epoch [1317/2000]: 100%|██████████| 10/10 [00:00<00:00, 66.58it/s, loss=0.846]\n"
     ]
    },
    {
     "name": "stdout",
     "output_type": "stream",
     "text": [
      "Epoch [1317/2000]: Train loss: 1.0403, Valid loss: 1.0472\n"
     ]
    },
    {
     "name": "stderr",
     "output_type": "stream",
     "text": [
      "Epoch [1318/2000]: 100%|██████████| 10/10 [00:00<00:00, 44.16it/s, loss=1.38]\n"
     ]
    },
    {
     "name": "stdout",
     "output_type": "stream",
     "text": [
      "Epoch [1318/2000]: Train loss: 1.0694, Valid loss: 1.0129\n"
     ]
    },
    {
     "name": "stderr",
     "output_type": "stream",
     "text": [
      "Epoch [1319/2000]: 100%|██████████| 10/10 [00:00<00:00, 28.23it/s, loss=0.872]\n"
     ]
    },
    {
     "name": "stdout",
     "output_type": "stream",
     "text": [
      "Epoch [1319/2000]: Train loss: 1.0396, Valid loss: 1.1250\n"
     ]
    },
    {
     "name": "stderr",
     "output_type": "stream",
     "text": [
      "Epoch [1320/2000]: 100%|██████████| 10/10 [00:00<00:00, 31.62it/s, loss=1.25]\n"
     ]
    },
    {
     "name": "stdout",
     "output_type": "stream",
     "text": [
      "Epoch [1320/2000]: Train loss: 1.0665, Valid loss: 1.0574\n"
     ]
    },
    {
     "name": "stderr",
     "output_type": "stream",
     "text": [
      "Epoch [1321/2000]: 100%|██████████| 10/10 [00:00<00:00, 26.78it/s, loss=0.977]\n"
     ]
    },
    {
     "name": "stdout",
     "output_type": "stream",
     "text": [
      "Epoch [1321/2000]: Train loss: 1.0573, Valid loss: 1.0128\n"
     ]
    },
    {
     "name": "stderr",
     "output_type": "stream",
     "text": [
      "Epoch [1322/2000]: 100%|██████████| 10/10 [00:00<00:00, 19.49it/s, loss=1.15]\n"
     ]
    },
    {
     "name": "stdout",
     "output_type": "stream",
     "text": [
      "Epoch [1322/2000]: Train loss: 1.0561, Valid loss: 1.1324\n"
     ]
    },
    {
     "name": "stderr",
     "output_type": "stream",
     "text": [
      "Epoch [1323/2000]: 100%|██████████| 10/10 [00:00<00:00, 40.61it/s, loss=1.12]\n"
     ]
    },
    {
     "name": "stdout",
     "output_type": "stream",
     "text": [
      "Epoch [1323/2000]: Train loss: 1.0570, Valid loss: 1.0893\n"
     ]
    },
    {
     "name": "stderr",
     "output_type": "stream",
     "text": [
      "Epoch [1324/2000]: 100%|██████████| 10/10 [00:00<00:00, 23.59it/s, loss=1.18]\n"
     ]
    },
    {
     "name": "stdout",
     "output_type": "stream",
     "text": [
      "Epoch [1324/2000]: Train loss: 1.0609, Valid loss: 1.0188\n"
     ]
    },
    {
     "name": "stderr",
     "output_type": "stream",
     "text": [
      "Epoch [1325/2000]: 100%|██████████| 10/10 [00:00<00:00, 11.88it/s, loss=1]   \n"
     ]
    },
    {
     "name": "stdout",
     "output_type": "stream",
     "text": [
      "Epoch [1325/2000]: Train loss: 1.0488, Valid loss: 1.0717\n"
     ]
    },
    {
     "name": "stderr",
     "output_type": "stream",
     "text": [
      "Epoch [1326/2000]: 100%|██████████| 10/10 [00:00<00:00, 32.75it/s, loss=1.21]\n"
     ]
    },
    {
     "name": "stdout",
     "output_type": "stream",
     "text": [
      "Epoch [1326/2000]: Train loss: 1.1162, Valid loss: 1.0405\n"
     ]
    },
    {
     "name": "stderr",
     "output_type": "stream",
     "text": [
      "Epoch [1327/2000]: 100%|██████████| 10/10 [00:00<00:00, 22.36it/s, loss=0.972]\n"
     ]
    },
    {
     "name": "stdout",
     "output_type": "stream",
     "text": [
      "Epoch [1327/2000]: Train loss: 1.0619, Valid loss: 1.0695\n"
     ]
    },
    {
     "name": "stderr",
     "output_type": "stream",
     "text": [
      "Epoch [1328/2000]: 100%|██████████| 10/10 [00:00<00:00, 28.54it/s, loss=0.894]\n"
     ]
    },
    {
     "name": "stdout",
     "output_type": "stream",
     "text": [
      "Epoch [1328/2000]: Train loss: 1.0477, Valid loss: 1.0868\n"
     ]
    },
    {
     "name": "stderr",
     "output_type": "stream",
     "text": [
      "Epoch [1329/2000]: 100%|██████████| 10/10 [00:00<00:00, 15.81it/s, loss=0.897]\n"
     ]
    },
    {
     "name": "stdout",
     "output_type": "stream",
     "text": [
      "Epoch [1329/2000]: Train loss: 1.0530, Valid loss: 1.1137\n"
     ]
    },
    {
     "name": "stderr",
     "output_type": "stream",
     "text": [
      "Epoch [1330/2000]: 100%|██████████| 10/10 [00:00<00:00, 15.50it/s, loss=1.18]\n"
     ]
    },
    {
     "name": "stdout",
     "output_type": "stream",
     "text": [
      "Epoch [1330/2000]: Train loss: 1.0658, Valid loss: 1.1291\n"
     ]
    },
    {
     "name": "stderr",
     "output_type": "stream",
     "text": [
      "Epoch [1331/2000]: 100%|██████████| 10/10 [00:00<00:00, 30.07it/s, loss=0.959]\n"
     ]
    },
    {
     "name": "stdout",
     "output_type": "stream",
     "text": [
      "Epoch [1331/2000]: Train loss: 1.0540, Valid loss: 1.0547\n"
     ]
    },
    {
     "name": "stderr",
     "output_type": "stream",
     "text": [
      "Epoch [1332/2000]: 100%|██████████| 10/10 [00:00<00:00, 18.56it/s, loss=1.03]\n"
     ]
    },
    {
     "name": "stdout",
     "output_type": "stream",
     "text": [
      "Epoch [1332/2000]: Train loss: 1.0660, Valid loss: 1.1180\n"
     ]
    },
    {
     "name": "stderr",
     "output_type": "stream",
     "text": [
      "Epoch [1333/2000]: 100%|██████████| 10/10 [00:00<00:00, 17.68it/s, loss=1.33]\n"
     ]
    },
    {
     "name": "stdout",
     "output_type": "stream",
     "text": [
      "Epoch [1333/2000]: Train loss: 1.0725, Valid loss: 1.1341\n"
     ]
    },
    {
     "name": "stderr",
     "output_type": "stream",
     "text": [
      "Epoch [1334/2000]: 100%|██████████| 10/10 [00:00<00:00, 52.89it/s, loss=0.954]\n"
     ]
    },
    {
     "name": "stdout",
     "output_type": "stream",
     "text": [
      "Epoch [1334/2000]: Train loss: 1.0514, Valid loss: 1.0043\n"
     ]
    },
    {
     "name": "stderr",
     "output_type": "stream",
     "text": [
      "Epoch [1335/2000]: 100%|██████████| 10/10 [00:00<00:00, 23.14it/s, loss=1.8] \n"
     ]
    },
    {
     "name": "stdout",
     "output_type": "stream",
     "text": [
      "Epoch [1335/2000]: Train loss: 1.0959, Valid loss: 1.0671\n"
     ]
    },
    {
     "name": "stderr",
     "output_type": "stream",
     "text": [
      "Epoch [1336/2000]: 100%|██████████| 10/10 [00:00<00:00, 25.31it/s, loss=1.2] \n"
     ]
    },
    {
     "name": "stdout",
     "output_type": "stream",
     "text": [
      "Epoch [1336/2000]: Train loss: 1.0580, Valid loss: 1.1007\n"
     ]
    },
    {
     "name": "stderr",
     "output_type": "stream",
     "text": [
      "Epoch [1337/2000]: 100%|██████████| 10/10 [00:00<00:00, 32.36it/s, loss=0.822]\n"
     ]
    },
    {
     "name": "stdout",
     "output_type": "stream",
     "text": [
      "Epoch [1337/2000]: Train loss: 1.0350, Valid loss: 1.0812\n"
     ]
    },
    {
     "name": "stderr",
     "output_type": "stream",
     "text": [
      "Epoch [1338/2000]: 100%|██████████| 10/10 [00:00<00:00, 43.81it/s, loss=0.974]\n"
     ]
    },
    {
     "name": "stdout",
     "output_type": "stream",
     "text": [
      "Epoch [1338/2000]: Train loss: 1.0508, Valid loss: 1.0889\n"
     ]
    },
    {
     "name": "stderr",
     "output_type": "stream",
     "text": [
      "Epoch [1339/2000]: 100%|██████████| 10/10 [00:00<00:00, 27.71it/s, loss=1.37]\n"
     ]
    },
    {
     "name": "stdout",
     "output_type": "stream",
     "text": [
      "Epoch [1339/2000]: Train loss: 1.0659, Valid loss: 1.0103\n"
     ]
    },
    {
     "name": "stderr",
     "output_type": "stream",
     "text": [
      "Epoch [1340/2000]: 100%|██████████| 10/10 [00:00<00:00, 19.41it/s, loss=0.954]\n"
     ]
    },
    {
     "name": "stdout",
     "output_type": "stream",
     "text": [
      "Epoch [1340/2000]: Train loss: 1.0410, Valid loss: 0.9919\n",
      "Saving model with loss 0.992...\n"
     ]
    },
    {
     "name": "stderr",
     "output_type": "stream",
     "text": [
      "Epoch [1341/2000]: 100%|██████████| 10/10 [00:00<00:00, 53.61it/s, loss=1.28]\n"
     ]
    },
    {
     "name": "stdout",
     "output_type": "stream",
     "text": [
      "Epoch [1341/2000]: Train loss: 1.0637, Valid loss: 1.0615\n"
     ]
    },
    {
     "name": "stderr",
     "output_type": "stream",
     "text": [
      "Epoch [1342/2000]: 100%|██████████| 10/10 [00:00<00:00, 43.60it/s, loss=1.29]\n"
     ]
    },
    {
     "name": "stdout",
     "output_type": "stream",
     "text": [
      "Epoch [1342/2000]: Train loss: 1.0614, Valid loss: 0.9988\n"
     ]
    },
    {
     "name": "stderr",
     "output_type": "stream",
     "text": [
      "Epoch [1343/2000]: 100%|██████████| 10/10 [00:00<00:00, 26.90it/s, loss=0.996]\n"
     ]
    },
    {
     "name": "stdout",
     "output_type": "stream",
     "text": [
      "Epoch [1343/2000]: Train loss: 1.0511, Valid loss: 1.1157\n"
     ]
    },
    {
     "name": "stderr",
     "output_type": "stream",
     "text": [
      "Epoch [1344/2000]: 100%|██████████| 10/10 [00:00<00:00, 23.97it/s, loss=0.965]\n"
     ]
    },
    {
     "name": "stdout",
     "output_type": "stream",
     "text": [
      "Epoch [1344/2000]: Train loss: 1.0471, Valid loss: 1.1064\n"
     ]
    },
    {
     "name": "stderr",
     "output_type": "stream",
     "text": [
      "Epoch [1345/2000]: 100%|██████████| 10/10 [00:00<00:00, 11.31it/s, loss=0.943]\n"
     ]
    },
    {
     "name": "stdout",
     "output_type": "stream",
     "text": [
      "Epoch [1345/2000]: Train loss: 1.0513, Valid loss: 1.0211\n"
     ]
    },
    {
     "name": "stderr",
     "output_type": "stream",
     "text": [
      "Epoch [1346/2000]: 100%|██████████| 10/10 [00:01<00:00,  6.33it/s, loss=1.37]\n"
     ]
    },
    {
     "name": "stdout",
     "output_type": "stream",
     "text": [
      "Epoch [1346/2000]: Train loss: 1.0749, Valid loss: 1.0901\n"
     ]
    },
    {
     "name": "stderr",
     "output_type": "stream",
     "text": [
      "Epoch [1347/2000]: 100%|██████████| 10/10 [00:00<00:00, 10.17it/s, loss=0.887]\n"
     ]
    },
    {
     "name": "stdout",
     "output_type": "stream",
     "text": [
      "Epoch [1347/2000]: Train loss: 1.0438, Valid loss: 1.1063\n"
     ]
    },
    {
     "name": "stderr",
     "output_type": "stream",
     "text": [
      "Epoch [1348/2000]: 100%|██████████| 10/10 [00:00<00:00, 40.38it/s, loss=0.849]\n"
     ]
    },
    {
     "name": "stdout",
     "output_type": "stream",
     "text": [
      "Epoch [1348/2000]: Train loss: 1.0378, Valid loss: 1.0805\n"
     ]
    },
    {
     "name": "stderr",
     "output_type": "stream",
     "text": [
      "Epoch [1349/2000]: 100%|██████████| 10/10 [00:00<00:00, 31.34it/s, loss=0.964]\n"
     ]
    },
    {
     "name": "stdout",
     "output_type": "stream",
     "text": [
      "Epoch [1349/2000]: Train loss: 1.0437, Valid loss: 1.1315\n"
     ]
    },
    {
     "name": "stderr",
     "output_type": "stream",
     "text": [
      "Epoch [1350/2000]: 100%|██████████| 10/10 [00:00<00:00, 26.36it/s, loss=1.02]\n"
     ]
    },
    {
     "name": "stdout",
     "output_type": "stream",
     "text": [
      "Epoch [1350/2000]: Train loss: 1.0559, Valid loss: 1.0866\n"
     ]
    },
    {
     "name": "stderr",
     "output_type": "stream",
     "text": [
      "Epoch [1351/2000]: 100%|██████████| 10/10 [00:00<00:00, 27.87it/s, loss=0.858]\n"
     ]
    },
    {
     "name": "stdout",
     "output_type": "stream",
     "text": [
      "Epoch [1351/2000]: Train loss: 1.0496, Valid loss: 1.1307\n"
     ]
    },
    {
     "name": "stderr",
     "output_type": "stream",
     "text": [
      "Epoch [1352/2000]: 100%|██████████| 10/10 [00:00<00:00, 21.19it/s, loss=0.675]\n"
     ]
    },
    {
     "name": "stdout",
     "output_type": "stream",
     "text": [
      "Epoch [1352/2000]: Train loss: 1.0314, Valid loss: 1.1245\n"
     ]
    },
    {
     "name": "stderr",
     "output_type": "stream",
     "text": [
      "Epoch [1353/2000]: 100%|██████████| 10/10 [00:00<00:00, 36.10it/s, loss=1.09]\n"
     ]
    },
    {
     "name": "stdout",
     "output_type": "stream",
     "text": [
      "Epoch [1353/2000]: Train loss: 1.0501, Valid loss: 1.1170\n"
     ]
    },
    {
     "name": "stderr",
     "output_type": "stream",
     "text": [
      "Epoch [1354/2000]: 100%|██████████| 10/10 [00:00<00:00, 25.01it/s, loss=1.26]\n"
     ]
    },
    {
     "name": "stdout",
     "output_type": "stream",
     "text": [
      "Epoch [1354/2000]: Train loss: 1.0604, Valid loss: 1.0975\n"
     ]
    },
    {
     "name": "stderr",
     "output_type": "stream",
     "text": [
      "Epoch [1355/2000]: 100%|██████████| 10/10 [00:00<00:00, 20.14it/s, loss=0.949]\n"
     ]
    },
    {
     "name": "stdout",
     "output_type": "stream",
     "text": [
      "Epoch [1355/2000]: Train loss: 1.0387, Valid loss: 1.1344\n"
     ]
    },
    {
     "name": "stderr",
     "output_type": "stream",
     "text": [
      "Epoch [1356/2000]: 100%|██████████| 10/10 [00:00<00:00, 16.07it/s, loss=1.11]\n"
     ]
    },
    {
     "name": "stdout",
     "output_type": "stream",
     "text": [
      "Epoch [1356/2000]: Train loss: 1.0673, Valid loss: 1.0459\n"
     ]
    },
    {
     "name": "stderr",
     "output_type": "stream",
     "text": [
      "Epoch [1357/2000]: 100%|██████████| 10/10 [00:00<00:00, 39.98it/s, loss=1.07]\n"
     ]
    },
    {
     "name": "stdout",
     "output_type": "stream",
     "text": [
      "Epoch [1357/2000]: Train loss: 1.0560, Valid loss: 1.0401\n"
     ]
    },
    {
     "name": "stderr",
     "output_type": "stream",
     "text": [
      "Epoch [1358/2000]: 100%|██████████| 10/10 [00:00<00:00, 50.03it/s, loss=1.08]\n"
     ]
    },
    {
     "name": "stdout",
     "output_type": "stream",
     "text": [
      "Epoch [1358/2000]: Train loss: 1.0512, Valid loss: 1.0186\n"
     ]
    },
    {
     "name": "stderr",
     "output_type": "stream",
     "text": [
      "Epoch [1359/2000]: 100%|██████████| 10/10 [00:00<00:00, 19.15it/s, loss=1.01]\n"
     ]
    },
    {
     "name": "stdout",
     "output_type": "stream",
     "text": [
      "Epoch [1359/2000]: Train loss: 1.0465, Valid loss: 1.1343\n"
     ]
    },
    {
     "name": "stderr",
     "output_type": "stream",
     "text": [
      "Epoch [1360/2000]: 100%|██████████| 10/10 [00:00<00:00, 18.19it/s, loss=1.09]\n"
     ]
    },
    {
     "name": "stdout",
     "output_type": "stream",
     "text": [
      "Epoch [1360/2000]: Train loss: 1.0489, Valid loss: 1.0520\n"
     ]
    },
    {
     "name": "stderr",
     "output_type": "stream",
     "text": [
      "Epoch [1361/2000]: 100%|██████████| 10/10 [00:00<00:00, 14.17it/s, loss=0.837]\n"
     ]
    },
    {
     "name": "stdout",
     "output_type": "stream",
     "text": [
      "Epoch [1361/2000]: Train loss: 1.0306, Valid loss: 1.0625\n"
     ]
    },
    {
     "name": "stderr",
     "output_type": "stream",
     "text": [
      "Epoch [1362/2000]: 100%|██████████| 10/10 [00:00<00:00, 13.35it/s, loss=1.34]\n"
     ]
    },
    {
     "name": "stdout",
     "output_type": "stream",
     "text": [
      "Epoch [1362/2000]: Train loss: 1.0633, Valid loss: 1.0912\n"
     ]
    },
    {
     "name": "stderr",
     "output_type": "stream",
     "text": [
      "Epoch [1363/2000]: 100%|██████████| 10/10 [00:00<00:00, 19.87it/s, loss=1.21]\n"
     ]
    },
    {
     "name": "stdout",
     "output_type": "stream",
     "text": [
      "Epoch [1363/2000]: Train loss: 1.0611, Valid loss: 1.0333\n"
     ]
    },
    {
     "name": "stderr",
     "output_type": "stream",
     "text": [
      "Epoch [1364/2000]: 100%|██████████| 10/10 [00:00<00:00, 19.97it/s, loss=1.25]\n"
     ]
    },
    {
     "name": "stdout",
     "output_type": "stream",
     "text": [
      "Epoch [1364/2000]: Train loss: 1.0592, Valid loss: 1.0714\n"
     ]
    },
    {
     "name": "stderr",
     "output_type": "stream",
     "text": [
      "Epoch [1365/2000]: 100%|██████████| 10/10 [00:00<00:00, 14.96it/s, loss=0.835]\n"
     ]
    },
    {
     "name": "stdout",
     "output_type": "stream",
     "text": [
      "Epoch [1365/2000]: Train loss: 1.0374, Valid loss: 1.0212\n"
     ]
    },
    {
     "name": "stderr",
     "output_type": "stream",
     "text": [
      "Epoch [1366/2000]: 100%|██████████| 10/10 [00:00<00:00, 33.75it/s, loss=1.27]\n"
     ]
    },
    {
     "name": "stdout",
     "output_type": "stream",
     "text": [
      "Epoch [1366/2000]: Train loss: 1.0547, Valid loss: 1.1529\n"
     ]
    },
    {
     "name": "stderr",
     "output_type": "stream",
     "text": [
      "Epoch [1367/2000]: 100%|██████████| 10/10 [00:00<00:00, 16.91it/s, loss=1.12]\n"
     ]
    },
    {
     "name": "stdout",
     "output_type": "stream",
     "text": [
      "Epoch [1367/2000]: Train loss: 1.0506, Valid loss: 1.0827\n"
     ]
    },
    {
     "name": "stderr",
     "output_type": "stream",
     "text": [
      "Epoch [1368/2000]: 100%|██████████| 10/10 [00:00<00:00, 45.97it/s, loss=0.936]\n"
     ]
    },
    {
     "name": "stdout",
     "output_type": "stream",
     "text": [
      "Epoch [1368/2000]: Train loss: 1.0392, Valid loss: 1.0269\n"
     ]
    },
    {
     "name": "stderr",
     "output_type": "stream",
     "text": [
      "Epoch [1369/2000]: 100%|██████████| 10/10 [00:00<00:00, 38.71it/s, loss=1.04]\n"
     ]
    },
    {
     "name": "stdout",
     "output_type": "stream",
     "text": [
      "Epoch [1369/2000]: Train loss: 1.0488, Valid loss: 1.1181\n"
     ]
    },
    {
     "name": "stderr",
     "output_type": "stream",
     "text": [
      "Epoch [1370/2000]: 100%|██████████| 10/10 [00:00<00:00, 24.04it/s, loss=0.909]\n"
     ]
    },
    {
     "name": "stdout",
     "output_type": "stream",
     "text": [
      "Epoch [1370/2000]: Train loss: 1.0541, Valid loss: 1.0984\n"
     ]
    },
    {
     "name": "stderr",
     "output_type": "stream",
     "text": [
      "Epoch [1371/2000]: 100%|██████████| 10/10 [00:00<00:00, 14.91it/s, loss=0.866]\n"
     ]
    },
    {
     "name": "stdout",
     "output_type": "stream",
     "text": [
      "Epoch [1371/2000]: Train loss: 1.0400, Valid loss: 1.1250\n"
     ]
    },
    {
     "name": "stderr",
     "output_type": "stream",
     "text": [
      "Epoch [1372/2000]: 100%|██████████| 10/10 [00:00<00:00, 11.80it/s, loss=1.13]\n"
     ]
    },
    {
     "name": "stdout",
     "output_type": "stream",
     "text": [
      "Epoch [1372/2000]: Train loss: 1.0657, Valid loss: 1.1098\n"
     ]
    },
    {
     "name": "stderr",
     "output_type": "stream",
     "text": [
      "Epoch [1373/2000]: 100%|██████████| 10/10 [00:00<00:00, 28.03it/s, loss=1.11]\n"
     ]
    },
    {
     "name": "stdout",
     "output_type": "stream",
     "text": [
      "Epoch [1373/2000]: Train loss: 1.0489, Valid loss: 1.0575\n"
     ]
    },
    {
     "name": "stderr",
     "output_type": "stream",
     "text": [
      "Epoch [1374/2000]: 100%|██████████| 10/10 [00:00<00:00, 41.36it/s, loss=1.12]\n"
     ]
    },
    {
     "name": "stdout",
     "output_type": "stream",
     "text": [
      "Epoch [1374/2000]: Train loss: 1.0673, Valid loss: 1.0226\n"
     ]
    },
    {
     "name": "stderr",
     "output_type": "stream",
     "text": [
      "Epoch [1375/2000]: 100%|██████████| 10/10 [00:00<00:00, 12.09it/s, loss=1.3] \n"
     ]
    },
    {
     "name": "stdout",
     "output_type": "stream",
     "text": [
      "Epoch [1375/2000]: Train loss: 1.0652, Valid loss: 1.1069\n"
     ]
    },
    {
     "name": "stderr",
     "output_type": "stream",
     "text": [
      "Epoch [1376/2000]: 100%|██████████| 10/10 [00:00<00:00, 21.45it/s, loss=0.798]\n"
     ]
    },
    {
     "name": "stdout",
     "output_type": "stream",
     "text": [
      "Epoch [1376/2000]: Train loss: 1.0319, Valid loss: 1.0806\n"
     ]
    },
    {
     "name": "stderr",
     "output_type": "stream",
     "text": [
      "Epoch [1377/2000]: 100%|██████████| 10/10 [00:00<00:00, 21.24it/s, loss=0.722]\n"
     ]
    },
    {
     "name": "stdout",
     "output_type": "stream",
     "text": [
      "Epoch [1377/2000]: Train loss: 1.0263, Valid loss: 1.0503\n"
     ]
    },
    {
     "name": "stderr",
     "output_type": "stream",
     "text": [
      "Epoch [1378/2000]: 100%|██████████| 10/10 [00:00<00:00, 28.27it/s, loss=0.832]\n"
     ]
    },
    {
     "name": "stdout",
     "output_type": "stream",
     "text": [
      "Epoch [1378/2000]: Train loss: 1.0365, Valid loss: 1.0651\n"
     ]
    },
    {
     "name": "stderr",
     "output_type": "stream",
     "text": [
      "Epoch [1379/2000]: 100%|██████████| 10/10 [00:00<00:00, 30.14it/s, loss=1.51]\n"
     ]
    },
    {
     "name": "stdout",
     "output_type": "stream",
     "text": [
      "Epoch [1379/2000]: Train loss: 1.0676, Valid loss: 1.0675\n"
     ]
    },
    {
     "name": "stderr",
     "output_type": "stream",
     "text": [
      "Epoch [1380/2000]: 100%|██████████| 10/10 [00:00<00:00, 20.59it/s, loss=0.804]\n"
     ]
    },
    {
     "name": "stdout",
     "output_type": "stream",
     "text": [
      "Epoch [1380/2000]: Train loss: 1.0294, Valid loss: 1.0795\n"
     ]
    },
    {
     "name": "stderr",
     "output_type": "stream",
     "text": [
      "Epoch [1381/2000]: 100%|██████████| 10/10 [00:00<00:00, 33.09it/s, loss=0.851]\n"
     ]
    },
    {
     "name": "stdout",
     "output_type": "stream",
     "text": [
      "Epoch [1381/2000]: Train loss: 1.0320, Valid loss: 1.0108\n"
     ]
    },
    {
     "name": "stderr",
     "output_type": "stream",
     "text": [
      "Epoch [1382/2000]: 100%|██████████| 10/10 [00:00<00:00, 29.50it/s, loss=1.11]\n"
     ]
    },
    {
     "name": "stdout",
     "output_type": "stream",
     "text": [
      "Epoch [1382/2000]: Train loss: 1.0426, Valid loss: 1.0344\n"
     ]
    },
    {
     "name": "stderr",
     "output_type": "stream",
     "text": [
      "Epoch [1383/2000]: 100%|██████████| 10/10 [00:00<00:00, 37.85it/s, loss=1.29]\n"
     ]
    },
    {
     "name": "stdout",
     "output_type": "stream",
     "text": [
      "Epoch [1383/2000]: Train loss: 1.0533, Valid loss: 1.0894\n"
     ]
    },
    {
     "name": "stderr",
     "output_type": "stream",
     "text": [
      "Epoch [1384/2000]: 100%|██████████| 10/10 [00:00<00:00, 35.69it/s, loss=1.09]\n"
     ]
    },
    {
     "name": "stdout",
     "output_type": "stream",
     "text": [
      "Epoch [1384/2000]: Train loss: 1.0459, Valid loss: 1.0655\n"
     ]
    },
    {
     "name": "stderr",
     "output_type": "stream",
     "text": [
      "Epoch [1385/2000]: 100%|██████████| 10/10 [00:00<00:00, 45.06it/s, loss=1.17]\n"
     ]
    },
    {
     "name": "stdout",
     "output_type": "stream",
     "text": [
      "Epoch [1385/2000]: Train loss: 1.0538, Valid loss: 1.0851\n"
     ]
    },
    {
     "name": "stderr",
     "output_type": "stream",
     "text": [
      "Epoch [1386/2000]: 100%|██████████| 10/10 [00:00<00:00, 45.25it/s, loss=0.935]\n"
     ]
    },
    {
     "name": "stdout",
     "output_type": "stream",
     "text": [
      "Epoch [1386/2000]: Train loss: 1.0320, Valid loss: 1.0649\n"
     ]
    },
    {
     "name": "stderr",
     "output_type": "stream",
     "text": [
      "Epoch [1387/2000]: 100%|██████████| 10/10 [00:00<00:00, 15.89it/s, loss=1.01]\n"
     ]
    },
    {
     "name": "stdout",
     "output_type": "stream",
     "text": [
      "Epoch [1387/2000]: Train loss: 1.0356, Valid loss: 1.0614\n"
     ]
    },
    {
     "name": "stderr",
     "output_type": "stream",
     "text": [
      "Epoch [1388/2000]: 100%|██████████| 10/10 [00:00<00:00, 21.51it/s, loss=0.981]\n"
     ]
    },
    {
     "name": "stdout",
     "output_type": "stream",
     "text": [
      "Epoch [1388/2000]: Train loss: 1.0382, Valid loss: 1.0589\n"
     ]
    },
    {
     "name": "stderr",
     "output_type": "stream",
     "text": [
      "Epoch [1389/2000]: 100%|██████████| 10/10 [00:00<00:00, 25.27it/s, loss=1.03]\n"
     ]
    },
    {
     "name": "stdout",
     "output_type": "stream",
     "text": [
      "Epoch [1389/2000]: Train loss: 1.0602, Valid loss: 1.0538\n"
     ]
    },
    {
     "name": "stderr",
     "output_type": "stream",
     "text": [
      "Epoch [1390/2000]: 100%|██████████| 10/10 [00:00<00:00, 46.74it/s, loss=0.91]\n"
     ]
    },
    {
     "name": "stdout",
     "output_type": "stream",
     "text": [
      "Epoch [1390/2000]: Train loss: 1.0375, Valid loss: 1.1246\n"
     ]
    },
    {
     "name": "stderr",
     "output_type": "stream",
     "text": [
      "Epoch [1391/2000]: 100%|██████████| 10/10 [00:00<00:00, 13.02it/s, loss=0.936]\n"
     ]
    },
    {
     "name": "stdout",
     "output_type": "stream",
     "text": [
      "Epoch [1391/2000]: Train loss: 1.0424, Valid loss: 1.0705\n"
     ]
    },
    {
     "name": "stderr",
     "output_type": "stream",
     "text": [
      "Epoch [1392/2000]: 100%|██████████| 10/10 [00:00<00:00, 36.97it/s, loss=1.14]\n"
     ]
    },
    {
     "name": "stdout",
     "output_type": "stream",
     "text": [
      "Epoch [1392/2000]: Train loss: 1.0612, Valid loss: 1.0014\n"
     ]
    },
    {
     "name": "stderr",
     "output_type": "stream",
     "text": [
      "Epoch [1393/2000]: 100%|██████████| 10/10 [00:00<00:00, 34.24it/s, loss=1.11]\n"
     ]
    },
    {
     "name": "stdout",
     "output_type": "stream",
     "text": [
      "Epoch [1393/2000]: Train loss: 1.0510, Valid loss: 1.1030\n"
     ]
    },
    {
     "name": "stderr",
     "output_type": "stream",
     "text": [
      "Epoch [1394/2000]: 100%|██████████| 10/10 [00:00<00:00, 72.08it/s, loss=0.949]\n"
     ]
    },
    {
     "name": "stdout",
     "output_type": "stream",
     "text": [
      "Epoch [1394/2000]: Train loss: 1.0349, Valid loss: 1.0286\n"
     ]
    },
    {
     "name": "stderr",
     "output_type": "stream",
     "text": [
      "Epoch [1395/2000]: 100%|██████████| 10/10 [00:00<00:00, 57.69it/s, loss=1.08]\n"
     ]
    },
    {
     "name": "stdout",
     "output_type": "stream",
     "text": [
      "Epoch [1395/2000]: Train loss: 1.0402, Valid loss: 0.9942\n"
     ]
    },
    {
     "name": "stderr",
     "output_type": "stream",
     "text": [
      "Epoch [1396/2000]: 100%|██████████| 10/10 [00:00<00:00, 11.66it/s, loss=1]   \n"
     ]
    },
    {
     "name": "stdout",
     "output_type": "stream",
     "text": [
      "Epoch [1396/2000]: Train loss: 1.0454, Valid loss: 1.0735\n"
     ]
    },
    {
     "name": "stderr",
     "output_type": "stream",
     "text": [
      "Epoch [1397/2000]: 100%|██████████| 10/10 [00:01<00:00,  6.13it/s, loss=0.956]\n"
     ]
    },
    {
     "name": "stdout",
     "output_type": "stream",
     "text": [
      "Epoch [1397/2000]: Train loss: 1.0416, Valid loss: 1.1098\n"
     ]
    },
    {
     "name": "stderr",
     "output_type": "stream",
     "text": [
      "Epoch [1398/2000]: 100%|██████████| 10/10 [00:00<00:00, 18.31it/s, loss=1.29]\n"
     ]
    },
    {
     "name": "stdout",
     "output_type": "stream",
     "text": [
      "Epoch [1398/2000]: Train loss: 1.0731, Valid loss: 1.1071\n"
     ]
    },
    {
     "name": "stderr",
     "output_type": "stream",
     "text": [
      "Epoch [1399/2000]: 100%|██████████| 10/10 [00:00<00:00, 21.71it/s, loss=1.27]\n"
     ]
    },
    {
     "name": "stdout",
     "output_type": "stream",
     "text": [
      "Epoch [1399/2000]: Train loss: 1.0884, Valid loss: 1.1757\n"
     ]
    },
    {
     "name": "stderr",
     "output_type": "stream",
     "text": [
      "Epoch [1400/2000]: 100%|██████████| 10/10 [00:00<00:00, 47.47it/s, loss=1.04]\n"
     ]
    },
    {
     "name": "stdout",
     "output_type": "stream",
     "text": [
      "Epoch [1400/2000]: Train loss: 1.0683, Valid loss: 1.0944\n"
     ]
    },
    {
     "name": "stderr",
     "output_type": "stream",
     "text": [
      "Epoch [1401/2000]: 100%|██████████| 10/10 [00:00<00:00, 39.62it/s, loss=1.06]\n"
     ]
    },
    {
     "name": "stdout",
     "output_type": "stream",
     "text": [
      "Epoch [1401/2000]: Train loss: 1.0554, Valid loss: 1.0344\n"
     ]
    },
    {
     "name": "stderr",
     "output_type": "stream",
     "text": [
      "Epoch [1402/2000]: 100%|██████████| 10/10 [00:00<00:00, 15.90it/s, loss=0.953]\n"
     ]
    },
    {
     "name": "stdout",
     "output_type": "stream",
     "text": [
      "Epoch [1402/2000]: Train loss: 1.0342, Valid loss: 1.0863\n"
     ]
    },
    {
     "name": "stderr",
     "output_type": "stream",
     "text": [
      "Epoch [1403/2000]: 100%|██████████| 10/10 [00:00<00:00, 30.68it/s, loss=1.18]\n"
     ]
    },
    {
     "name": "stdout",
     "output_type": "stream",
     "text": [
      "Epoch [1403/2000]: Train loss: 1.0589, Valid loss: 1.0518\n"
     ]
    },
    {
     "name": "stderr",
     "output_type": "stream",
     "text": [
      "Epoch [1404/2000]: 100%|██████████| 10/10 [00:00<00:00, 23.93it/s, loss=1]   \n"
     ]
    },
    {
     "name": "stdout",
     "output_type": "stream",
     "text": [
      "Epoch [1404/2000]: Train loss: 1.0320, Valid loss: 1.0362\n"
     ]
    },
    {
     "name": "stderr",
     "output_type": "stream",
     "text": [
      "Epoch [1405/2000]: 100%|██████████| 10/10 [00:00<00:00, 23.17it/s, loss=1.22]\n"
     ]
    },
    {
     "name": "stdout",
     "output_type": "stream",
     "text": [
      "Epoch [1405/2000]: Train loss: 1.0458, Valid loss: 1.0937\n"
     ]
    },
    {
     "name": "stderr",
     "output_type": "stream",
     "text": [
      "Epoch [1406/2000]: 100%|██████████| 10/10 [00:00<00:00, 40.20it/s, loss=1.17]\n"
     ]
    },
    {
     "name": "stdout",
     "output_type": "stream",
     "text": [
      "Epoch [1406/2000]: Train loss: 1.0544, Valid loss: 1.0878\n"
     ]
    },
    {
     "name": "stderr",
     "output_type": "stream",
     "text": [
      "Epoch [1407/2000]: 100%|██████████| 10/10 [00:00<00:00, 14.63it/s, loss=0.916]\n"
     ]
    },
    {
     "name": "stdout",
     "output_type": "stream",
     "text": [
      "Epoch [1407/2000]: Train loss: 1.0259, Valid loss: 1.0104\n"
     ]
    },
    {
     "name": "stderr",
     "output_type": "stream",
     "text": [
      "Epoch [1408/2000]: 100%|██████████| 10/10 [00:00<00:00, 26.31it/s, loss=1.32]\n"
     ]
    },
    {
     "name": "stdout",
     "output_type": "stream",
     "text": [
      "Epoch [1408/2000]: Train loss: 1.0498, Valid loss: 1.0793\n"
     ]
    },
    {
     "name": "stderr",
     "output_type": "stream",
     "text": [
      "Epoch [1409/2000]: 100%|██████████| 10/10 [00:00<00:00, 29.59it/s, loss=0.989]\n"
     ]
    },
    {
     "name": "stdout",
     "output_type": "stream",
     "text": [
      "Epoch [1409/2000]: Train loss: 1.0305, Valid loss: 1.0603\n"
     ]
    },
    {
     "name": "stderr",
     "output_type": "stream",
     "text": [
      "Epoch [1410/2000]: 100%|██████████| 10/10 [00:00<00:00, 29.95it/s, loss=1.02]\n"
     ]
    },
    {
     "name": "stdout",
     "output_type": "stream",
     "text": [
      "Epoch [1410/2000]: Train loss: 1.0306, Valid loss: 1.0434\n"
     ]
    },
    {
     "name": "stderr",
     "output_type": "stream",
     "text": [
      "Epoch [1411/2000]: 100%|██████████| 10/10 [00:00<00:00, 16.26it/s, loss=1.36]\n"
     ]
    },
    {
     "name": "stdout",
     "output_type": "stream",
     "text": [
      "Epoch [1411/2000]: Train loss: 1.0539, Valid loss: 1.0537\n"
     ]
    },
    {
     "name": "stderr",
     "output_type": "stream",
     "text": [
      "Epoch [1412/2000]: 100%|██████████| 10/10 [00:00<00:00, 48.87it/s, loss=1.33]\n"
     ]
    },
    {
     "name": "stdout",
     "output_type": "stream",
     "text": [
      "Epoch [1412/2000]: Train loss: 1.0499, Valid loss: 1.0399\n"
     ]
    },
    {
     "name": "stderr",
     "output_type": "stream",
     "text": [
      "Epoch [1413/2000]: 100%|██████████| 10/10 [00:00<00:00, 33.03it/s, loss=1.09]\n"
     ]
    },
    {
     "name": "stdout",
     "output_type": "stream",
     "text": [
      "Epoch [1413/2000]: Train loss: 1.0375, Valid loss: 0.9751\n",
      "Saving model with loss 0.975...\n"
     ]
    },
    {
     "name": "stderr",
     "output_type": "stream",
     "text": [
      "Epoch [1414/2000]: 100%|██████████| 10/10 [00:00<00:00, 28.75it/s, loss=0.852]\n"
     ]
    },
    {
     "name": "stdout",
     "output_type": "stream",
     "text": [
      "Epoch [1414/2000]: Train loss: 1.0241, Valid loss: 1.0003\n"
     ]
    },
    {
     "name": "stderr",
     "output_type": "stream",
     "text": [
      "Epoch [1415/2000]: 100%|██████████| 10/10 [00:00<00:00, 16.23it/s, loss=1.05]\n"
     ]
    },
    {
     "name": "stdout",
     "output_type": "stream",
     "text": [
      "Epoch [1415/2000]: Train loss: 1.0367, Valid loss: 1.0909\n"
     ]
    },
    {
     "name": "stderr",
     "output_type": "stream",
     "text": [
      "Epoch [1416/2000]: 100%|██████████| 10/10 [00:00<00:00, 15.66it/s, loss=1.02]\n"
     ]
    },
    {
     "name": "stdout",
     "output_type": "stream",
     "text": [
      "Epoch [1416/2000]: Train loss: 1.0377, Valid loss: 1.0722\n"
     ]
    },
    {
     "name": "stderr",
     "output_type": "stream",
     "text": [
      "Epoch [1417/2000]: 100%|██████████| 10/10 [00:00<00:00, 38.00it/s, loss=0.846]\n"
     ]
    },
    {
     "name": "stdout",
     "output_type": "stream",
     "text": [
      "Epoch [1417/2000]: Train loss: 1.0247, Valid loss: 1.0360\n"
     ]
    },
    {
     "name": "stderr",
     "output_type": "stream",
     "text": [
      "Epoch [1418/2000]: 100%|██████████| 10/10 [00:00<00:00, 50.14it/s, loss=1.3] \n"
     ]
    },
    {
     "name": "stdout",
     "output_type": "stream",
     "text": [
      "Epoch [1418/2000]: Train loss: 1.0534, Valid loss: 1.0138\n"
     ]
    },
    {
     "name": "stderr",
     "output_type": "stream",
     "text": [
      "Epoch [1419/2000]: 100%|██████████| 10/10 [00:00<00:00, 35.91it/s, loss=1.03]\n"
     ]
    },
    {
     "name": "stdout",
     "output_type": "stream",
     "text": [
      "Epoch [1419/2000]: Train loss: 1.0309, Valid loss: 1.0996\n"
     ]
    },
    {
     "name": "stderr",
     "output_type": "stream",
     "text": [
      "Epoch [1420/2000]: 100%|██████████| 10/10 [00:00<00:00, 16.14it/s, loss=1.25]\n"
     ]
    },
    {
     "name": "stdout",
     "output_type": "stream",
     "text": [
      "Epoch [1420/2000]: Train loss: 1.0488, Valid loss: 1.0280\n"
     ]
    },
    {
     "name": "stderr",
     "output_type": "stream",
     "text": [
      "Epoch [1421/2000]: 100%|██████████| 10/10 [00:00<00:00, 17.02it/s, loss=1.09]\n"
     ]
    },
    {
     "name": "stdout",
     "output_type": "stream",
     "text": [
      "Epoch [1421/2000]: Train loss: 1.0564, Valid loss: 1.0674\n"
     ]
    },
    {
     "name": "stderr",
     "output_type": "stream",
     "text": [
      "Epoch [1422/2000]: 100%|██████████| 10/10 [00:00<00:00, 16.58it/s, loss=0.841]\n"
     ]
    },
    {
     "name": "stdout",
     "output_type": "stream",
     "text": [
      "Epoch [1422/2000]: Train loss: 1.0409, Valid loss: 1.0872\n"
     ]
    },
    {
     "name": "stderr",
     "output_type": "stream",
     "text": [
      "Epoch [1423/2000]: 100%|██████████| 10/10 [00:00<00:00, 20.82it/s, loss=1.33]\n"
     ]
    },
    {
     "name": "stdout",
     "output_type": "stream",
     "text": [
      "Epoch [1423/2000]: Train loss: 1.0513, Valid loss: 0.9993\n"
     ]
    },
    {
     "name": "stderr",
     "output_type": "stream",
     "text": [
      "Epoch [1424/2000]: 100%|██████████| 10/10 [00:00<00:00, 31.66it/s, loss=0.968]\n"
     ]
    },
    {
     "name": "stdout",
     "output_type": "stream",
     "text": [
      "Epoch [1424/2000]: Train loss: 1.0368, Valid loss: 1.0904\n"
     ]
    },
    {
     "name": "stderr",
     "output_type": "stream",
     "text": [
      "Epoch [1425/2000]: 100%|██████████| 10/10 [00:00<00:00, 41.40it/s, loss=1.31]\n"
     ]
    },
    {
     "name": "stdout",
     "output_type": "stream",
     "text": [
      "Epoch [1425/2000]: Train loss: 1.0514, Valid loss: 1.0401\n"
     ]
    },
    {
     "name": "stderr",
     "output_type": "stream",
     "text": [
      "Epoch [1426/2000]: 100%|██████████| 10/10 [00:00<00:00, 40.74it/s, loss=0.863]\n"
     ]
    },
    {
     "name": "stdout",
     "output_type": "stream",
     "text": [
      "Epoch [1426/2000]: Train loss: 1.0240, Valid loss: 1.0197\n"
     ]
    },
    {
     "name": "stderr",
     "output_type": "stream",
     "text": [
      "Epoch [1427/2000]: 100%|██████████| 10/10 [00:00<00:00, 19.89it/s, loss=1.05]\n"
     ]
    },
    {
     "name": "stdout",
     "output_type": "stream",
     "text": [
      "Epoch [1427/2000]: Train loss: 1.0324, Valid loss: 1.0812\n"
     ]
    },
    {
     "name": "stderr",
     "output_type": "stream",
     "text": [
      "Epoch [1428/2000]: 100%|██████████| 10/10 [00:00<00:00, 22.52it/s, loss=0.826]\n"
     ]
    },
    {
     "name": "stdout",
     "output_type": "stream",
     "text": [
      "Epoch [1428/2000]: Train loss: 1.0352, Valid loss: 1.0660\n"
     ]
    },
    {
     "name": "stderr",
     "output_type": "stream",
     "text": [
      "Epoch [1429/2000]: 100%|██████████| 10/10 [00:00<00:00, 23.42it/s, loss=0.862]\n"
     ]
    },
    {
     "name": "stdout",
     "output_type": "stream",
     "text": [
      "Epoch [1429/2000]: Train loss: 1.0262, Valid loss: 1.1032\n"
     ]
    },
    {
     "name": "stderr",
     "output_type": "stream",
     "text": [
      "Epoch [1430/2000]: 100%|██████████| 10/10 [00:00<00:00, 45.34it/s, loss=1.07]\n"
     ]
    },
    {
     "name": "stdout",
     "output_type": "stream",
     "text": [
      "Epoch [1430/2000]: Train loss: 1.0418, Valid loss: 1.0840\n"
     ]
    },
    {
     "name": "stderr",
     "output_type": "stream",
     "text": [
      "Epoch [1431/2000]: 100%|██████████| 10/10 [00:00<00:00, 31.88it/s, loss=0.898]\n"
     ]
    },
    {
     "name": "stdout",
     "output_type": "stream",
     "text": [
      "Epoch [1431/2000]: Train loss: 1.0243, Valid loss: 1.0856\n"
     ]
    },
    {
     "name": "stderr",
     "output_type": "stream",
     "text": [
      "Epoch [1432/2000]: 100%|██████████| 10/10 [00:00<00:00, 28.80it/s, loss=1.13]\n"
     ]
    },
    {
     "name": "stdout",
     "output_type": "stream",
     "text": [
      "Epoch [1432/2000]: Train loss: 1.0427, Valid loss: 1.1007\n"
     ]
    },
    {
     "name": "stderr",
     "output_type": "stream",
     "text": [
      "Epoch [1433/2000]: 100%|██████████| 10/10 [00:00<00:00, 35.24it/s, loss=1.25]\n"
     ]
    },
    {
     "name": "stdout",
     "output_type": "stream",
     "text": [
      "Epoch [1433/2000]: Train loss: 1.0611, Valid loss: 1.1360\n"
     ]
    },
    {
     "name": "stderr",
     "output_type": "stream",
     "text": [
      "Epoch [1434/2000]: 100%|██████████| 10/10 [00:00<00:00, 23.97it/s, loss=1.39]\n"
     ]
    },
    {
     "name": "stdout",
     "output_type": "stream",
     "text": [
      "Epoch [1434/2000]: Train loss: 1.0660, Valid loss: 1.0451\n"
     ]
    },
    {
     "name": "stderr",
     "output_type": "stream",
     "text": [
      "Epoch [1435/2000]: 100%|██████████| 10/10 [00:00<00:00, 12.73it/s, loss=1.1] \n"
     ]
    },
    {
     "name": "stdout",
     "output_type": "stream",
     "text": [
      "Epoch [1435/2000]: Train loss: 1.0357, Valid loss: 1.0088\n"
     ]
    },
    {
     "name": "stderr",
     "output_type": "stream",
     "text": [
      "Epoch [1436/2000]: 100%|██████████| 10/10 [00:00<00:00, 17.27it/s, loss=0.862]\n"
     ]
    },
    {
     "name": "stdout",
     "output_type": "stream",
     "text": [
      "Epoch [1436/2000]: Train loss: 1.0210, Valid loss: 1.0686\n"
     ]
    },
    {
     "name": "stderr",
     "output_type": "stream",
     "text": [
      "Epoch [1437/2000]: 100%|██████████| 10/10 [00:00<00:00, 59.15it/s, loss=0.863]\n"
     ]
    },
    {
     "name": "stdout",
     "output_type": "stream",
     "text": [
      "Epoch [1437/2000]: Train loss: 1.0184, Valid loss: 1.0863\n"
     ]
    },
    {
     "name": "stderr",
     "output_type": "stream",
     "text": [
      "Epoch [1438/2000]: 100%|██████████| 10/10 [00:00<00:00, 29.53it/s, loss=0.942]\n"
     ]
    },
    {
     "name": "stdout",
     "output_type": "stream",
     "text": [
      "Epoch [1438/2000]: Train loss: 1.0248, Valid loss: 1.0365\n"
     ]
    },
    {
     "name": "stderr",
     "output_type": "stream",
     "text": [
      "Epoch [1439/2000]: 100%|██████████| 10/10 [00:00<00:00, 21.59it/s, loss=1.01]\n"
     ]
    },
    {
     "name": "stdout",
     "output_type": "stream",
     "text": [
      "Epoch [1439/2000]: Train loss: 1.0363, Valid loss: 0.9854\n"
     ]
    },
    {
     "name": "stderr",
     "output_type": "stream",
     "text": [
      "Epoch [1440/2000]: 100%|██████████| 10/10 [00:00<00:00, 41.45it/s, loss=0.577]\n"
     ]
    },
    {
     "name": "stdout",
     "output_type": "stream",
     "text": [
      "Epoch [1440/2000]: Train loss: 1.0122, Valid loss: 0.9986\n"
     ]
    },
    {
     "name": "stderr",
     "output_type": "stream",
     "text": [
      "Epoch [1441/2000]: 100%|██████████| 10/10 [00:00<00:00, 23.36it/s, loss=1.31]\n"
     ]
    },
    {
     "name": "stdout",
     "output_type": "stream",
     "text": [
      "Epoch [1441/2000]: Train loss: 1.0498, Valid loss: 1.0678\n"
     ]
    },
    {
     "name": "stderr",
     "output_type": "stream",
     "text": [
      "Epoch [1442/2000]: 100%|██████████| 10/10 [00:00<00:00, 43.86it/s, loss=1.17]\n"
     ]
    },
    {
     "name": "stdout",
     "output_type": "stream",
     "text": [
      "Epoch [1442/2000]: Train loss: 1.0405, Valid loss: 1.0985\n"
     ]
    },
    {
     "name": "stderr",
     "output_type": "stream",
     "text": [
      "Epoch [1443/2000]: 100%|██████████| 10/10 [00:00<00:00, 33.66it/s, loss=1.02]\n"
     ]
    },
    {
     "name": "stdout",
     "output_type": "stream",
     "text": [
      "Epoch [1443/2000]: Train loss: 1.0339, Valid loss: 1.1007\n"
     ]
    },
    {
     "name": "stderr",
     "output_type": "stream",
     "text": [
      "Epoch [1444/2000]: 100%|██████████| 10/10 [00:00<00:00, 27.76it/s, loss=1.22]\n"
     ]
    },
    {
     "name": "stdout",
     "output_type": "stream",
     "text": [
      "Epoch [1444/2000]: Train loss: 1.0408, Valid loss: 1.0751\n"
     ]
    },
    {
     "name": "stderr",
     "output_type": "stream",
     "text": [
      "Epoch [1445/2000]: 100%|██████████| 10/10 [00:00<00:00, 28.46it/s, loss=1.01]\n"
     ]
    },
    {
     "name": "stdout",
     "output_type": "stream",
     "text": [
      "Epoch [1445/2000]: Train loss: 1.0310, Valid loss: 1.0603\n"
     ]
    },
    {
     "name": "stderr",
     "output_type": "stream",
     "text": [
      "Epoch [1446/2000]: 100%|██████████| 10/10 [00:00<00:00, 48.54it/s, loss=1.3] \n"
     ]
    },
    {
     "name": "stdout",
     "output_type": "stream",
     "text": [
      "Epoch [1446/2000]: Train loss: 1.0437, Valid loss: 1.0220\n"
     ]
    },
    {
     "name": "stderr",
     "output_type": "stream",
     "text": [
      "Epoch [1447/2000]: 100%|██████████| 10/10 [00:00<00:00, 18.44it/s, loss=0.976]\n"
     ]
    },
    {
     "name": "stdout",
     "output_type": "stream",
     "text": [
      "Epoch [1447/2000]: Train loss: 1.0232, Valid loss: 1.0349\n"
     ]
    },
    {
     "name": "stderr",
     "output_type": "stream",
     "text": [
      "Epoch [1448/2000]: 100%|██████████| 10/10 [00:00<00:00, 29.53it/s, loss=0.933]\n"
     ]
    },
    {
     "name": "stdout",
     "output_type": "stream",
     "text": [
      "Epoch [1448/2000]: Train loss: 1.0341, Valid loss: 1.0770\n"
     ]
    },
    {
     "name": "stderr",
     "output_type": "stream",
     "text": [
      "Epoch [1449/2000]: 100%|██████████| 10/10 [00:00<00:00, 21.24it/s, loss=0.941]\n"
     ]
    },
    {
     "name": "stdout",
     "output_type": "stream",
     "text": [
      "Epoch [1449/2000]: Train loss: 1.0360, Valid loss: 1.0921\n"
     ]
    },
    {
     "name": "stderr",
     "output_type": "stream",
     "text": [
      "Epoch [1450/2000]: 100%|██████████| 10/10 [00:00<00:00, 28.97it/s, loss=1.12]\n"
     ]
    },
    {
     "name": "stdout",
     "output_type": "stream",
     "text": [
      "Epoch [1450/2000]: Train loss: 1.0304, Valid loss: 1.0042\n"
     ]
    },
    {
     "name": "stderr",
     "output_type": "stream",
     "text": [
      "Epoch [1451/2000]: 100%|██████████| 10/10 [00:00<00:00, 28.21it/s, loss=0.91]\n"
     ]
    },
    {
     "name": "stdout",
     "output_type": "stream",
     "text": [
      "Epoch [1451/2000]: Train loss: 1.0193, Valid loss: 1.0576\n"
     ]
    },
    {
     "name": "stderr",
     "output_type": "stream",
     "text": [
      "Epoch [1452/2000]: 100%|██████████| 10/10 [00:00<00:00, 20.88it/s, loss=0.811]\n"
     ]
    },
    {
     "name": "stdout",
     "output_type": "stream",
     "text": [
      "Epoch [1452/2000]: Train loss: 1.0132, Valid loss: 1.1057\n"
     ]
    },
    {
     "name": "stderr",
     "output_type": "stream",
     "text": [
      "Epoch [1453/2000]: 100%|██████████| 10/10 [00:00<00:00, 15.11it/s, loss=0.797]\n"
     ]
    },
    {
     "name": "stdout",
     "output_type": "stream",
     "text": [
      "Epoch [1453/2000]: Train loss: 1.0116, Valid loss: 1.0253\n"
     ]
    },
    {
     "name": "stderr",
     "output_type": "stream",
     "text": [
      "Epoch [1454/2000]: 100%|██████████| 10/10 [00:00<00:00, 48.28it/s, loss=0.81]\n"
     ]
    },
    {
     "name": "stdout",
     "output_type": "stream",
     "text": [
      "Epoch [1454/2000]: Train loss: 1.0133, Valid loss: 1.0610\n"
     ]
    },
    {
     "name": "stderr",
     "output_type": "stream",
     "text": [
      "Epoch [1455/2000]: 100%|██████████| 10/10 [00:00<00:00, 19.58it/s, loss=1.39]\n"
     ]
    },
    {
     "name": "stdout",
     "output_type": "stream",
     "text": [
      "Epoch [1455/2000]: Train loss: 1.0522, Valid loss: 1.0505\n"
     ]
    },
    {
     "name": "stderr",
     "output_type": "stream",
     "text": [
      "Epoch [1456/2000]: 100%|██████████| 10/10 [00:00<00:00, 38.19it/s, loss=1.04]\n"
     ]
    },
    {
     "name": "stdout",
     "output_type": "stream",
     "text": [
      "Epoch [1456/2000]: Train loss: 1.0291, Valid loss: 1.0727\n"
     ]
    },
    {
     "name": "stderr",
     "output_type": "stream",
     "text": [
      "Epoch [1457/2000]: 100%|██████████| 10/10 [00:00<00:00, 25.70it/s, loss=0.992]\n"
     ]
    },
    {
     "name": "stdout",
     "output_type": "stream",
     "text": [
      "Epoch [1457/2000]: Train loss: 1.0303, Valid loss: 1.0471\n"
     ]
    },
    {
     "name": "stderr",
     "output_type": "stream",
     "text": [
      "Epoch [1458/2000]: 100%|██████████| 10/10 [00:00<00:00, 20.00it/s, loss=1.06]\n"
     ]
    },
    {
     "name": "stdout",
     "output_type": "stream",
     "text": [
      "Epoch [1458/2000]: Train loss: 1.0307, Valid loss: 1.0872\n"
     ]
    },
    {
     "name": "stderr",
     "output_type": "stream",
     "text": [
      "Epoch [1459/2000]: 100%|██████████| 10/10 [00:00<00:00, 26.01it/s, loss=1.06]\n"
     ]
    },
    {
     "name": "stdout",
     "output_type": "stream",
     "text": [
      "Epoch [1459/2000]: Train loss: 1.0317, Valid loss: 1.0041\n"
     ]
    },
    {
     "name": "stderr",
     "output_type": "stream",
     "text": [
      "Epoch [1460/2000]: 100%|██████████| 10/10 [00:00<00:00, 16.90it/s, loss=1.29]\n"
     ]
    },
    {
     "name": "stdout",
     "output_type": "stream",
     "text": [
      "Epoch [1460/2000]: Train loss: 1.0406, Valid loss: 0.9972\n"
     ]
    },
    {
     "name": "stderr",
     "output_type": "stream",
     "text": [
      "Epoch [1461/2000]: 100%|██████████| 10/10 [00:00<00:00, 41.27it/s, loss=0.956]\n"
     ]
    },
    {
     "name": "stdout",
     "output_type": "stream",
     "text": [
      "Epoch [1461/2000]: Train loss: 1.0221, Valid loss: 1.0466\n"
     ]
    },
    {
     "name": "stderr",
     "output_type": "stream",
     "text": [
      "Epoch [1462/2000]: 100%|██████████| 10/10 [00:00<00:00, 43.38it/s, loss=0.8] \n"
     ]
    },
    {
     "name": "stdout",
     "output_type": "stream",
     "text": [
      "Epoch [1462/2000]: Train loss: 1.0100, Valid loss: 1.0153\n"
     ]
    },
    {
     "name": "stderr",
     "output_type": "stream",
     "text": [
      "Epoch [1463/2000]: 100%|██████████| 10/10 [00:00<00:00, 17.94it/s, loss=1.01]\n"
     ]
    },
    {
     "name": "stdout",
     "output_type": "stream",
     "text": [
      "Epoch [1463/2000]: Train loss: 1.0282, Valid loss: 1.0604\n"
     ]
    },
    {
     "name": "stderr",
     "output_type": "stream",
     "text": [
      "Epoch [1464/2000]: 100%|██████████| 10/10 [00:00<00:00, 17.62it/s, loss=1.18]\n"
     ]
    },
    {
     "name": "stdout",
     "output_type": "stream",
     "text": [
      "Epoch [1464/2000]: Train loss: 1.0393, Valid loss: 1.0347\n"
     ]
    },
    {
     "name": "stderr",
     "output_type": "stream",
     "text": [
      "Epoch [1465/2000]: 100%|██████████| 10/10 [00:00<00:00, 31.31it/s, loss=1.02]\n"
     ]
    },
    {
     "name": "stdout",
     "output_type": "stream",
     "text": [
      "Epoch [1465/2000]: Train loss: 1.0235, Valid loss: 0.9799\n"
     ]
    },
    {
     "name": "stderr",
     "output_type": "stream",
     "text": [
      "Epoch [1466/2000]: 100%|██████████| 10/10 [00:00<00:00, 18.30it/s, loss=0.978]\n"
     ]
    },
    {
     "name": "stdout",
     "output_type": "stream",
     "text": [
      "Epoch [1466/2000]: Train loss: 1.0213, Valid loss: 1.0184\n"
     ]
    },
    {
     "name": "stderr",
     "output_type": "stream",
     "text": [
      "Epoch [1467/2000]: 100%|██████████| 10/10 [00:00<00:00, 21.15it/s, loss=0.981]\n"
     ]
    },
    {
     "name": "stdout",
     "output_type": "stream",
     "text": [
      "Epoch [1467/2000]: Train loss: 1.0202, Valid loss: 1.0256\n"
     ]
    },
    {
     "name": "stderr",
     "output_type": "stream",
     "text": [
      "Epoch [1468/2000]: 100%|██████████| 10/10 [00:00<00:00, 15.95it/s, loss=0.664]\n"
     ]
    },
    {
     "name": "stdout",
     "output_type": "stream",
     "text": [
      "Epoch [1468/2000]: Train loss: 1.0030, Valid loss: 1.0180\n"
     ]
    },
    {
     "name": "stderr",
     "output_type": "stream",
     "text": [
      "Epoch [1469/2000]: 100%|██████████| 10/10 [00:00<00:00, 17.90it/s, loss=1.15]\n"
     ]
    },
    {
     "name": "stdout",
     "output_type": "stream",
     "text": [
      "Epoch [1469/2000]: Train loss: 1.0323, Valid loss: 1.0615\n"
     ]
    },
    {
     "name": "stderr",
     "output_type": "stream",
     "text": [
      "Epoch [1470/2000]: 100%|██████████| 10/10 [00:00<00:00, 15.15it/s, loss=1.1] \n"
     ]
    },
    {
     "name": "stdout",
     "output_type": "stream",
     "text": [
      "Epoch [1470/2000]: Train loss: 1.0287, Valid loss: 1.1309\n"
     ]
    },
    {
     "name": "stderr",
     "output_type": "stream",
     "text": [
      "Epoch [1471/2000]: 100%|██████████| 10/10 [00:00<00:00, 16.36it/s, loss=1.08]\n"
     ]
    },
    {
     "name": "stdout",
     "output_type": "stream",
     "text": [
      "Epoch [1471/2000]: Train loss: 1.0393, Valid loss: 1.0212\n"
     ]
    },
    {
     "name": "stderr",
     "output_type": "stream",
     "text": [
      "Epoch [1472/2000]: 100%|██████████| 10/10 [00:00<00:00, 27.77it/s, loss=1.01]\n"
     ]
    },
    {
     "name": "stdout",
     "output_type": "stream",
     "text": [
      "Epoch [1472/2000]: Train loss: 1.0237, Valid loss: 1.0731\n"
     ]
    },
    {
     "name": "stderr",
     "output_type": "stream",
     "text": [
      "Epoch [1473/2000]: 100%|██████████| 10/10 [00:00<00:00, 26.42it/s, loss=0.797]\n"
     ]
    },
    {
     "name": "stdout",
     "output_type": "stream",
     "text": [
      "Epoch [1473/2000]: Train loss: 1.0124, Valid loss: 1.0015\n"
     ]
    },
    {
     "name": "stderr",
     "output_type": "stream",
     "text": [
      "Epoch [1474/2000]: 100%|██████████| 10/10 [00:00<00:00, 19.83it/s, loss=0.921]\n"
     ]
    },
    {
     "name": "stdout",
     "output_type": "stream",
     "text": [
      "Epoch [1474/2000]: Train loss: 1.0166, Valid loss: 1.0153\n"
     ]
    },
    {
     "name": "stderr",
     "output_type": "stream",
     "text": [
      "Epoch [1475/2000]: 100%|██████████| 10/10 [00:00<00:00, 23.97it/s, loss=1.14]\n"
     ]
    },
    {
     "name": "stdout",
     "output_type": "stream",
     "text": [
      "Epoch [1475/2000]: Train loss: 1.0323, Valid loss: 1.0304\n"
     ]
    },
    {
     "name": "stderr",
     "output_type": "stream",
     "text": [
      "Epoch [1476/2000]: 100%|██████████| 10/10 [00:00<00:00, 27.02it/s, loss=0.947]\n"
     ]
    },
    {
     "name": "stdout",
     "output_type": "stream",
     "text": [
      "Epoch [1476/2000]: Train loss: 1.0255, Valid loss: 1.0095\n"
     ]
    },
    {
     "name": "stderr",
     "output_type": "stream",
     "text": [
      "Epoch [1477/2000]: 100%|██████████| 10/10 [00:00<00:00, 26.17it/s, loss=1.18]\n"
     ]
    },
    {
     "name": "stdout",
     "output_type": "stream",
     "text": [
      "Epoch [1477/2000]: Train loss: 1.0324, Valid loss: 1.1343\n"
     ]
    },
    {
     "name": "stderr",
     "output_type": "stream",
     "text": [
      "Epoch [1478/2000]: 100%|██████████| 10/10 [00:00<00:00, 21.93it/s, loss=0.842]\n"
     ]
    },
    {
     "name": "stdout",
     "output_type": "stream",
     "text": [
      "Epoch [1478/2000]: Train loss: 1.0161, Valid loss: 1.0452\n"
     ]
    },
    {
     "name": "stderr",
     "output_type": "stream",
     "text": [
      "Epoch [1479/2000]: 100%|██████████| 10/10 [00:00<00:00, 26.12it/s, loss=0.934]\n"
     ]
    },
    {
     "name": "stdout",
     "output_type": "stream",
     "text": [
      "Epoch [1479/2000]: Train loss: 1.0343, Valid loss: 1.0623\n"
     ]
    },
    {
     "name": "stderr",
     "output_type": "stream",
     "text": [
      "Epoch [1480/2000]: 100%|██████████| 10/10 [00:00<00:00, 21.33it/s, loss=1.02]\n"
     ]
    },
    {
     "name": "stdout",
     "output_type": "stream",
     "text": [
      "Epoch [1480/2000]: Train loss: 1.0263, Valid loss: 1.0258\n"
     ]
    },
    {
     "name": "stderr",
     "output_type": "stream",
     "text": [
      "Epoch [1481/2000]: 100%|██████████| 10/10 [00:00<00:00, 16.22it/s, loss=0.8] \n"
     ]
    },
    {
     "name": "stdout",
     "output_type": "stream",
     "text": [
      "Epoch [1481/2000]: Train loss: 1.0084, Valid loss: 1.0618\n"
     ]
    },
    {
     "name": "stderr",
     "output_type": "stream",
     "text": [
      "Epoch [1482/2000]: 100%|██████████| 10/10 [00:00<00:00, 12.30it/s, loss=0.919]\n"
     ]
    },
    {
     "name": "stdout",
     "output_type": "stream",
     "text": [
      "Epoch [1482/2000]: Train loss: 1.0215, Valid loss: 1.0444\n"
     ]
    },
    {
     "name": "stderr",
     "output_type": "stream",
     "text": [
      "Epoch [1483/2000]: 100%|██████████| 10/10 [00:00<00:00, 37.18it/s, loss=0.875]\n"
     ]
    },
    {
     "name": "stdout",
     "output_type": "stream",
     "text": [
      "Epoch [1483/2000]: Train loss: 1.0179, Valid loss: 1.0788\n"
     ]
    },
    {
     "name": "stderr",
     "output_type": "stream",
     "text": [
      "Epoch [1484/2000]: 100%|██████████| 10/10 [00:00<00:00, 24.57it/s, loss=0.871]\n"
     ]
    },
    {
     "name": "stdout",
     "output_type": "stream",
     "text": [
      "Epoch [1484/2000]: Train loss: 1.0237, Valid loss: 1.0253\n"
     ]
    },
    {
     "name": "stderr",
     "output_type": "stream",
     "text": [
      "Epoch [1485/2000]: 100%|██████████| 10/10 [00:00<00:00, 21.95it/s, loss=0.921]\n"
     ]
    },
    {
     "name": "stdout",
     "output_type": "stream",
     "text": [
      "Epoch [1485/2000]: Train loss: 1.0379, Valid loss: 1.0490\n"
     ]
    },
    {
     "name": "stderr",
     "output_type": "stream",
     "text": [
      "Epoch [1486/2000]: 100%|██████████| 10/10 [00:00<00:00, 26.34it/s, loss=1]   \n"
     ]
    },
    {
     "name": "stdout",
     "output_type": "stream",
     "text": [
      "Epoch [1486/2000]: Train loss: 1.0245, Valid loss: 1.0596\n"
     ]
    },
    {
     "name": "stderr",
     "output_type": "stream",
     "text": [
      "Epoch [1487/2000]: 100%|██████████| 10/10 [00:00<00:00, 21.31it/s, loss=0.889]\n"
     ]
    },
    {
     "name": "stdout",
     "output_type": "stream",
     "text": [
      "Epoch [1487/2000]: Train loss: 1.0165, Valid loss: 1.1241\n"
     ]
    },
    {
     "name": "stderr",
     "output_type": "stream",
     "text": [
      "Epoch [1488/2000]: 100%|██████████| 10/10 [00:00<00:00, 22.07it/s, loss=1.13]\n"
     ]
    },
    {
     "name": "stdout",
     "output_type": "stream",
     "text": [
      "Epoch [1488/2000]: Train loss: 1.0374, Valid loss: 1.0894\n"
     ]
    },
    {
     "name": "stderr",
     "output_type": "stream",
     "text": [
      "Epoch [1489/2000]: 100%|██████████| 10/10 [00:00<00:00, 17.27it/s, loss=0.855]\n"
     ]
    },
    {
     "name": "stdout",
     "output_type": "stream",
     "text": [
      "Epoch [1489/2000]: Train loss: 1.0182, Valid loss: 1.1215\n"
     ]
    },
    {
     "name": "stderr",
     "output_type": "stream",
     "text": [
      "Epoch [1490/2000]: 100%|██████████| 10/10 [00:00<00:00, 21.40it/s, loss=1.62]\n"
     ]
    },
    {
     "name": "stdout",
     "output_type": "stream",
     "text": [
      "Epoch [1490/2000]: Train loss: 1.0635, Valid loss: 1.1373\n"
     ]
    },
    {
     "name": "stderr",
     "output_type": "stream",
     "text": [
      "Epoch [1491/2000]: 100%|██████████| 10/10 [00:00<00:00, 17.48it/s, loss=0.883]\n"
     ]
    },
    {
     "name": "stdout",
     "output_type": "stream",
     "text": [
      "Epoch [1491/2000]: Train loss: 1.0334, Valid loss: 0.9733\n",
      "Saving model with loss 0.973...\n"
     ]
    },
    {
     "name": "stderr",
     "output_type": "stream",
     "text": [
      "Epoch [1492/2000]: 100%|██████████| 10/10 [00:00<00:00, 16.29it/s, loss=1.07]\n"
     ]
    },
    {
     "name": "stdout",
     "output_type": "stream",
     "text": [
      "Epoch [1492/2000]: Train loss: 1.0433, Valid loss: 1.1115\n"
     ]
    },
    {
     "name": "stderr",
     "output_type": "stream",
     "text": [
      "Epoch [1493/2000]: 100%|██████████| 10/10 [00:01<00:00,  9.48it/s, loss=0.963]\n"
     ]
    },
    {
     "name": "stdout",
     "output_type": "stream",
     "text": [
      "Epoch [1493/2000]: Train loss: 1.0173, Valid loss: 1.0469\n"
     ]
    },
    {
     "name": "stderr",
     "output_type": "stream",
     "text": [
      "Epoch [1494/2000]: 100%|██████████| 10/10 [00:00<00:00, 20.98it/s, loss=1.14]\n"
     ]
    },
    {
     "name": "stdout",
     "output_type": "stream",
     "text": [
      "Epoch [1494/2000]: Train loss: 1.0245, Valid loss: 1.1122\n"
     ]
    },
    {
     "name": "stderr",
     "output_type": "stream",
     "text": [
      "Epoch [1495/2000]: 100%|██████████| 10/10 [00:00<00:00, 14.23it/s, loss=1.16]\n"
     ]
    },
    {
     "name": "stdout",
     "output_type": "stream",
     "text": [
      "Epoch [1495/2000]: Train loss: 1.0329, Valid loss: 1.0220\n"
     ]
    },
    {
     "name": "stderr",
     "output_type": "stream",
     "text": [
      "Epoch [1496/2000]: 100%|██████████| 10/10 [00:00<00:00, 27.39it/s, loss=0.936]\n"
     ]
    },
    {
     "name": "stdout",
     "output_type": "stream",
     "text": [
      "Epoch [1496/2000]: Train loss: 1.0291, Valid loss: 1.1116\n"
     ]
    },
    {
     "name": "stderr",
     "output_type": "stream",
     "text": [
      "Epoch [1497/2000]: 100%|██████████| 10/10 [00:00<00:00, 29.75it/s, loss=0.763]\n"
     ]
    },
    {
     "name": "stdout",
     "output_type": "stream",
     "text": [
      "Epoch [1497/2000]: Train loss: 1.0094, Valid loss: 1.1144\n"
     ]
    },
    {
     "name": "stderr",
     "output_type": "stream",
     "text": [
      "Epoch [1498/2000]: 100%|██████████| 10/10 [00:00<00:00, 29.72it/s, loss=0.808]\n"
     ]
    },
    {
     "name": "stdout",
     "output_type": "stream",
     "text": [
      "Epoch [1498/2000]: Train loss: 1.0105, Valid loss: 1.1714\n"
     ]
    },
    {
     "name": "stderr",
     "output_type": "stream",
     "text": [
      "Epoch [1499/2000]: 100%|██████████| 10/10 [00:00<00:00, 11.87it/s, loss=0.99]\n"
     ]
    },
    {
     "name": "stdout",
     "output_type": "stream",
     "text": [
      "Epoch [1499/2000]: Train loss: 1.0446, Valid loss: 1.1002\n"
     ]
    },
    {
     "name": "stderr",
     "output_type": "stream",
     "text": [
      "Epoch [1500/2000]: 100%|██████████| 10/10 [00:00<00:00, 21.52it/s, loss=0.835]\n"
     ]
    },
    {
     "name": "stdout",
     "output_type": "stream",
     "text": [
      "Epoch [1500/2000]: Train loss: 1.0091, Valid loss: 1.0553\n"
     ]
    },
    {
     "name": "stderr",
     "output_type": "stream",
     "text": [
      "Epoch [1501/2000]: 100%|██████████| 10/10 [00:00<00:00, 10.73it/s, loss=1.29]\n"
     ]
    },
    {
     "name": "stdout",
     "output_type": "stream",
     "text": [
      "Epoch [1501/2000]: Train loss: 1.0376, Valid loss: 1.0504\n"
     ]
    },
    {
     "name": "stderr",
     "output_type": "stream",
     "text": [
      "Epoch [1502/2000]: 100%|██████████| 10/10 [00:00<00:00, 16.47it/s, loss=0.944]\n"
     ]
    },
    {
     "name": "stdout",
     "output_type": "stream",
     "text": [
      "Epoch [1502/2000]: Train loss: 1.0272, Valid loss: 1.1083\n"
     ]
    },
    {
     "name": "stderr",
     "output_type": "stream",
     "text": [
      "Epoch [1503/2000]: 100%|██████████| 10/10 [00:00<00:00, 49.21it/s, loss=1.05]\n"
     ]
    },
    {
     "name": "stdout",
     "output_type": "stream",
     "text": [
      "Epoch [1503/2000]: Train loss: 1.0239, Valid loss: 0.9619\n",
      "Saving model with loss 0.962...\n"
     ]
    },
    {
     "name": "stderr",
     "output_type": "stream",
     "text": [
      "Epoch [1504/2000]: 100%|██████████| 10/10 [00:00<00:00, 35.82it/s, loss=1.02]\n"
     ]
    },
    {
     "name": "stdout",
     "output_type": "stream",
     "text": [
      "Epoch [1504/2000]: Train loss: 1.0182, Valid loss: 0.9746\n"
     ]
    },
    {
     "name": "stderr",
     "output_type": "stream",
     "text": [
      "Epoch [1505/2000]: 100%|██████████| 10/10 [00:00<00:00, 22.91it/s, loss=0.852]\n"
     ]
    },
    {
     "name": "stdout",
     "output_type": "stream",
     "text": [
      "Epoch [1505/2000]: Train loss: 1.0367, Valid loss: 1.0147\n"
     ]
    },
    {
     "name": "stderr",
     "output_type": "stream",
     "text": [
      "Epoch [1506/2000]: 100%|██████████| 10/10 [00:00<00:00, 35.01it/s, loss=0.91]\n"
     ]
    },
    {
     "name": "stdout",
     "output_type": "stream",
     "text": [
      "Epoch [1506/2000]: Train loss: 1.0166, Valid loss: 1.0406\n"
     ]
    },
    {
     "name": "stderr",
     "output_type": "stream",
     "text": [
      "Epoch [1507/2000]: 100%|██████████| 10/10 [00:00<00:00, 34.15it/s, loss=0.823]\n"
     ]
    },
    {
     "name": "stdout",
     "output_type": "stream",
     "text": [
      "Epoch [1507/2000]: Train loss: 1.0124, Valid loss: 1.0377\n"
     ]
    },
    {
     "name": "stderr",
     "output_type": "stream",
     "text": [
      "Epoch [1508/2000]: 100%|██████████| 10/10 [00:00<00:00, 39.84it/s, loss=0.92]\n"
     ]
    },
    {
     "name": "stdout",
     "output_type": "stream",
     "text": [
      "Epoch [1508/2000]: Train loss: 1.0220, Valid loss: 0.9575\n",
      "Saving model with loss 0.958...\n"
     ]
    },
    {
     "name": "stderr",
     "output_type": "stream",
     "text": [
      "Epoch [1509/2000]: 100%|██████████| 10/10 [00:00<00:00, 40.38it/s, loss=0.865]\n"
     ]
    },
    {
     "name": "stdout",
     "output_type": "stream",
     "text": [
      "Epoch [1509/2000]: Train loss: 1.0135, Valid loss: 1.0419\n"
     ]
    },
    {
     "name": "stderr",
     "output_type": "stream",
     "text": [
      "Epoch [1510/2000]: 100%|██████████| 10/10 [00:00<00:00, 60.20it/s, loss=0.852]\n"
     ]
    },
    {
     "name": "stdout",
     "output_type": "stream",
     "text": [
      "Epoch [1510/2000]: Train loss: 1.0061, Valid loss: 1.0545\n"
     ]
    },
    {
     "name": "stderr",
     "output_type": "stream",
     "text": [
      "Epoch [1511/2000]: 100%|██████████| 10/10 [00:00<00:00, 23.13it/s, loss=1.17]\n"
     ]
    },
    {
     "name": "stdout",
     "output_type": "stream",
     "text": [
      "Epoch [1511/2000]: Train loss: 1.0253, Valid loss: 1.0126\n"
     ]
    },
    {
     "name": "stderr",
     "output_type": "stream",
     "text": [
      "Epoch [1512/2000]: 100%|██████████| 10/10 [00:00<00:00, 16.51it/s, loss=0.809]\n"
     ]
    },
    {
     "name": "stdout",
     "output_type": "stream",
     "text": [
      "Epoch [1512/2000]: Train loss: 1.0092, Valid loss: 1.0343\n"
     ]
    },
    {
     "name": "stderr",
     "output_type": "stream",
     "text": [
      "Epoch [1513/2000]: 100%|██████████| 10/10 [00:00<00:00, 37.69it/s, loss=0.819]\n"
     ]
    },
    {
     "name": "stdout",
     "output_type": "stream",
     "text": [
      "Epoch [1513/2000]: Train loss: 1.0061, Valid loss: 1.0546\n"
     ]
    },
    {
     "name": "stderr",
     "output_type": "stream",
     "text": [
      "Epoch [1514/2000]: 100%|██████████| 10/10 [00:00<00:00, 38.28it/s, loss=0.813]\n"
     ]
    },
    {
     "name": "stdout",
     "output_type": "stream",
     "text": [
      "Epoch [1514/2000]: Train loss: 1.0096, Valid loss: 1.0475\n"
     ]
    },
    {
     "name": "stderr",
     "output_type": "stream",
     "text": [
      "Epoch [1515/2000]: 100%|██████████| 10/10 [00:00<00:00, 13.26it/s, loss=0.932]\n"
     ]
    },
    {
     "name": "stdout",
     "output_type": "stream",
     "text": [
      "Epoch [1515/2000]: Train loss: 1.0212, Valid loss: 1.0082\n"
     ]
    },
    {
     "name": "stderr",
     "output_type": "stream",
     "text": [
      "Epoch [1516/2000]: 100%|██████████| 10/10 [00:00<00:00, 20.65it/s, loss=1.17]\n"
     ]
    },
    {
     "name": "stdout",
     "output_type": "stream",
     "text": [
      "Epoch [1516/2000]: Train loss: 1.0315, Valid loss: 1.0110\n"
     ]
    },
    {
     "name": "stderr",
     "output_type": "stream",
     "text": [
      "Epoch [1517/2000]: 100%|██████████| 10/10 [00:00<00:00, 41.95it/s, loss=1]   \n"
     ]
    },
    {
     "name": "stdout",
     "output_type": "stream",
     "text": [
      "Epoch [1517/2000]: Train loss: 1.0152, Valid loss: 1.0697\n"
     ]
    },
    {
     "name": "stderr",
     "output_type": "stream",
     "text": [
      "Epoch [1518/2000]: 100%|██████████| 10/10 [00:00<00:00, 38.48it/s, loss=1.08]\n"
     ]
    },
    {
     "name": "stdout",
     "output_type": "stream",
     "text": [
      "Epoch [1518/2000]: Train loss: 1.0217, Valid loss: 1.0154\n"
     ]
    },
    {
     "name": "stderr",
     "output_type": "stream",
     "text": [
      "Epoch [1519/2000]: 100%|██████████| 10/10 [00:00<00:00, 51.15it/s, loss=0.873]\n"
     ]
    },
    {
     "name": "stdout",
     "output_type": "stream",
     "text": [
      "Epoch [1519/2000]: Train loss: 1.0057, Valid loss: 1.0952\n"
     ]
    },
    {
     "name": "stderr",
     "output_type": "stream",
     "text": [
      "Epoch [1520/2000]: 100%|██████████| 10/10 [00:00<00:00, 21.19it/s, loss=1.21]\n"
     ]
    },
    {
     "name": "stdout",
     "output_type": "stream",
     "text": [
      "Epoch [1520/2000]: Train loss: 1.0308, Valid loss: 1.0493\n"
     ]
    },
    {
     "name": "stderr",
     "output_type": "stream",
     "text": [
      "Epoch [1521/2000]: 100%|██████████| 10/10 [00:00<00:00, 23.90it/s, loss=0.991]\n"
     ]
    },
    {
     "name": "stdout",
     "output_type": "stream",
     "text": [
      "Epoch [1521/2000]: Train loss: 1.0131, Valid loss: 1.0355\n"
     ]
    },
    {
     "name": "stderr",
     "output_type": "stream",
     "text": [
      "Epoch [1522/2000]: 100%|██████████| 10/10 [00:00<00:00, 44.14it/s, loss=1.45]\n"
     ]
    },
    {
     "name": "stdout",
     "output_type": "stream",
     "text": [
      "Epoch [1522/2000]: Train loss: 1.0464, Valid loss: 1.0448\n"
     ]
    },
    {
     "name": "stderr",
     "output_type": "stream",
     "text": [
      "Epoch [1523/2000]: 100%|██████████| 10/10 [00:00<00:00, 27.39it/s, loss=0.817]\n"
     ]
    },
    {
     "name": "stdout",
     "output_type": "stream",
     "text": [
      "Epoch [1523/2000]: Train loss: 1.0043, Valid loss: 1.0696\n"
     ]
    },
    {
     "name": "stderr",
     "output_type": "stream",
     "text": [
      "Epoch [1524/2000]: 100%|██████████| 10/10 [00:00<00:00, 32.37it/s, loss=1.11]\n"
     ]
    },
    {
     "name": "stdout",
     "output_type": "stream",
     "text": [
      "Epoch [1524/2000]: Train loss: 1.0207, Valid loss: 1.1636\n"
     ]
    },
    {
     "name": "stderr",
     "output_type": "stream",
     "text": [
      "Epoch [1525/2000]: 100%|██████████| 10/10 [00:00<00:00, 38.38it/s, loss=0.958]\n"
     ]
    },
    {
     "name": "stdout",
     "output_type": "stream",
     "text": [
      "Epoch [1525/2000]: Train loss: 1.0123, Valid loss: 1.0342\n"
     ]
    },
    {
     "name": "stderr",
     "output_type": "stream",
     "text": [
      "Epoch [1526/2000]: 100%|██████████| 10/10 [00:00<00:00, 41.53it/s, loss=1.35]\n"
     ]
    },
    {
     "name": "stdout",
     "output_type": "stream",
     "text": [
      "Epoch [1526/2000]: Train loss: 1.0576, Valid loss: 1.0301\n"
     ]
    },
    {
     "name": "stderr",
     "output_type": "stream",
     "text": [
      "Epoch [1527/2000]: 100%|██████████| 10/10 [00:00<00:00, 27.19it/s, loss=0.932]\n"
     ]
    },
    {
     "name": "stdout",
     "output_type": "stream",
     "text": [
      "Epoch [1527/2000]: Train loss: 1.0124, Valid loss: 1.0688\n"
     ]
    },
    {
     "name": "stderr",
     "output_type": "stream",
     "text": [
      "Epoch [1528/2000]: 100%|██████████| 10/10 [00:00<00:00, 15.16it/s, loss=0.88]\n"
     ]
    },
    {
     "name": "stdout",
     "output_type": "stream",
     "text": [
      "Epoch [1528/2000]: Train loss: 1.0279, Valid loss: 1.1017\n"
     ]
    },
    {
     "name": "stderr",
     "output_type": "stream",
     "text": [
      "Epoch [1529/2000]: 100%|██████████| 10/10 [00:00<00:00, 18.51it/s, loss=1.16]\n"
     ]
    },
    {
     "name": "stdout",
     "output_type": "stream",
     "text": [
      "Epoch [1529/2000]: Train loss: 1.0209, Valid loss: 1.0241\n"
     ]
    },
    {
     "name": "stderr",
     "output_type": "stream",
     "text": [
      "Epoch [1530/2000]: 100%|██████████| 10/10 [00:00<00:00, 18.93it/s, loss=0.942]\n"
     ]
    },
    {
     "name": "stdout",
     "output_type": "stream",
     "text": [
      "Epoch [1530/2000]: Train loss: 1.0080, Valid loss: 1.0314\n"
     ]
    },
    {
     "name": "stderr",
     "output_type": "stream",
     "text": [
      "Epoch [1531/2000]: 100%|██████████| 10/10 [00:00<00:00, 24.60it/s, loss=0.949]\n"
     ]
    },
    {
     "name": "stdout",
     "output_type": "stream",
     "text": [
      "Epoch [1531/2000]: Train loss: 1.0116, Valid loss: 1.0982\n"
     ]
    },
    {
     "name": "stderr",
     "output_type": "stream",
     "text": [
      "Epoch [1532/2000]: 100%|██████████| 10/10 [00:00<00:00, 27.96it/s, loss=0.781]\n"
     ]
    },
    {
     "name": "stdout",
     "output_type": "stream",
     "text": [
      "Epoch [1532/2000]: Train loss: 1.0016, Valid loss: 1.0926\n"
     ]
    },
    {
     "name": "stderr",
     "output_type": "stream",
     "text": [
      "Epoch [1533/2000]: 100%|██████████| 10/10 [00:00<00:00, 29.77it/s, loss=1.07]\n"
     ]
    },
    {
     "name": "stdout",
     "output_type": "stream",
     "text": [
      "Epoch [1533/2000]: Train loss: 1.0518, Valid loss: 1.0562\n"
     ]
    },
    {
     "name": "stderr",
     "output_type": "stream",
     "text": [
      "Epoch [1534/2000]: 100%|██████████| 10/10 [00:00<00:00, 21.06it/s, loss=0.872]\n"
     ]
    },
    {
     "name": "stdout",
     "output_type": "stream",
     "text": [
      "Epoch [1534/2000]: Train loss: 1.0040, Valid loss: 1.0154\n"
     ]
    },
    {
     "name": "stderr",
     "output_type": "stream",
     "text": [
      "Epoch [1535/2000]: 100%|██████████| 10/10 [00:00<00:00, 23.30it/s, loss=1.05]\n"
     ]
    },
    {
     "name": "stdout",
     "output_type": "stream",
     "text": [
      "Epoch [1535/2000]: Train loss: 1.0189, Valid loss: 1.0769\n"
     ]
    },
    {
     "name": "stderr",
     "output_type": "stream",
     "text": [
      "Epoch [1536/2000]: 100%|██████████| 10/10 [00:00<00:00, 31.02it/s, loss=1.17]\n"
     ]
    },
    {
     "name": "stdout",
     "output_type": "stream",
     "text": [
      "Epoch [1536/2000]: Train loss: 1.0313, Valid loss: 1.0527\n"
     ]
    },
    {
     "name": "stderr",
     "output_type": "stream",
     "text": [
      "Epoch [1537/2000]: 100%|██████████| 10/10 [00:00<00:00, 49.06it/s, loss=0.968]\n"
     ]
    },
    {
     "name": "stdout",
     "output_type": "stream",
     "text": [
      "Epoch [1537/2000]: Train loss: 1.0292, Valid loss: 1.0280\n"
     ]
    },
    {
     "name": "stderr",
     "output_type": "stream",
     "text": [
      "Epoch [1538/2000]: 100%|██████████| 10/10 [00:00<00:00, 15.01it/s, loss=1.04]\n"
     ]
    },
    {
     "name": "stdout",
     "output_type": "stream",
     "text": [
      "Epoch [1538/2000]: Train loss: 1.0389, Valid loss: 1.0360\n"
     ]
    },
    {
     "name": "stderr",
     "output_type": "stream",
     "text": [
      "Epoch [1539/2000]: 100%|██████████| 10/10 [00:00<00:00, 24.58it/s, loss=1.47]\n"
     ]
    },
    {
     "name": "stdout",
     "output_type": "stream",
     "text": [
      "Epoch [1539/2000]: Train loss: 1.0580, Valid loss: 1.0730\n"
     ]
    },
    {
     "name": "stderr",
     "output_type": "stream",
     "text": [
      "Epoch [1540/2000]: 100%|██████████| 10/10 [00:00<00:00, 21.21it/s, loss=0.945]\n"
     ]
    },
    {
     "name": "stdout",
     "output_type": "stream",
     "text": [
      "Epoch [1540/2000]: Train loss: 1.0132, Valid loss: 1.0227\n"
     ]
    },
    {
     "name": "stderr",
     "output_type": "stream",
     "text": [
      "Epoch [1541/2000]: 100%|██████████| 10/10 [00:00<00:00, 15.63it/s, loss=1.45]\n"
     ]
    },
    {
     "name": "stdout",
     "output_type": "stream",
     "text": [
      "Epoch [1541/2000]: Train loss: 1.0398, Valid loss: 1.0850\n"
     ]
    },
    {
     "name": "stderr",
     "output_type": "stream",
     "text": [
      "Epoch [1542/2000]: 100%|██████████| 10/10 [00:00<00:00, 34.27it/s, loss=1.03]\n"
     ]
    },
    {
     "name": "stdout",
     "output_type": "stream",
     "text": [
      "Epoch [1542/2000]: Train loss: 1.0136, Valid loss: 0.9869\n"
     ]
    },
    {
     "name": "stderr",
     "output_type": "stream",
     "text": [
      "Epoch [1543/2000]: 100%|██████████| 10/10 [00:00<00:00, 42.03it/s, loss=0.911]\n"
     ]
    },
    {
     "name": "stdout",
     "output_type": "stream",
     "text": [
      "Epoch [1543/2000]: Train loss: 1.0109, Valid loss: 1.0697\n"
     ]
    },
    {
     "name": "stderr",
     "output_type": "stream",
     "text": [
      "Epoch [1544/2000]: 100%|██████████| 10/10 [00:00<00:00, 34.53it/s, loss=1.6] \n"
     ]
    },
    {
     "name": "stdout",
     "output_type": "stream",
     "text": [
      "Epoch [1544/2000]: Train loss: 1.0653, Valid loss: 1.0732\n"
     ]
    },
    {
     "name": "stderr",
     "output_type": "stream",
     "text": [
      "Epoch [1545/2000]: 100%|██████████| 10/10 [00:00<00:00, 30.23it/s, loss=1.11]\n"
     ]
    },
    {
     "name": "stdout",
     "output_type": "stream",
     "text": [
      "Epoch [1545/2000]: Train loss: 1.0439, Valid loss: 1.0224\n"
     ]
    },
    {
     "name": "stderr",
     "output_type": "stream",
     "text": [
      "Epoch [1546/2000]: 100%|██████████| 10/10 [00:00<00:00, 35.03it/s, loss=1.13]\n"
     ]
    },
    {
     "name": "stdout",
     "output_type": "stream",
     "text": [
      "Epoch [1546/2000]: Train loss: 1.0331, Valid loss: 1.0253\n"
     ]
    },
    {
     "name": "stderr",
     "output_type": "stream",
     "text": [
      "Epoch [1547/2000]: 100%|██████████| 10/10 [00:00<00:00, 19.10it/s, loss=1.07]\n"
     ]
    },
    {
     "name": "stdout",
     "output_type": "stream",
     "text": [
      "Epoch [1547/2000]: Train loss: 1.0314, Valid loss: 1.0301\n"
     ]
    },
    {
     "name": "stderr",
     "output_type": "stream",
     "text": [
      "Epoch [1548/2000]: 100%|██████████| 10/10 [00:00<00:00, 36.13it/s, loss=1.08]\n"
     ]
    },
    {
     "name": "stdout",
     "output_type": "stream",
     "text": [
      "Epoch [1548/2000]: Train loss: 1.0202, Valid loss: 1.0573\n"
     ]
    },
    {
     "name": "stderr",
     "output_type": "stream",
     "text": [
      "Epoch [1549/2000]: 100%|██████████| 10/10 [00:00<00:00, 31.91it/s, loss=0.822]\n"
     ]
    },
    {
     "name": "stdout",
     "output_type": "stream",
     "text": [
      "Epoch [1549/2000]: Train loss: 1.0018, Valid loss: 1.0085\n"
     ]
    },
    {
     "name": "stderr",
     "output_type": "stream",
     "text": [
      "Epoch [1550/2000]: 100%|██████████| 10/10 [00:00<00:00, 28.02it/s, loss=0.903]\n"
     ]
    },
    {
     "name": "stdout",
     "output_type": "stream",
     "text": [
      "Epoch [1550/2000]: Train loss: 1.0047, Valid loss: 0.9506\n",
      "Saving model with loss 0.951...\n"
     ]
    },
    {
     "name": "stderr",
     "output_type": "stream",
     "text": [
      "Epoch [1551/2000]: 100%|██████████| 10/10 [00:00<00:00, 20.06it/s, loss=0.822]\n"
     ]
    },
    {
     "name": "stdout",
     "output_type": "stream",
     "text": [
      "Epoch [1551/2000]: Train loss: 0.9995, Valid loss: 1.0656\n"
     ]
    },
    {
     "name": "stderr",
     "output_type": "stream",
     "text": [
      "Epoch [1552/2000]: 100%|██████████| 10/10 [00:00<00:00, 23.29it/s, loss=0.832]\n"
     ]
    },
    {
     "name": "stdout",
     "output_type": "stream",
     "text": [
      "Epoch [1552/2000]: Train loss: 0.9975, Valid loss: 1.0661\n"
     ]
    },
    {
     "name": "stderr",
     "output_type": "stream",
     "text": [
      "Epoch [1553/2000]: 100%|██████████| 10/10 [00:00<00:00, 34.37it/s, loss=1.22]\n"
     ]
    },
    {
     "name": "stdout",
     "output_type": "stream",
     "text": [
      "Epoch [1553/2000]: Train loss: 1.0215, Valid loss: 1.0645\n"
     ]
    },
    {
     "name": "stderr",
     "output_type": "stream",
     "text": [
      "Epoch [1554/2000]: 100%|██████████| 10/10 [00:00<00:00, 21.02it/s, loss=0.702]\n"
     ]
    },
    {
     "name": "stdout",
     "output_type": "stream",
     "text": [
      "Epoch [1554/2000]: Train loss: 0.9896, Valid loss: 1.0110\n"
     ]
    },
    {
     "name": "stderr",
     "output_type": "stream",
     "text": [
      "Epoch [1555/2000]: 100%|██████████| 10/10 [00:00<00:00, 17.76it/s, loss=1.18]\n"
     ]
    },
    {
     "name": "stdout",
     "output_type": "stream",
     "text": [
      "Epoch [1555/2000]: Train loss: 1.0177, Valid loss: 1.0869\n"
     ]
    },
    {
     "name": "stderr",
     "output_type": "stream",
     "text": [
      "Epoch [1556/2000]: 100%|██████████| 10/10 [00:00<00:00, 27.30it/s, loss=0.861]\n"
     ]
    },
    {
     "name": "stdout",
     "output_type": "stream",
     "text": [
      "Epoch [1556/2000]: Train loss: 1.0030, Valid loss: 1.0378\n"
     ]
    },
    {
     "name": "stderr",
     "output_type": "stream",
     "text": [
      "Epoch [1557/2000]: 100%|██████████| 10/10 [00:00<00:00, 27.36it/s, loss=1]   \n"
     ]
    },
    {
     "name": "stdout",
     "output_type": "stream",
     "text": [
      "Epoch [1557/2000]: Train loss: 1.0129, Valid loss: 1.1230\n"
     ]
    },
    {
     "name": "stderr",
     "output_type": "stream",
     "text": [
      "Epoch [1558/2000]: 100%|██████████| 10/10 [00:00<00:00, 26.61it/s, loss=1.12]\n"
     ]
    },
    {
     "name": "stdout",
     "output_type": "stream",
     "text": [
      "Epoch [1558/2000]: Train loss: 1.0177, Valid loss: 1.0883\n"
     ]
    },
    {
     "name": "stderr",
     "output_type": "stream",
     "text": [
      "Epoch [1559/2000]: 100%|██████████| 10/10 [00:00<00:00, 28.73it/s, loss=1.08]\n"
     ]
    },
    {
     "name": "stdout",
     "output_type": "stream",
     "text": [
      "Epoch [1559/2000]: Train loss: 1.0325, Valid loss: 1.1058\n"
     ]
    },
    {
     "name": "stderr",
     "output_type": "stream",
     "text": [
      "Epoch [1560/2000]: 100%|██████████| 10/10 [00:00<00:00, 31.56it/s, loss=1.08]\n"
     ]
    },
    {
     "name": "stdout",
     "output_type": "stream",
     "text": [
      "Epoch [1560/2000]: Train loss: 1.0237, Valid loss: 1.0341\n"
     ]
    },
    {
     "name": "stderr",
     "output_type": "stream",
     "text": [
      "Epoch [1561/2000]: 100%|██████████| 10/10 [00:00<00:00, 14.76it/s, loss=0.782]\n"
     ]
    },
    {
     "name": "stdout",
     "output_type": "stream",
     "text": [
      "Epoch [1561/2000]: Train loss: 1.0069, Valid loss: 0.9991\n"
     ]
    },
    {
     "name": "stderr",
     "output_type": "stream",
     "text": [
      "Epoch [1562/2000]: 100%|██████████| 10/10 [00:00<00:00, 28.31it/s, loss=1.07]\n"
     ]
    },
    {
     "name": "stdout",
     "output_type": "stream",
     "text": [
      "Epoch [1562/2000]: Train loss: 1.0223, Valid loss: 1.0189\n"
     ]
    },
    {
     "name": "stderr",
     "output_type": "stream",
     "text": [
      "Epoch [1563/2000]: 100%|██████████| 10/10 [00:00<00:00, 34.39it/s, loss=0.937]\n"
     ]
    },
    {
     "name": "stdout",
     "output_type": "stream",
     "text": [
      "Epoch [1563/2000]: Train loss: 1.0116, Valid loss: 1.0732\n"
     ]
    },
    {
     "name": "stderr",
     "output_type": "stream",
     "text": [
      "Epoch [1564/2000]: 100%|██████████| 10/10 [00:00<00:00, 25.43it/s, loss=1.04]\n"
     ]
    },
    {
     "name": "stdout",
     "output_type": "stream",
     "text": [
      "Epoch [1564/2000]: Train loss: 1.0170, Valid loss: 1.0151\n"
     ]
    },
    {
     "name": "stderr",
     "output_type": "stream",
     "text": [
      "Epoch [1565/2000]: 100%|██████████| 10/10 [00:00<00:00, 18.76it/s, loss=0.889]\n"
     ]
    },
    {
     "name": "stdout",
     "output_type": "stream",
     "text": [
      "Epoch [1565/2000]: Train loss: 1.0020, Valid loss: 1.0186\n"
     ]
    },
    {
     "name": "stderr",
     "output_type": "stream",
     "text": [
      "Epoch [1566/2000]: 100%|██████████| 10/10 [00:00<00:00, 10.46it/s, loss=1.26]\n"
     ]
    },
    {
     "name": "stdout",
     "output_type": "stream",
     "text": [
      "Epoch [1566/2000]: Train loss: 1.0190, Valid loss: 1.1053\n"
     ]
    },
    {
     "name": "stderr",
     "output_type": "stream",
     "text": [
      "Epoch [1567/2000]: 100%|██████████| 10/10 [00:00<00:00, 36.78it/s, loss=1.05]\n"
     ]
    },
    {
     "name": "stdout",
     "output_type": "stream",
     "text": [
      "Epoch [1567/2000]: Train loss: 1.0137, Valid loss: 1.0601\n"
     ]
    },
    {
     "name": "stderr",
     "output_type": "stream",
     "text": [
      "Epoch [1568/2000]: 100%|██████████| 10/10 [00:00<00:00, 33.68it/s, loss=1.2] \n"
     ]
    },
    {
     "name": "stdout",
     "output_type": "stream",
     "text": [
      "Epoch [1568/2000]: Train loss: 1.0202, Valid loss: 1.0236\n"
     ]
    },
    {
     "name": "stderr",
     "output_type": "stream",
     "text": [
      "Epoch [1569/2000]: 100%|██████████| 10/10 [00:00<00:00, 18.90it/s, loss=1.25]\n"
     ]
    },
    {
     "name": "stdout",
     "output_type": "stream",
     "text": [
      "Epoch [1569/2000]: Train loss: 1.0261, Valid loss: 1.0484\n"
     ]
    },
    {
     "name": "stderr",
     "output_type": "stream",
     "text": [
      "Epoch [1570/2000]: 100%|██████████| 10/10 [00:00<00:00, 20.41it/s, loss=0.971]\n"
     ]
    },
    {
     "name": "stdout",
     "output_type": "stream",
     "text": [
      "Epoch [1570/2000]: Train loss: 1.0050, Valid loss: 1.0655\n"
     ]
    },
    {
     "name": "stderr",
     "output_type": "stream",
     "text": [
      "Epoch [1571/2000]: 100%|██████████| 10/10 [00:00<00:00, 10.55it/s, loss=1.13]\n"
     ]
    },
    {
     "name": "stdout",
     "output_type": "stream",
     "text": [
      "Epoch [1571/2000]: Train loss: 1.0103, Valid loss: 1.0179\n"
     ]
    },
    {
     "name": "stderr",
     "output_type": "stream",
     "text": [
      "Epoch [1572/2000]: 100%|██████████| 10/10 [00:00<00:00, 33.98it/s, loss=1.16]\n"
     ]
    },
    {
     "name": "stdout",
     "output_type": "stream",
     "text": [
      "Epoch [1572/2000]: Train loss: 1.0215, Valid loss: 1.0514\n"
     ]
    },
    {
     "name": "stderr",
     "output_type": "stream",
     "text": [
      "Epoch [1573/2000]: 100%|██████████| 10/10 [00:00<00:00, 41.87it/s, loss=1.2] \n"
     ]
    },
    {
     "name": "stdout",
     "output_type": "stream",
     "text": [
      "Epoch [1573/2000]: Train loss: 1.0156, Valid loss: 1.0576\n"
     ]
    },
    {
     "name": "stderr",
     "output_type": "stream",
     "text": [
      "Epoch [1574/2000]: 100%|██████████| 10/10 [00:00<00:00, 31.60it/s, loss=0.931]\n"
     ]
    },
    {
     "name": "stdout",
     "output_type": "stream",
     "text": [
      "Epoch [1574/2000]: Train loss: 1.0040, Valid loss: 1.0051\n"
     ]
    },
    {
     "name": "stderr",
     "output_type": "stream",
     "text": [
      "Epoch [1575/2000]: 100%|██████████| 10/10 [00:00<00:00, 43.45it/s, loss=1.3] \n"
     ]
    },
    {
     "name": "stdout",
     "output_type": "stream",
     "text": [
      "Epoch [1575/2000]: Train loss: 1.0453, Valid loss: 1.0433\n"
     ]
    },
    {
     "name": "stderr",
     "output_type": "stream",
     "text": [
      "Epoch [1576/2000]: 100%|██████████| 10/10 [00:00<00:00, 41.53it/s, loss=0.837]\n"
     ]
    },
    {
     "name": "stdout",
     "output_type": "stream",
     "text": [
      "Epoch [1576/2000]: Train loss: 1.0013, Valid loss: 1.0528\n"
     ]
    },
    {
     "name": "stderr",
     "output_type": "stream",
     "text": [
      "Epoch [1577/2000]: 100%|██████████| 10/10 [00:00<00:00, 18.19it/s, loss=1.1] \n"
     ]
    },
    {
     "name": "stdout",
     "output_type": "stream",
     "text": [
      "Epoch [1577/2000]: Train loss: 1.0221, Valid loss: 1.0795\n"
     ]
    },
    {
     "name": "stderr",
     "output_type": "stream",
     "text": [
      "Epoch [1578/2000]: 100%|██████████| 10/10 [00:00<00:00, 13.47it/s, loss=0.809]\n"
     ]
    },
    {
     "name": "stdout",
     "output_type": "stream",
     "text": [
      "Epoch [1578/2000]: Train loss: 1.0098, Valid loss: 1.0893\n"
     ]
    },
    {
     "name": "stderr",
     "output_type": "stream",
     "text": [
      "Epoch [1579/2000]: 100%|██████████| 10/10 [00:00<00:00, 46.14it/s, loss=1.51]\n"
     ]
    },
    {
     "name": "stdout",
     "output_type": "stream",
     "text": [
      "Epoch [1579/2000]: Train loss: 1.0539, Valid loss: 1.0317\n"
     ]
    },
    {
     "name": "stderr",
     "output_type": "stream",
     "text": [
      "Epoch [1580/2000]: 100%|██████████| 10/10 [00:00<00:00, 25.94it/s, loss=0.993]\n"
     ]
    },
    {
     "name": "stdout",
     "output_type": "stream",
     "text": [
      "Epoch [1580/2000]: Train loss: 1.0017, Valid loss: 1.0427\n"
     ]
    },
    {
     "name": "stderr",
     "output_type": "stream",
     "text": [
      "Epoch [1581/2000]: 100%|██████████| 10/10 [00:00<00:00, 31.14it/s, loss=1.05]\n"
     ]
    },
    {
     "name": "stdout",
     "output_type": "stream",
     "text": [
      "Epoch [1581/2000]: Train loss: 1.0090, Valid loss: 1.0628\n"
     ]
    },
    {
     "name": "stderr",
     "output_type": "stream",
     "text": [
      "Epoch [1582/2000]: 100%|██████████| 10/10 [00:00<00:00, 41.64it/s, loss=0.973]\n"
     ]
    },
    {
     "name": "stdout",
     "output_type": "stream",
     "text": [
      "Epoch [1582/2000]: Train loss: 1.0194, Valid loss: 1.0376\n"
     ]
    },
    {
     "name": "stderr",
     "output_type": "stream",
     "text": [
      "Epoch [1583/2000]: 100%|██████████| 10/10 [00:00<00:00, 28.64it/s, loss=0.937]\n"
     ]
    },
    {
     "name": "stdout",
     "output_type": "stream",
     "text": [
      "Epoch [1583/2000]: Train loss: 1.0228, Valid loss: 1.0369\n"
     ]
    },
    {
     "name": "stderr",
     "output_type": "stream",
     "text": [
      "Epoch [1584/2000]: 100%|██████████| 10/10 [00:00<00:00, 19.60it/s, loss=0.958]\n"
     ]
    },
    {
     "name": "stdout",
     "output_type": "stream",
     "text": [
      "Epoch [1584/2000]: Train loss: 1.0023, Valid loss: 1.0904\n"
     ]
    },
    {
     "name": "stderr",
     "output_type": "stream",
     "text": [
      "Epoch [1585/2000]: 100%|██████████| 10/10 [00:00<00:00, 36.06it/s, loss=1.05]\n"
     ]
    },
    {
     "name": "stdout",
     "output_type": "stream",
     "text": [
      "Epoch [1585/2000]: Train loss: 1.0084, Valid loss: 1.0291\n"
     ]
    },
    {
     "name": "stderr",
     "output_type": "stream",
     "text": [
      "Epoch [1586/2000]: 100%|██████████| 10/10 [00:00<00:00, 47.51it/s, loss=1.29]\n"
     ]
    },
    {
     "name": "stdout",
     "output_type": "stream",
     "text": [
      "Epoch [1586/2000]: Train loss: 1.0378, Valid loss: 1.0313\n"
     ]
    },
    {
     "name": "stderr",
     "output_type": "stream",
     "text": [
      "Epoch [1587/2000]: 100%|██████████| 10/10 [00:00<00:00, 43.66it/s, loss=0.926]\n"
     ]
    },
    {
     "name": "stdout",
     "output_type": "stream",
     "text": [
      "Epoch [1587/2000]: Train loss: 1.0021, Valid loss: 1.0695\n"
     ]
    },
    {
     "name": "stderr",
     "output_type": "stream",
     "text": [
      "Epoch [1588/2000]: 100%|██████████| 10/10 [00:00<00:00, 24.28it/s, loss=1.27]\n"
     ]
    },
    {
     "name": "stdout",
     "output_type": "stream",
     "text": [
      "Epoch [1588/2000]: Train loss: 1.0265, Valid loss: 1.0136\n"
     ]
    },
    {
     "name": "stderr",
     "output_type": "stream",
     "text": [
      "Epoch [1589/2000]: 100%|██████████| 10/10 [00:00<00:00, 18.31it/s, loss=0.941]\n"
     ]
    },
    {
     "name": "stdout",
     "output_type": "stream",
     "text": [
      "Epoch [1589/2000]: Train loss: 1.0097, Valid loss: 1.0040\n"
     ]
    },
    {
     "name": "stderr",
     "output_type": "stream",
     "text": [
      "Epoch [1590/2000]: 100%|██████████| 10/10 [00:00<00:00, 35.92it/s, loss=0.772]\n"
     ]
    },
    {
     "name": "stdout",
     "output_type": "stream",
     "text": [
      "Epoch [1590/2000]: Train loss: 0.9979, Valid loss: 1.0466\n"
     ]
    },
    {
     "name": "stderr",
     "output_type": "stream",
     "text": [
      "Epoch [1591/2000]: 100%|██████████| 10/10 [00:00<00:00, 29.60it/s, loss=0.779]\n"
     ]
    },
    {
     "name": "stdout",
     "output_type": "stream",
     "text": [
      "Epoch [1591/2000]: Train loss: 0.9982, Valid loss: 1.0660\n"
     ]
    },
    {
     "name": "stderr",
     "output_type": "stream",
     "text": [
      "Epoch [1592/2000]: 100%|██████████| 10/10 [00:00<00:00, 13.94it/s, loss=0.714]\n"
     ]
    },
    {
     "name": "stdout",
     "output_type": "stream",
     "text": [
      "Epoch [1592/2000]: Train loss: 0.9923, Valid loss: 1.0954\n"
     ]
    },
    {
     "name": "stderr",
     "output_type": "stream",
     "text": [
      "Epoch [1593/2000]: 100%|██████████| 10/10 [00:00<00:00, 35.55it/s, loss=1.5] \n"
     ]
    },
    {
     "name": "stdout",
     "output_type": "stream",
     "text": [
      "Epoch [1593/2000]: Train loss: 1.0356, Valid loss: 1.0147\n"
     ]
    },
    {
     "name": "stderr",
     "output_type": "stream",
     "text": [
      "Epoch [1594/2000]: 100%|██████████| 10/10 [00:00<00:00, 43.78it/s, loss=1.02]\n"
     ]
    },
    {
     "name": "stdout",
     "output_type": "stream",
     "text": [
      "Epoch [1594/2000]: Train loss: 1.0034, Valid loss: 1.0303\n"
     ]
    },
    {
     "name": "stderr",
     "output_type": "stream",
     "text": [
      "Epoch [1595/2000]: 100%|██████████| 10/10 [00:00<00:00, 33.83it/s, loss=0.989]\n"
     ]
    },
    {
     "name": "stdout",
     "output_type": "stream",
     "text": [
      "Epoch [1595/2000]: Train loss: 1.0062, Valid loss: 0.9638\n"
     ]
    },
    {
     "name": "stderr",
     "output_type": "stream",
     "text": [
      "Epoch [1596/2000]: 100%|██████████| 10/10 [00:00<00:00, 28.85it/s, loss=1.36]\n"
     ]
    },
    {
     "name": "stdout",
     "output_type": "stream",
     "text": [
      "Epoch [1596/2000]: Train loss: 1.0280, Valid loss: 1.0592\n"
     ]
    },
    {
     "name": "stderr",
     "output_type": "stream",
     "text": [
      "Epoch [1597/2000]: 100%|██████████| 10/10 [00:00<00:00, 44.01it/s, loss=0.74]\n"
     ]
    },
    {
     "name": "stdout",
     "output_type": "stream",
     "text": [
      "Epoch [1597/2000]: Train loss: 0.9874, Valid loss: 1.0158\n"
     ]
    },
    {
     "name": "stderr",
     "output_type": "stream",
     "text": [
      "Epoch [1598/2000]: 100%|██████████| 10/10 [00:00<00:00, 29.60it/s, loss=1.1] \n"
     ]
    },
    {
     "name": "stdout",
     "output_type": "stream",
     "text": [
      "Epoch [1598/2000]: Train loss: 1.0054, Valid loss: 1.0777\n"
     ]
    },
    {
     "name": "stderr",
     "output_type": "stream",
     "text": [
      "Epoch [1599/2000]: 100%|██████████| 10/10 [00:00<00:00, 20.27it/s, loss=0.649]\n"
     ]
    },
    {
     "name": "stdout",
     "output_type": "stream",
     "text": [
      "Epoch [1599/2000]: Train loss: 0.9841, Valid loss: 1.1035\n"
     ]
    },
    {
     "name": "stderr",
     "output_type": "stream",
     "text": [
      "Epoch [1600/2000]: 100%|██████████| 10/10 [00:00<00:00, 25.97it/s, loss=1.05]\n"
     ]
    },
    {
     "name": "stdout",
     "output_type": "stream",
     "text": [
      "Epoch [1600/2000]: Train loss: 1.0173, Valid loss: 1.0401\n"
     ]
    },
    {
     "name": "stderr",
     "output_type": "stream",
     "text": [
      "Epoch [1601/2000]: 100%|██████████| 10/10 [00:00<00:00, 50.65it/s, loss=0.952]\n"
     ]
    },
    {
     "name": "stdout",
     "output_type": "stream",
     "text": [
      "Epoch [1601/2000]: Train loss: 1.0083, Valid loss: 1.0672\n"
     ]
    },
    {
     "name": "stderr",
     "output_type": "stream",
     "text": [
      "Epoch [1602/2000]: 100%|██████████| 10/10 [00:00<00:00, 36.37it/s, loss=0.934]\n"
     ]
    },
    {
     "name": "stdout",
     "output_type": "stream",
     "text": [
      "Epoch [1602/2000]: Train loss: 1.0145, Valid loss: 0.9832\n"
     ]
    },
    {
     "name": "stderr",
     "output_type": "stream",
     "text": [
      "Epoch [1603/2000]: 100%|██████████| 10/10 [00:00<00:00, 26.34it/s, loss=0.831]\n"
     ]
    },
    {
     "name": "stdout",
     "output_type": "stream",
     "text": [
      "Epoch [1603/2000]: Train loss: 1.0112, Valid loss: 1.0050\n"
     ]
    },
    {
     "name": "stderr",
     "output_type": "stream",
     "text": [
      "Epoch [1604/2000]: 100%|██████████| 10/10 [00:00<00:00, 29.92it/s, loss=0.918]\n"
     ]
    },
    {
     "name": "stdout",
     "output_type": "stream",
     "text": [
      "Epoch [1604/2000]: Train loss: 1.0144, Valid loss: 1.0665\n"
     ]
    },
    {
     "name": "stderr",
     "output_type": "stream",
     "text": [
      "Epoch [1605/2000]: 100%|██████████| 10/10 [00:00<00:00, 54.41it/s, loss=1.41]\n"
     ]
    },
    {
     "name": "stdout",
     "output_type": "stream",
     "text": [
      "Epoch [1605/2000]: Train loss: 1.0478, Valid loss: 1.0661\n"
     ]
    },
    {
     "name": "stderr",
     "output_type": "stream",
     "text": [
      "Epoch [1606/2000]: 100%|██████████| 10/10 [00:00<00:00, 10.51it/s, loss=0.914]\n"
     ]
    },
    {
     "name": "stdout",
     "output_type": "stream",
     "text": [
      "Epoch [1606/2000]: Train loss: 1.0010, Valid loss: 0.9929\n"
     ]
    },
    {
     "name": "stderr",
     "output_type": "stream",
     "text": [
      "Epoch [1607/2000]: 100%|██████████| 10/10 [00:00<00:00, 21.72it/s, loss=1.15]\n"
     ]
    },
    {
     "name": "stdout",
     "output_type": "stream",
     "text": [
      "Epoch [1607/2000]: Train loss: 1.0233, Valid loss: 1.0091\n"
     ]
    },
    {
     "name": "stderr",
     "output_type": "stream",
     "text": [
      "Epoch [1608/2000]: 100%|██████████| 10/10 [00:00<00:00, 34.63it/s, loss=1.01]\n"
     ]
    },
    {
     "name": "stdout",
     "output_type": "stream",
     "text": [
      "Epoch [1608/2000]: Train loss: 1.0034, Valid loss: 0.9743\n"
     ]
    },
    {
     "name": "stderr",
     "output_type": "stream",
     "text": [
      "Epoch [1609/2000]: 100%|██████████| 10/10 [00:00<00:00, 25.31it/s, loss=0.901]\n"
     ]
    },
    {
     "name": "stdout",
     "output_type": "stream",
     "text": [
      "Epoch [1609/2000]: Train loss: 0.9939, Valid loss: 1.0414\n"
     ]
    },
    {
     "name": "stderr",
     "output_type": "stream",
     "text": [
      "Epoch [1610/2000]: 100%|██████████| 10/10 [00:00<00:00, 35.57it/s, loss=1.05]\n"
     ]
    },
    {
     "name": "stdout",
     "output_type": "stream",
     "text": [
      "Epoch [1610/2000]: Train loss: 1.0051, Valid loss: 1.0108\n"
     ]
    },
    {
     "name": "stderr",
     "output_type": "stream",
     "text": [
      "Epoch [1611/2000]: 100%|██████████| 10/10 [00:00<00:00, 20.77it/s, loss=1.09]\n"
     ]
    },
    {
     "name": "stdout",
     "output_type": "stream",
     "text": [
      "Epoch [1611/2000]: Train loss: 1.0083, Valid loss: 1.0078\n"
     ]
    },
    {
     "name": "stderr",
     "output_type": "stream",
     "text": [
      "Epoch [1612/2000]: 100%|██████████| 10/10 [00:00<00:00, 49.90it/s, loss=1.19]\n"
     ]
    },
    {
     "name": "stdout",
     "output_type": "stream",
     "text": [
      "Epoch [1612/2000]: Train loss: 1.0122, Valid loss: 1.0548\n"
     ]
    },
    {
     "name": "stderr",
     "output_type": "stream",
     "text": [
      "Epoch [1613/2000]: 100%|██████████| 10/10 [00:00<00:00, 19.12it/s, loss=0.772]\n"
     ]
    },
    {
     "name": "stdout",
     "output_type": "stream",
     "text": [
      "Epoch [1613/2000]: Train loss: 1.0014, Valid loss: 1.0362\n"
     ]
    },
    {
     "name": "stderr",
     "output_type": "stream",
     "text": [
      "Epoch [1614/2000]: 100%|██████████| 10/10 [00:00<00:00, 17.58it/s, loss=1.1] \n"
     ]
    },
    {
     "name": "stdout",
     "output_type": "stream",
     "text": [
      "Epoch [1614/2000]: Train loss: 1.0254, Valid loss: 1.0995\n"
     ]
    },
    {
     "name": "stderr",
     "output_type": "stream",
     "text": [
      "Epoch [1615/2000]: 100%|██████████| 10/10 [00:00<00:00, 32.35it/s, loss=0.924]\n"
     ]
    },
    {
     "name": "stdout",
     "output_type": "stream",
     "text": [
      "Epoch [1615/2000]: Train loss: 0.9978, Valid loss: 1.0113\n"
     ]
    },
    {
     "name": "stderr",
     "output_type": "stream",
     "text": [
      "Epoch [1616/2000]: 100%|██████████| 10/10 [00:00<00:00, 27.86it/s, loss=0.907]\n"
     ]
    },
    {
     "name": "stdout",
     "output_type": "stream",
     "text": [
      "Epoch [1616/2000]: Train loss: 0.9931, Valid loss: 1.0279\n"
     ]
    },
    {
     "name": "stderr",
     "output_type": "stream",
     "text": [
      "Epoch [1617/2000]: 100%|██████████| 10/10 [00:00<00:00, 13.73it/s, loss=0.923]\n"
     ]
    },
    {
     "name": "stdout",
     "output_type": "stream",
     "text": [
      "Epoch [1617/2000]: Train loss: 0.9930, Valid loss: 1.0098\n"
     ]
    },
    {
     "name": "stderr",
     "output_type": "stream",
     "text": [
      "Epoch [1618/2000]: 100%|██████████| 10/10 [00:00<00:00, 26.40it/s, loss=1.63]\n"
     ]
    },
    {
     "name": "stdout",
     "output_type": "stream",
     "text": [
      "Epoch [1618/2000]: Train loss: 1.0388, Valid loss: 1.0128\n"
     ]
    },
    {
     "name": "stderr",
     "output_type": "stream",
     "text": [
      "Epoch [1619/2000]: 100%|██████████| 10/10 [00:00<00:00, 38.17it/s, loss=1.19]\n"
     ]
    },
    {
     "name": "stdout",
     "output_type": "stream",
     "text": [
      "Epoch [1619/2000]: Train loss: 1.0095, Valid loss: 0.9806\n"
     ]
    },
    {
     "name": "stderr",
     "output_type": "stream",
     "text": [
      "Epoch [1620/2000]: 100%|██████████| 10/10 [00:00<00:00, 22.66it/s, loss=0.888]\n"
     ]
    },
    {
     "name": "stdout",
     "output_type": "stream",
     "text": [
      "Epoch [1620/2000]: Train loss: 1.0045, Valid loss: 1.0408\n"
     ]
    },
    {
     "name": "stderr",
     "output_type": "stream",
     "text": [
      "Epoch [1621/2000]: 100%|██████████| 10/10 [00:00<00:00, 47.32it/s, loss=0.971]\n"
     ]
    },
    {
     "name": "stdout",
     "output_type": "stream",
     "text": [
      "Epoch [1621/2000]: Train loss: 1.0011, Valid loss: 0.9889\n"
     ]
    },
    {
     "name": "stderr",
     "output_type": "stream",
     "text": [
      "Epoch [1622/2000]: 100%|██████████| 10/10 [00:00<00:00, 23.40it/s, loss=0.767]\n"
     ]
    },
    {
     "name": "stdout",
     "output_type": "stream",
     "text": [
      "Epoch [1622/2000]: Train loss: 0.9938, Valid loss: 1.0403\n"
     ]
    },
    {
     "name": "stderr",
     "output_type": "stream",
     "text": [
      "Epoch [1623/2000]: 100%|██████████| 10/10 [00:00<00:00, 11.71it/s, loss=0.894]\n"
     ]
    },
    {
     "name": "stdout",
     "output_type": "stream",
     "text": [
      "Epoch [1623/2000]: Train loss: 1.0024, Valid loss: 0.9043\n",
      "Saving model with loss 0.904...\n"
     ]
    },
    {
     "name": "stderr",
     "output_type": "stream",
     "text": [
      "Epoch [1624/2000]: 100%|██████████| 10/10 [00:00<00:00, 23.28it/s, loss=0.565]\n"
     ]
    },
    {
     "name": "stdout",
     "output_type": "stream",
     "text": [
      "Epoch [1624/2000]: Train loss: 0.9696, Valid loss: 1.0262\n"
     ]
    },
    {
     "name": "stderr",
     "output_type": "stream",
     "text": [
      "Epoch [1625/2000]: 100%|██████████| 10/10 [00:00<00:00, 27.37it/s, loss=0.89]\n"
     ]
    },
    {
     "name": "stdout",
     "output_type": "stream",
     "text": [
      "Epoch [1625/2000]: Train loss: 0.9939, Valid loss: 1.0239\n"
     ]
    },
    {
     "name": "stderr",
     "output_type": "stream",
     "text": [
      "Epoch [1626/2000]: 100%|██████████| 10/10 [00:00<00:00, 49.38it/s, loss=1]   \n"
     ]
    },
    {
     "name": "stdout",
     "output_type": "stream",
     "text": [
      "Epoch [1626/2000]: Train loss: 0.9975, Valid loss: 0.9784\n"
     ]
    },
    {
     "name": "stderr",
     "output_type": "stream",
     "text": [
      "Epoch [1627/2000]: 100%|██████████| 10/10 [00:00<00:00, 31.11it/s, loss=1.08]\n"
     ]
    },
    {
     "name": "stdout",
     "output_type": "stream",
     "text": [
      "Epoch [1627/2000]: Train loss: 1.0098, Valid loss: 0.9961\n"
     ]
    },
    {
     "name": "stderr",
     "output_type": "stream",
     "text": [
      "Epoch [1628/2000]: 100%|██████████| 10/10 [00:01<00:00,  8.32it/s, loss=0.838]\n"
     ]
    },
    {
     "name": "stdout",
     "output_type": "stream",
     "text": [
      "Epoch [1628/2000]: Train loss: 0.9973, Valid loss: 1.0293\n"
     ]
    },
    {
     "name": "stderr",
     "output_type": "stream",
     "text": [
      "Epoch [1629/2000]: 100%|██████████| 10/10 [00:00<00:00, 16.27it/s, loss=1.1] \n"
     ]
    },
    {
     "name": "stdout",
     "output_type": "stream",
     "text": [
      "Epoch [1629/2000]: Train loss: 1.0156, Valid loss: 1.0532\n"
     ]
    },
    {
     "name": "stderr",
     "output_type": "stream",
     "text": [
      "Epoch [1630/2000]: 100%|██████████| 10/10 [00:00<00:00, 27.13it/s, loss=0.848]\n"
     ]
    },
    {
     "name": "stdout",
     "output_type": "stream",
     "text": [
      "Epoch [1630/2000]: Train loss: 0.9906, Valid loss: 1.0009\n"
     ]
    },
    {
     "name": "stderr",
     "output_type": "stream",
     "text": [
      "Epoch [1631/2000]: 100%|██████████| 10/10 [00:00<00:00, 24.02it/s, loss=0.888]\n"
     ]
    },
    {
     "name": "stdout",
     "output_type": "stream",
     "text": [
      "Epoch [1631/2000]: Train loss: 0.9890, Valid loss: 1.0110\n"
     ]
    },
    {
     "name": "stderr",
     "output_type": "stream",
     "text": [
      "Epoch [1632/2000]: 100%|██████████| 10/10 [00:00<00:00, 36.68it/s, loss=1.13]\n"
     ]
    },
    {
     "name": "stdout",
     "output_type": "stream",
     "text": [
      "Epoch [1632/2000]: Train loss: 1.0070, Valid loss: 0.9988\n"
     ]
    },
    {
     "name": "stderr",
     "output_type": "stream",
     "text": [
      "Epoch [1633/2000]: 100%|██████████| 10/10 [00:00<00:00, 26.41it/s, loss=0.93]\n"
     ]
    },
    {
     "name": "stdout",
     "output_type": "stream",
     "text": [
      "Epoch [1633/2000]: Train loss: 1.0016, Valid loss: 1.1024\n"
     ]
    },
    {
     "name": "stderr",
     "output_type": "stream",
     "text": [
      "Epoch [1634/2000]: 100%|██████████| 10/10 [00:00<00:00, 21.31it/s, loss=0.905]\n"
     ]
    },
    {
     "name": "stdout",
     "output_type": "stream",
     "text": [
      "Epoch [1634/2000]: Train loss: 1.0011, Valid loss: 1.0988\n"
     ]
    },
    {
     "name": "stderr",
     "output_type": "stream",
     "text": [
      "Epoch [1635/2000]: 100%|██████████| 10/10 [00:00<00:00, 27.52it/s, loss=1.07]\n"
     ]
    },
    {
     "name": "stdout",
     "output_type": "stream",
     "text": [
      "Epoch [1635/2000]: Train loss: 1.0009, Valid loss: 0.9664\n"
     ]
    },
    {
     "name": "stderr",
     "output_type": "stream",
     "text": [
      "Epoch [1636/2000]: 100%|██████████| 10/10 [00:00<00:00, 35.66it/s, loss=0.816]\n"
     ]
    },
    {
     "name": "stdout",
     "output_type": "stream",
     "text": [
      "Epoch [1636/2000]: Train loss: 0.9852, Valid loss: 0.9707\n"
     ]
    },
    {
     "name": "stderr",
     "output_type": "stream",
     "text": [
      "Epoch [1637/2000]: 100%|██████████| 10/10 [00:00<00:00, 28.02it/s, loss=0.933]\n"
     ]
    },
    {
     "name": "stdout",
     "output_type": "stream",
     "text": [
      "Epoch [1637/2000]: Train loss: 0.9902, Valid loss: 0.9799\n"
     ]
    },
    {
     "name": "stderr",
     "output_type": "stream",
     "text": [
      "Epoch [1638/2000]: 100%|██████████| 10/10 [00:00<00:00, 25.03it/s, loss=0.878]\n"
     ]
    },
    {
     "name": "stdout",
     "output_type": "stream",
     "text": [
      "Epoch [1638/2000]: Train loss: 0.9919, Valid loss: 0.9872\n"
     ]
    },
    {
     "name": "stderr",
     "output_type": "stream",
     "text": [
      "Epoch [1639/2000]: 100%|██████████| 10/10 [00:00<00:00, 35.84it/s, loss=0.948]\n"
     ]
    },
    {
     "name": "stdout",
     "output_type": "stream",
     "text": [
      "Epoch [1639/2000]: Train loss: 0.9937, Valid loss: 0.9665\n"
     ]
    },
    {
     "name": "stderr",
     "output_type": "stream",
     "text": [
      "Epoch [1640/2000]: 100%|██████████| 10/10 [00:00<00:00, 25.69it/s, loss=1.08]\n"
     ]
    },
    {
     "name": "stdout",
     "output_type": "stream",
     "text": [
      "Epoch [1640/2000]: Train loss: 0.9995, Valid loss: 1.0072\n"
     ]
    },
    {
     "name": "stderr",
     "output_type": "stream",
     "text": [
      "Epoch [1641/2000]: 100%|██████████| 10/10 [00:00<00:00, 25.15it/s, loss=0.918]\n"
     ]
    },
    {
     "name": "stdout",
     "output_type": "stream",
     "text": [
      "Epoch [1641/2000]: Train loss: 0.9923, Valid loss: 1.0230\n"
     ]
    },
    {
     "name": "stderr",
     "output_type": "stream",
     "text": [
      "Epoch [1642/2000]: 100%|██████████| 10/10 [00:00<00:00, 13.34it/s, loss=0.994]\n"
     ]
    },
    {
     "name": "stdout",
     "output_type": "stream",
     "text": [
      "Epoch [1642/2000]: Train loss: 0.9968, Valid loss: 1.0753\n"
     ]
    },
    {
     "name": "stderr",
     "output_type": "stream",
     "text": [
      "Epoch [1643/2000]: 100%|██████████| 10/10 [00:00<00:00, 21.60it/s, loss=0.975]\n"
     ]
    },
    {
     "name": "stdout",
     "output_type": "stream",
     "text": [
      "Epoch [1643/2000]: Train loss: 0.9926, Valid loss: 1.0721\n"
     ]
    },
    {
     "name": "stderr",
     "output_type": "stream",
     "text": [
      "Epoch [1644/2000]: 100%|██████████| 10/10 [00:00<00:00, 25.59it/s, loss=0.793]\n"
     ]
    },
    {
     "name": "stdout",
     "output_type": "stream",
     "text": [
      "Epoch [1644/2000]: Train loss: 0.9916, Valid loss: 0.9460\n"
     ]
    },
    {
     "name": "stderr",
     "output_type": "stream",
     "text": [
      "Epoch [1645/2000]: 100%|██████████| 10/10 [00:00<00:00, 25.56it/s, loss=0.92]\n"
     ]
    },
    {
     "name": "stdout",
     "output_type": "stream",
     "text": [
      "Epoch [1645/2000]: Train loss: 0.9942, Valid loss: 1.0099\n"
     ]
    },
    {
     "name": "stderr",
     "output_type": "stream",
     "text": [
      "Epoch [1646/2000]: 100%|██████████| 10/10 [00:00<00:00, 28.67it/s, loss=0.945]\n"
     ]
    },
    {
     "name": "stdout",
     "output_type": "stream",
     "text": [
      "Epoch [1646/2000]: Train loss: 1.0073, Valid loss: 0.9884\n"
     ]
    },
    {
     "name": "stderr",
     "output_type": "stream",
     "text": [
      "Epoch [1647/2000]: 100%|██████████| 10/10 [00:00<00:00, 39.99it/s, loss=1.43]\n"
     ]
    },
    {
     "name": "stdout",
     "output_type": "stream",
     "text": [
      "Epoch [1647/2000]: Train loss: 1.0228, Valid loss: 1.0032\n"
     ]
    },
    {
     "name": "stderr",
     "output_type": "stream",
     "text": [
      "Epoch [1648/2000]: 100%|██████████| 10/10 [00:00<00:00, 47.16it/s, loss=1.01]\n"
     ]
    },
    {
     "name": "stdout",
     "output_type": "stream",
     "text": [
      "Epoch [1648/2000]: Train loss: 0.9929, Valid loss: 1.0366\n"
     ]
    },
    {
     "name": "stderr",
     "output_type": "stream",
     "text": [
      "Epoch [1649/2000]: 100%|██████████| 10/10 [00:00<00:00, 20.51it/s, loss=1.03]\n"
     ]
    },
    {
     "name": "stdout",
     "output_type": "stream",
     "text": [
      "Epoch [1649/2000]: Train loss: 1.0054, Valid loss: 1.0073\n"
     ]
    },
    {
     "name": "stderr",
     "output_type": "stream",
     "text": [
      "Epoch [1650/2000]: 100%|██████████| 10/10 [00:00<00:00, 17.24it/s, loss=0.837]\n"
     ]
    },
    {
     "name": "stdout",
     "output_type": "stream",
     "text": [
      "Epoch [1650/2000]: Train loss: 0.9950, Valid loss: 0.9672\n"
     ]
    },
    {
     "name": "stderr",
     "output_type": "stream",
     "text": [
      "Epoch [1651/2000]: 100%|██████████| 10/10 [00:00<00:00, 33.95it/s, loss=1.09]\n"
     ]
    },
    {
     "name": "stdout",
     "output_type": "stream",
     "text": [
      "Epoch [1651/2000]: Train loss: 1.0054, Valid loss: 1.0340\n"
     ]
    },
    {
     "name": "stderr",
     "output_type": "stream",
     "text": [
      "Epoch [1652/2000]: 100%|██████████| 10/10 [00:00<00:00, 22.48it/s, loss=1.27]\n"
     ]
    },
    {
     "name": "stdout",
     "output_type": "stream",
     "text": [
      "Epoch [1652/2000]: Train loss: 1.0120, Valid loss: 0.9779\n"
     ]
    },
    {
     "name": "stderr",
     "output_type": "stream",
     "text": [
      "Epoch [1653/2000]: 100%|██████████| 10/10 [00:00<00:00, 23.66it/s, loss=0.975]\n"
     ]
    },
    {
     "name": "stdout",
     "output_type": "stream",
     "text": [
      "Epoch [1653/2000]: Train loss: 0.9916, Valid loss: 0.9718\n"
     ]
    },
    {
     "name": "stderr",
     "output_type": "stream",
     "text": [
      "Epoch [1654/2000]: 100%|██████████| 10/10 [00:00<00:00, 24.55it/s, loss=0.946]\n"
     ]
    },
    {
     "name": "stdout",
     "output_type": "stream",
     "text": [
      "Epoch [1654/2000]: Train loss: 0.9894, Valid loss: 1.0121\n"
     ]
    },
    {
     "name": "stderr",
     "output_type": "stream",
     "text": [
      "Epoch [1655/2000]: 100%|██████████| 10/10 [00:00<00:00, 14.18it/s, loss=0.806]\n"
     ]
    },
    {
     "name": "stdout",
     "output_type": "stream",
     "text": [
      "Epoch [1655/2000]: Train loss: 0.9810, Valid loss: 1.0299\n"
     ]
    },
    {
     "name": "stderr",
     "output_type": "stream",
     "text": [
      "Epoch [1656/2000]: 100%|██████████| 10/10 [00:00<00:00, 16.91it/s, loss=0.991]\n"
     ]
    },
    {
     "name": "stdout",
     "output_type": "stream",
     "text": [
      "Epoch [1656/2000]: Train loss: 0.9927, Valid loss: 0.9818\n"
     ]
    },
    {
     "name": "stderr",
     "output_type": "stream",
     "text": [
      "Epoch [1657/2000]: 100%|██████████| 10/10 [00:00<00:00, 14.84it/s, loss=1.04]\n"
     ]
    },
    {
     "name": "stdout",
     "output_type": "stream",
     "text": [
      "Epoch [1657/2000]: Train loss: 1.0032, Valid loss: 1.0315\n"
     ]
    },
    {
     "name": "stderr",
     "output_type": "stream",
     "text": [
      "Epoch [1658/2000]: 100%|██████████| 10/10 [00:00<00:00, 15.26it/s, loss=1.01]\n"
     ]
    },
    {
     "name": "stdout",
     "output_type": "stream",
     "text": [
      "Epoch [1658/2000]: Train loss: 1.0016, Valid loss: 0.9924\n"
     ]
    },
    {
     "name": "stderr",
     "output_type": "stream",
     "text": [
      "Epoch [1659/2000]: 100%|██████████| 10/10 [00:00<00:00, 25.91it/s, loss=1.16]\n"
     ]
    },
    {
     "name": "stdout",
     "output_type": "stream",
     "text": [
      "Epoch [1659/2000]: Train loss: 1.0143, Valid loss: 0.9984\n"
     ]
    },
    {
     "name": "stderr",
     "output_type": "stream",
     "text": [
      "Epoch [1660/2000]: 100%|██████████| 10/10 [00:00<00:00, 32.25it/s, loss=1.11]\n"
     ]
    },
    {
     "name": "stdout",
     "output_type": "stream",
     "text": [
      "Epoch [1660/2000]: Train loss: 1.0092, Valid loss: 1.0231\n"
     ]
    },
    {
     "name": "stderr",
     "output_type": "stream",
     "text": [
      "Epoch [1661/2000]: 100%|██████████| 10/10 [00:00<00:00, 25.93it/s, loss=1.03]\n"
     ]
    },
    {
     "name": "stdout",
     "output_type": "stream",
     "text": [
      "Epoch [1661/2000]: Train loss: 0.9987, Valid loss: 1.0442\n"
     ]
    },
    {
     "name": "stderr",
     "output_type": "stream",
     "text": [
      "Epoch [1662/2000]: 100%|██████████| 10/10 [00:00<00:00, 25.85it/s, loss=1.11]\n"
     ]
    },
    {
     "name": "stdout",
     "output_type": "stream",
     "text": [
      "Epoch [1662/2000]: Train loss: 1.0018, Valid loss: 1.0097\n"
     ]
    },
    {
     "name": "stderr",
     "output_type": "stream",
     "text": [
      "Epoch [1663/2000]: 100%|██████████| 10/10 [00:00<00:00, 13.18it/s, loss=1.19]\n"
     ]
    },
    {
     "name": "stdout",
     "output_type": "stream",
     "text": [
      "Epoch [1663/2000]: Train loss: 1.0084, Valid loss: 0.9472\n"
     ]
    },
    {
     "name": "stderr",
     "output_type": "stream",
     "text": [
      "Epoch [1664/2000]: 100%|██████████| 10/10 [00:00<00:00, 24.41it/s, loss=0.788]\n"
     ]
    },
    {
     "name": "stdout",
     "output_type": "stream",
     "text": [
      "Epoch [1664/2000]: Train loss: 0.9821, Valid loss: 1.0084\n"
     ]
    },
    {
     "name": "stderr",
     "output_type": "stream",
     "text": [
      "Epoch [1665/2000]: 100%|██████████| 10/10 [00:00<00:00, 17.01it/s, loss=0.905]\n"
     ]
    },
    {
     "name": "stdout",
     "output_type": "stream",
     "text": [
      "Epoch [1665/2000]: Train loss: 0.9871, Valid loss: 0.9715\n"
     ]
    },
    {
     "name": "stderr",
     "output_type": "stream",
     "text": [
      "Epoch [1666/2000]: 100%|██████████| 10/10 [00:00<00:00, 20.61it/s, loss=1.08]\n"
     ]
    },
    {
     "name": "stdout",
     "output_type": "stream",
     "text": [
      "Epoch [1666/2000]: Train loss: 0.9998, Valid loss: 1.0051\n"
     ]
    },
    {
     "name": "stderr",
     "output_type": "stream",
     "text": [
      "Epoch [1667/2000]: 100%|██████████| 10/10 [00:00<00:00, 32.02it/s, loss=1.09]\n"
     ]
    },
    {
     "name": "stdout",
     "output_type": "stream",
     "text": [
      "Epoch [1667/2000]: Train loss: 1.0000, Valid loss: 1.0311\n"
     ]
    },
    {
     "name": "stderr",
     "output_type": "stream",
     "text": [
      "Epoch [1668/2000]: 100%|██████████| 10/10 [00:00<00:00, 20.60it/s, loss=0.825]\n"
     ]
    },
    {
     "name": "stdout",
     "output_type": "stream",
     "text": [
      "Epoch [1668/2000]: Train loss: 0.9884, Valid loss: 1.0331\n"
     ]
    },
    {
     "name": "stderr",
     "output_type": "stream",
     "text": [
      "Epoch [1669/2000]: 100%|██████████| 10/10 [00:00<00:00, 35.48it/s, loss=1.28]\n"
     ]
    },
    {
     "name": "stdout",
     "output_type": "stream",
     "text": [
      "Epoch [1669/2000]: Train loss: 1.0084, Valid loss: 1.0687\n"
     ]
    },
    {
     "name": "stderr",
     "output_type": "stream",
     "text": [
      "Epoch [1670/2000]: 100%|██████████| 10/10 [00:00<00:00, 28.08it/s, loss=1.27]\n"
     ]
    },
    {
     "name": "stdout",
     "output_type": "stream",
     "text": [
      "Epoch [1670/2000]: Train loss: 1.0197, Valid loss: 1.0315\n"
     ]
    },
    {
     "name": "stderr",
     "output_type": "stream",
     "text": [
      "Epoch [1671/2000]: 100%|██████████| 10/10 [00:00<00:00, 25.00it/s, loss=1.27]\n"
     ]
    },
    {
     "name": "stdout",
     "output_type": "stream",
     "text": [
      "Epoch [1671/2000]: Train loss: 1.0323, Valid loss: 1.0830\n"
     ]
    },
    {
     "name": "stderr",
     "output_type": "stream",
     "text": [
      "Epoch [1672/2000]: 100%|██████████| 10/10 [00:00<00:00, 37.33it/s, loss=1.15]\n"
     ]
    },
    {
     "name": "stdout",
     "output_type": "stream",
     "text": [
      "Epoch [1672/2000]: Train loss: 1.0339, Valid loss: 0.9985\n"
     ]
    },
    {
     "name": "stderr",
     "output_type": "stream",
     "text": [
      "Epoch [1673/2000]: 100%|██████████| 10/10 [00:00<00:00, 21.61it/s, loss=1.11]\n"
     ]
    },
    {
     "name": "stdout",
     "output_type": "stream",
     "text": [
      "Epoch [1673/2000]: Train loss: 1.0189, Valid loss: 1.0466\n"
     ]
    },
    {
     "name": "stderr",
     "output_type": "stream",
     "text": [
      "Epoch [1674/2000]: 100%|██████████| 10/10 [00:00<00:00, 36.29it/s, loss=1.16]\n"
     ]
    },
    {
     "name": "stdout",
     "output_type": "stream",
     "text": [
      "Epoch [1674/2000]: Train loss: 1.0034, Valid loss: 0.9890\n"
     ]
    },
    {
     "name": "stderr",
     "output_type": "stream",
     "text": [
      "Epoch [1675/2000]: 100%|██████████| 10/10 [00:00<00:00, 40.70it/s, loss=1.05]\n"
     ]
    },
    {
     "name": "stdout",
     "output_type": "stream",
     "text": [
      "Epoch [1675/2000]: Train loss: 0.9958, Valid loss: 1.0398\n"
     ]
    },
    {
     "name": "stderr",
     "output_type": "stream",
     "text": [
      "Epoch [1676/2000]: 100%|██████████| 10/10 [00:00<00:00, 20.91it/s, loss=0.926]\n"
     ]
    },
    {
     "name": "stdout",
     "output_type": "stream",
     "text": [
      "Epoch [1676/2000]: Train loss: 0.9890, Valid loss: 0.9809\n"
     ]
    },
    {
     "name": "stderr",
     "output_type": "stream",
     "text": [
      "Epoch [1677/2000]: 100%|██████████| 10/10 [00:00<00:00, 20.23it/s, loss=0.875]\n"
     ]
    },
    {
     "name": "stdout",
     "output_type": "stream",
     "text": [
      "Epoch [1677/2000]: Train loss: 0.9836, Valid loss: 0.9693\n"
     ]
    },
    {
     "name": "stderr",
     "output_type": "stream",
     "text": [
      "Epoch [1678/2000]: 100%|██████████| 10/10 [00:00<00:00, 20.33it/s, loss=1.34]\n"
     ]
    },
    {
     "name": "stdout",
     "output_type": "stream",
     "text": [
      "Epoch [1678/2000]: Train loss: 1.0107, Valid loss: 1.0309\n"
     ]
    },
    {
     "name": "stderr",
     "output_type": "stream",
     "text": [
      "Epoch [1679/2000]: 100%|██████████| 10/10 [00:00<00:00, 16.92it/s, loss=1.15]\n"
     ]
    },
    {
     "name": "stdout",
     "output_type": "stream",
     "text": [
      "Epoch [1679/2000]: Train loss: 1.0245, Valid loss: 0.9832\n"
     ]
    },
    {
     "name": "stderr",
     "output_type": "stream",
     "text": [
      "Epoch [1680/2000]: 100%|██████████| 10/10 [00:00<00:00, 20.95it/s, loss=1]   \n"
     ]
    },
    {
     "name": "stdout",
     "output_type": "stream",
     "text": [
      "Epoch [1680/2000]: Train loss: 0.9926, Valid loss: 1.0100\n"
     ]
    },
    {
     "name": "stderr",
     "output_type": "stream",
     "text": [
      "Epoch [1681/2000]: 100%|██████████| 10/10 [00:00<00:00, 21.20it/s, loss=0.895]\n"
     ]
    },
    {
     "name": "stdout",
     "output_type": "stream",
     "text": [
      "Epoch [1681/2000]: Train loss: 0.9830, Valid loss: 1.0139\n"
     ]
    },
    {
     "name": "stderr",
     "output_type": "stream",
     "text": [
      "Epoch [1682/2000]: 100%|██████████| 10/10 [00:00<00:00, 27.40it/s, loss=0.849]\n"
     ]
    },
    {
     "name": "stdout",
     "output_type": "stream",
     "text": [
      "Epoch [1682/2000]: Train loss: 0.9958, Valid loss: 1.0056\n"
     ]
    },
    {
     "name": "stderr",
     "output_type": "stream",
     "text": [
      "Epoch [1683/2000]: 100%|██████████| 10/10 [00:00<00:00, 20.30it/s, loss=0.892]\n"
     ]
    },
    {
     "name": "stdout",
     "output_type": "stream",
     "text": [
      "Epoch [1683/2000]: Train loss: 0.9874, Valid loss: 0.9595\n"
     ]
    },
    {
     "name": "stderr",
     "output_type": "stream",
     "text": [
      "Epoch [1684/2000]: 100%|██████████| 10/10 [00:00<00:00, 14.58it/s, loss=0.956]\n"
     ]
    },
    {
     "name": "stdout",
     "output_type": "stream",
     "text": [
      "Epoch [1684/2000]: Train loss: 0.9874, Valid loss: 0.9859\n"
     ]
    },
    {
     "name": "stderr",
     "output_type": "stream",
     "text": [
      "Epoch [1685/2000]: 100%|██████████| 10/10 [00:00<00:00, 34.19it/s, loss=1.01]\n"
     ]
    },
    {
     "name": "stdout",
     "output_type": "stream",
     "text": [
      "Epoch [1685/2000]: Train loss: 0.9897, Valid loss: 1.0614\n"
     ]
    },
    {
     "name": "stderr",
     "output_type": "stream",
     "text": [
      "Epoch [1686/2000]: 100%|██████████| 10/10 [00:00<00:00, 16.47it/s, loss=0.782]\n"
     ]
    },
    {
     "name": "stdout",
     "output_type": "stream",
     "text": [
      "Epoch [1686/2000]: Train loss: 0.9799, Valid loss: 1.1031\n"
     ]
    },
    {
     "name": "stderr",
     "output_type": "stream",
     "text": [
      "Epoch [1687/2000]: 100%|██████████| 10/10 [00:00<00:00, 28.81it/s, loss=1.18]\n"
     ]
    },
    {
     "name": "stdout",
     "output_type": "stream",
     "text": [
      "Epoch [1687/2000]: Train loss: 1.0029, Valid loss: 1.0006\n"
     ]
    },
    {
     "name": "stderr",
     "output_type": "stream",
     "text": [
      "Epoch [1688/2000]: 100%|██████████| 10/10 [00:00<00:00, 14.14it/s, loss=1.03]\n"
     ]
    },
    {
     "name": "stdout",
     "output_type": "stream",
     "text": [
      "Epoch [1688/2000]: Train loss: 0.9912, Valid loss: 1.0414\n"
     ]
    },
    {
     "name": "stderr",
     "output_type": "stream",
     "text": [
      "Epoch [1689/2000]: 100%|██████████| 10/10 [00:00<00:00, 25.03it/s, loss=1.02]\n"
     ]
    },
    {
     "name": "stdout",
     "output_type": "stream",
     "text": [
      "Epoch [1689/2000]: Train loss: 1.0027, Valid loss: 1.0258\n"
     ]
    },
    {
     "name": "stderr",
     "output_type": "stream",
     "text": [
      "Epoch [1690/2000]: 100%|██████████| 10/10 [00:00<00:00, 13.39it/s, loss=1.07]\n"
     ]
    },
    {
     "name": "stdout",
     "output_type": "stream",
     "text": [
      "Epoch [1690/2000]: Train loss: 1.0082, Valid loss: 0.9324\n"
     ]
    },
    {
     "name": "stderr",
     "output_type": "stream",
     "text": [
      "Epoch [1691/2000]: 100%|██████████| 10/10 [00:00<00:00, 31.87it/s, loss=0.851]\n"
     ]
    },
    {
     "name": "stdout",
     "output_type": "stream",
     "text": [
      "Epoch [1691/2000]: Train loss: 0.9832, Valid loss: 1.0400\n"
     ]
    },
    {
     "name": "stderr",
     "output_type": "stream",
     "text": [
      "Epoch [1692/2000]: 100%|██████████| 10/10 [00:00<00:00, 47.04it/s, loss=0.912]\n"
     ]
    },
    {
     "name": "stdout",
     "output_type": "stream",
     "text": [
      "Epoch [1692/2000]: Train loss: 0.9861, Valid loss: 1.0167\n"
     ]
    },
    {
     "name": "stderr",
     "output_type": "stream",
     "text": [
      "Epoch [1693/2000]: 100%|██████████| 10/10 [00:00<00:00, 25.02it/s, loss=0.96]\n"
     ]
    },
    {
     "name": "stdout",
     "output_type": "stream",
     "text": [
      "Epoch [1693/2000]: Train loss: 0.9857, Valid loss: 0.9732\n"
     ]
    },
    {
     "name": "stderr",
     "output_type": "stream",
     "text": [
      "Epoch [1694/2000]: 100%|██████████| 10/10 [00:00<00:00, 39.05it/s, loss=1.26]\n"
     ]
    },
    {
     "name": "stdout",
     "output_type": "stream",
     "text": [
      "Epoch [1694/2000]: Train loss: 1.0102, Valid loss: 0.9894\n"
     ]
    },
    {
     "name": "stderr",
     "output_type": "stream",
     "text": [
      "Epoch [1695/2000]: 100%|██████████| 10/10 [00:00<00:00, 59.48it/s, loss=1.06]\n"
     ]
    },
    {
     "name": "stdout",
     "output_type": "stream",
     "text": [
      "Epoch [1695/2000]: Train loss: 0.9953, Valid loss: 0.9960\n"
     ]
    },
    {
     "name": "stderr",
     "output_type": "stream",
     "text": [
      "Epoch [1696/2000]: 100%|██████████| 10/10 [00:00<00:00, 16.80it/s, loss=1.09]\n"
     ]
    },
    {
     "name": "stdout",
     "output_type": "stream",
     "text": [
      "Epoch [1696/2000]: Train loss: 0.9980, Valid loss: 1.0110\n"
     ]
    },
    {
     "name": "stderr",
     "output_type": "stream",
     "text": [
      "Epoch [1697/2000]: 100%|██████████| 10/10 [00:00<00:00, 42.89it/s, loss=1.03]\n"
     ]
    },
    {
     "name": "stdout",
     "output_type": "stream",
     "text": [
      "Epoch [1697/2000]: Train loss: 1.0024, Valid loss: 1.0531\n"
     ]
    },
    {
     "name": "stderr",
     "output_type": "stream",
     "text": [
      "Epoch [1698/2000]: 100%|██████████| 10/10 [00:00<00:00, 29.42it/s, loss=0.934]\n"
     ]
    },
    {
     "name": "stdout",
     "output_type": "stream",
     "text": [
      "Epoch [1698/2000]: Train loss: 0.9972, Valid loss: 0.9831\n"
     ]
    },
    {
     "name": "stderr",
     "output_type": "stream",
     "text": [
      "Epoch [1699/2000]: 100%|██████████| 10/10 [00:00<00:00, 26.10it/s, loss=1.23]\n"
     ]
    },
    {
     "name": "stdout",
     "output_type": "stream",
     "text": [
      "Epoch [1699/2000]: Train loss: 1.0052, Valid loss: 0.9932\n"
     ]
    },
    {
     "name": "stderr",
     "output_type": "stream",
     "text": [
      "Epoch [1700/2000]: 100%|██████████| 10/10 [00:00<00:00, 13.86it/s, loss=0.777]\n"
     ]
    },
    {
     "name": "stdout",
     "output_type": "stream",
     "text": [
      "Epoch [1700/2000]: Train loss: 0.9736, Valid loss: 1.0526\n"
     ]
    },
    {
     "name": "stderr",
     "output_type": "stream",
     "text": [
      "Epoch [1701/2000]: 100%|██████████| 10/10 [00:00<00:00, 16.22it/s, loss=0.64]\n"
     ]
    },
    {
     "name": "stdout",
     "output_type": "stream",
     "text": [
      "Epoch [1701/2000]: Train loss: 0.9641, Valid loss: 0.9970\n"
     ]
    },
    {
     "name": "stderr",
     "output_type": "stream",
     "text": [
      "Epoch [1702/2000]: 100%|██████████| 10/10 [00:00<00:00, 22.05it/s, loss=0.863]\n"
     ]
    },
    {
     "name": "stdout",
     "output_type": "stream",
     "text": [
      "Epoch [1702/2000]: Train loss: 0.9803, Valid loss: 0.9894\n"
     ]
    },
    {
     "name": "stderr",
     "output_type": "stream",
     "text": [
      "Epoch [1703/2000]: 100%|██████████| 10/10 [00:00<00:00, 27.03it/s, loss=1.22]\n"
     ]
    },
    {
     "name": "stdout",
     "output_type": "stream",
     "text": [
      "Epoch [1703/2000]: Train loss: 1.0027, Valid loss: 1.0585\n"
     ]
    },
    {
     "name": "stderr",
     "output_type": "stream",
     "text": [
      "Epoch [1704/2000]: 100%|██████████| 10/10 [00:00<00:00, 41.16it/s, loss=0.767]\n"
     ]
    },
    {
     "name": "stdout",
     "output_type": "stream",
     "text": [
      "Epoch [1704/2000]: Train loss: 0.9763, Valid loss: 0.9877\n"
     ]
    },
    {
     "name": "stderr",
     "output_type": "stream",
     "text": [
      "Epoch [1705/2000]: 100%|██████████| 10/10 [00:00<00:00, 43.80it/s, loss=0.786]\n"
     ]
    },
    {
     "name": "stdout",
     "output_type": "stream",
     "text": [
      "Epoch [1705/2000]: Train loss: 0.9854, Valid loss: 1.0215\n"
     ]
    },
    {
     "name": "stderr",
     "output_type": "stream",
     "text": [
      "Epoch [1706/2000]: 100%|██████████| 10/10 [00:00<00:00, 29.35it/s, loss=0.952]\n"
     ]
    },
    {
     "name": "stdout",
     "output_type": "stream",
     "text": [
      "Epoch [1706/2000]: Train loss: 0.9990, Valid loss: 0.9848\n"
     ]
    },
    {
     "name": "stderr",
     "output_type": "stream",
     "text": [
      "Epoch [1707/2000]: 100%|██████████| 10/10 [00:00<00:00, 29.95it/s, loss=0.762]\n"
     ]
    },
    {
     "name": "stdout",
     "output_type": "stream",
     "text": [
      "Epoch [1707/2000]: Train loss: 0.9822, Valid loss: 1.0286\n"
     ]
    },
    {
     "name": "stderr",
     "output_type": "stream",
     "text": [
      "Epoch [1708/2000]: 100%|██████████| 10/10 [00:00<00:00, 33.38it/s, loss=0.662]\n"
     ]
    },
    {
     "name": "stdout",
     "output_type": "stream",
     "text": [
      "Epoch [1708/2000]: Train loss: 0.9768, Valid loss: 0.9530\n"
     ]
    },
    {
     "name": "stderr",
     "output_type": "stream",
     "text": [
      "Epoch [1709/2000]: 100%|██████████| 10/10 [00:00<00:00, 13.51it/s, loss=1.25]\n"
     ]
    },
    {
     "name": "stdout",
     "output_type": "stream",
     "text": [
      "Epoch [1709/2000]: Train loss: 1.0213, Valid loss: 1.0429\n"
     ]
    },
    {
     "name": "stderr",
     "output_type": "stream",
     "text": [
      "Epoch [1710/2000]: 100%|██████████| 10/10 [00:00<00:00, 25.09it/s, loss=1.28]\n"
     ]
    },
    {
     "name": "stdout",
     "output_type": "stream",
     "text": [
      "Epoch [1710/2000]: Train loss: 1.0078, Valid loss: 1.0336\n"
     ]
    },
    {
     "name": "stderr",
     "output_type": "stream",
     "text": [
      "Epoch [1711/2000]: 100%|██████████| 10/10 [00:00<00:00, 42.77it/s, loss=0.823]\n"
     ]
    },
    {
     "name": "stdout",
     "output_type": "stream",
     "text": [
      "Epoch [1711/2000]: Train loss: 0.9754, Valid loss: 0.9794\n"
     ]
    },
    {
     "name": "stderr",
     "output_type": "stream",
     "text": [
      "Epoch [1712/2000]: 100%|██████████| 10/10 [00:00<00:00, 13.35it/s, loss=0.726]\n"
     ]
    },
    {
     "name": "stdout",
     "output_type": "stream",
     "text": [
      "Epoch [1712/2000]: Train loss: 0.9695, Valid loss: 1.0110\n"
     ]
    },
    {
     "name": "stderr",
     "output_type": "stream",
     "text": [
      "Epoch [1713/2000]: 100%|██████████| 10/10 [00:00<00:00, 28.92it/s, loss=1.1] \n"
     ]
    },
    {
     "name": "stdout",
     "output_type": "stream",
     "text": [
      "Epoch [1713/2000]: Train loss: 0.9926, Valid loss: 0.9309\n"
     ]
    },
    {
     "name": "stderr",
     "output_type": "stream",
     "text": [
      "Epoch [1714/2000]: 100%|██████████| 10/10 [00:00<00:00, 45.13it/s, loss=0.848]\n"
     ]
    },
    {
     "name": "stdout",
     "output_type": "stream",
     "text": [
      "Epoch [1714/2000]: Train loss: 0.9740, Valid loss: 1.1272\n"
     ]
    },
    {
     "name": "stderr",
     "output_type": "stream",
     "text": [
      "Epoch [1715/2000]: 100%|██████████| 10/10 [00:00<00:00, 32.41it/s, loss=0.91]\n"
     ]
    },
    {
     "name": "stdout",
     "output_type": "stream",
     "text": [
      "Epoch [1715/2000]: Train loss: 0.9903, Valid loss: 1.0700\n"
     ]
    },
    {
     "name": "stderr",
     "output_type": "stream",
     "text": [
      "Epoch [1716/2000]: 100%|██████████| 10/10 [00:00<00:00, 46.49it/s, loss=0.771]\n"
     ]
    },
    {
     "name": "stdout",
     "output_type": "stream",
     "text": [
      "Epoch [1716/2000]: Train loss: 0.9705, Valid loss: 1.0657\n"
     ]
    },
    {
     "name": "stderr",
     "output_type": "stream",
     "text": [
      "Epoch [1717/2000]: 100%|██████████| 10/10 [00:00<00:00, 17.41it/s, loss=1.03]\n"
     ]
    },
    {
     "name": "stdout",
     "output_type": "stream",
     "text": [
      "Epoch [1717/2000]: Train loss: 0.9894, Valid loss: 1.0235\n"
     ]
    },
    {
     "name": "stderr",
     "output_type": "stream",
     "text": [
      "Epoch [1718/2000]: 100%|██████████| 10/10 [00:00<00:00, 20.58it/s, loss=1.03]\n"
     ]
    },
    {
     "name": "stdout",
     "output_type": "stream",
     "text": [
      "Epoch [1718/2000]: Train loss: 0.9875, Valid loss: 1.0830\n"
     ]
    },
    {
     "name": "stderr",
     "output_type": "stream",
     "text": [
      "Epoch [1719/2000]: 100%|██████████| 10/10 [00:00<00:00, 24.57it/s, loss=0.716]\n"
     ]
    },
    {
     "name": "stdout",
     "output_type": "stream",
     "text": [
      "Epoch [1719/2000]: Train loss: 0.9697, Valid loss: 0.9916\n"
     ]
    },
    {
     "name": "stderr",
     "output_type": "stream",
     "text": [
      "Epoch [1720/2000]: 100%|██████████| 10/10 [00:00<00:00, 33.86it/s, loss=0.763]\n"
     ]
    },
    {
     "name": "stdout",
     "output_type": "stream",
     "text": [
      "Epoch [1720/2000]: Train loss: 0.9757, Valid loss: 1.0013\n"
     ]
    },
    {
     "name": "stderr",
     "output_type": "stream",
     "text": [
      "Epoch [1721/2000]: 100%|██████████| 10/10 [00:00<00:00, 19.51it/s, loss=1.27]\n"
     ]
    },
    {
     "name": "stdout",
     "output_type": "stream",
     "text": [
      "Epoch [1721/2000]: Train loss: 1.0090, Valid loss: 1.0117\n"
     ]
    },
    {
     "name": "stderr",
     "output_type": "stream",
     "text": [
      "Epoch [1722/2000]: 100%|██████████| 10/10 [00:00<00:00, 42.90it/s, loss=1.2] \n"
     ]
    },
    {
     "name": "stdout",
     "output_type": "stream",
     "text": [
      "Epoch [1722/2000]: Train loss: 1.0017, Valid loss: 1.0280\n"
     ]
    },
    {
     "name": "stderr",
     "output_type": "stream",
     "text": [
      "Epoch [1723/2000]: 100%|██████████| 10/10 [00:00<00:00, 37.69it/s, loss=1.08]\n"
     ]
    },
    {
     "name": "stdout",
     "output_type": "stream",
     "text": [
      "Epoch [1723/2000]: Train loss: 0.9955, Valid loss: 1.0409\n"
     ]
    },
    {
     "name": "stderr",
     "output_type": "stream",
     "text": [
      "Epoch [1724/2000]: 100%|██████████| 10/10 [00:00<00:00, 48.69it/s, loss=0.915]\n"
     ]
    },
    {
     "name": "stdout",
     "output_type": "stream",
     "text": [
      "Epoch [1724/2000]: Train loss: 0.9802, Valid loss: 1.0404\n"
     ]
    },
    {
     "name": "stderr",
     "output_type": "stream",
     "text": [
      "Epoch [1725/2000]: 100%|██████████| 10/10 [00:00<00:00, 20.21it/s, loss=1.15]\n"
     ]
    },
    {
     "name": "stdout",
     "output_type": "stream",
     "text": [
      "Epoch [1725/2000]: Train loss: 0.9984, Valid loss: 1.0231\n"
     ]
    },
    {
     "name": "stderr",
     "output_type": "stream",
     "text": [
      "Epoch [1726/2000]: 100%|██████████| 10/10 [00:00<00:00, 18.27it/s, loss=0.977]\n"
     ]
    },
    {
     "name": "stdout",
     "output_type": "stream",
     "text": [
      "Epoch [1726/2000]: Train loss: 0.9865, Valid loss: 1.0258\n"
     ]
    },
    {
     "name": "stderr",
     "output_type": "stream",
     "text": [
      "Epoch [1727/2000]: 100%|██████████| 10/10 [00:00<00:00, 14.72it/s, loss=0.7] \n"
     ]
    },
    {
     "name": "stdout",
     "output_type": "stream",
     "text": [
      "Epoch [1727/2000]: Train loss: 0.9659, Valid loss: 0.9766\n"
     ]
    },
    {
     "name": "stderr",
     "output_type": "stream",
     "text": [
      "Epoch [1728/2000]: 100%|██████████| 10/10 [00:00<00:00, 21.86it/s, loss=1.07]\n"
     ]
    },
    {
     "name": "stdout",
     "output_type": "stream",
     "text": [
      "Epoch [1728/2000]: Train loss: 0.9949, Valid loss: 1.0607\n"
     ]
    },
    {
     "name": "stderr",
     "output_type": "stream",
     "text": [
      "Epoch [1729/2000]: 100%|██████████| 10/10 [00:00<00:00, 20.15it/s, loss=1.14]\n"
     ]
    },
    {
     "name": "stdout",
     "output_type": "stream",
     "text": [
      "Epoch [1729/2000]: Train loss: 0.9953, Valid loss: 0.9967\n"
     ]
    },
    {
     "name": "stderr",
     "output_type": "stream",
     "text": [
      "Epoch [1730/2000]: 100%|██████████| 10/10 [00:00<00:00, 29.30it/s, loss=1.26]\n"
     ]
    },
    {
     "name": "stdout",
     "output_type": "stream",
     "text": [
      "Epoch [1730/2000]: Train loss: 1.0060, Valid loss: 0.9720\n"
     ]
    },
    {
     "name": "stderr",
     "output_type": "stream",
     "text": [
      "Epoch [1731/2000]: 100%|██████████| 10/10 [00:00<00:00, 17.12it/s, loss=1.42]\n"
     ]
    },
    {
     "name": "stdout",
     "output_type": "stream",
     "text": [
      "Epoch [1731/2000]: Train loss: 1.0078, Valid loss: 0.9764\n"
     ]
    },
    {
     "name": "stderr",
     "output_type": "stream",
     "text": [
      "Epoch [1732/2000]: 100%|██████████| 10/10 [00:00<00:00, 41.73it/s, loss=0.981]\n"
     ]
    },
    {
     "name": "stdout",
     "output_type": "stream",
     "text": [
      "Epoch [1732/2000]: Train loss: 0.9845, Valid loss: 1.0667\n"
     ]
    },
    {
     "name": "stderr",
     "output_type": "stream",
     "text": [
      "Epoch [1733/2000]: 100%|██████████| 10/10 [00:00<00:00, 38.12it/s, loss=0.969]\n"
     ]
    },
    {
     "name": "stdout",
     "output_type": "stream",
     "text": [
      "Epoch [1733/2000]: Train loss: 1.0174, Valid loss: 1.1363\n"
     ]
    },
    {
     "name": "stderr",
     "output_type": "stream",
     "text": [
      "Epoch [1734/2000]: 100%|██████████| 10/10 [00:00<00:00, 13.99it/s, loss=1.05]\n"
     ]
    },
    {
     "name": "stdout",
     "output_type": "stream",
     "text": [
      "Epoch [1734/2000]: Train loss: 1.0016, Valid loss: 0.9838\n"
     ]
    },
    {
     "name": "stderr",
     "output_type": "stream",
     "text": [
      "Epoch [1735/2000]: 100%|██████████| 10/10 [00:00<00:00, 38.01it/s, loss=1.06]\n"
     ]
    },
    {
     "name": "stdout",
     "output_type": "stream",
     "text": [
      "Epoch [1735/2000]: Train loss: 0.9960, Valid loss: 0.9723\n"
     ]
    },
    {
     "name": "stderr",
     "output_type": "stream",
     "text": [
      "Epoch [1736/2000]: 100%|██████████| 10/10 [00:00<00:00, 34.29it/s, loss=0.734]\n"
     ]
    },
    {
     "name": "stdout",
     "output_type": "stream",
     "text": [
      "Epoch [1736/2000]: Train loss: 0.9673, Valid loss: 1.0446\n"
     ]
    },
    {
     "name": "stderr",
     "output_type": "stream",
     "text": [
      "Epoch [1737/2000]: 100%|██████████| 10/10 [00:00<00:00, 13.02it/s, loss=1.1] \n"
     ]
    },
    {
     "name": "stdout",
     "output_type": "stream",
     "text": [
      "Epoch [1737/2000]: Train loss: 0.9941, Valid loss: 0.9760\n"
     ]
    },
    {
     "name": "stderr",
     "output_type": "stream",
     "text": [
      "Epoch [1738/2000]: 100%|██████████| 10/10 [00:00<00:00, 39.96it/s, loss=1.31]\n"
     ]
    },
    {
     "name": "stdout",
     "output_type": "stream",
     "text": [
      "Epoch [1738/2000]: Train loss: 1.0039, Valid loss: 1.0588\n"
     ]
    },
    {
     "name": "stderr",
     "output_type": "stream",
     "text": [
      "Epoch [1739/2000]: 100%|██████████| 10/10 [00:00<00:00, 38.42it/s, loss=1.61]\n"
     ]
    },
    {
     "name": "stdout",
     "output_type": "stream",
     "text": [
      "Epoch [1739/2000]: Train loss: 1.0269, Valid loss: 1.0148\n"
     ]
    },
    {
     "name": "stderr",
     "output_type": "stream",
     "text": [
      "Epoch [1740/2000]: 100%|██████████| 10/10 [00:00<00:00, 14.02it/s, loss=1.41]\n"
     ]
    },
    {
     "name": "stdout",
     "output_type": "stream",
     "text": [
      "Epoch [1740/2000]: Train loss: 1.0133, Valid loss: 1.0368\n"
     ]
    },
    {
     "name": "stderr",
     "output_type": "stream",
     "text": [
      "Epoch [1741/2000]: 100%|██████████| 10/10 [00:00<00:00, 38.86it/s, loss=0.888]\n"
     ]
    },
    {
     "name": "stdout",
     "output_type": "stream",
     "text": [
      "Epoch [1741/2000]: Train loss: 0.9783, Valid loss: 1.0079\n"
     ]
    },
    {
     "name": "stderr",
     "output_type": "stream",
     "text": [
      "Epoch [1742/2000]: 100%|██████████| 10/10 [00:00<00:00, 48.50it/s, loss=1.04]\n"
     ]
    },
    {
     "name": "stdout",
     "output_type": "stream",
     "text": [
      "Epoch [1742/2000]: Train loss: 0.9887, Valid loss: 0.9939\n"
     ]
    },
    {
     "name": "stderr",
     "output_type": "stream",
     "text": [
      "Epoch [1743/2000]: 100%|██████████| 10/10 [00:00<00:00, 33.55it/s, loss=0.935]\n"
     ]
    },
    {
     "name": "stdout",
     "output_type": "stream",
     "text": [
      "Epoch [1743/2000]: Train loss: 0.9826, Valid loss: 1.0068\n"
     ]
    },
    {
     "name": "stderr",
     "output_type": "stream",
     "text": [
      "Epoch [1744/2000]: 100%|██████████| 10/10 [00:00<00:00, 22.04it/s, loss=1.05]\n"
     ]
    },
    {
     "name": "stdout",
     "output_type": "stream",
     "text": [
      "Epoch [1744/2000]: Train loss: 0.9936, Valid loss: 1.0099\n"
     ]
    },
    {
     "name": "stderr",
     "output_type": "stream",
     "text": [
      "Epoch [1745/2000]: 100%|██████████| 10/10 [00:00<00:00, 28.23it/s, loss=1.05]\n"
     ]
    },
    {
     "name": "stdout",
     "output_type": "stream",
     "text": [
      "Epoch [1745/2000]: Train loss: 0.9858, Valid loss: 0.9752\n"
     ]
    },
    {
     "name": "stderr",
     "output_type": "stream",
     "text": [
      "Epoch [1746/2000]: 100%|██████████| 10/10 [00:00<00:00, 27.39it/s, loss=0.914]\n"
     ]
    },
    {
     "name": "stdout",
     "output_type": "stream",
     "text": [
      "Epoch [1746/2000]: Train loss: 0.9765, Valid loss: 0.9756\n"
     ]
    },
    {
     "name": "stderr",
     "output_type": "stream",
     "text": [
      "Epoch [1747/2000]: 100%|██████████| 10/10 [00:00<00:00, 24.01it/s, loss=1.13]\n"
     ]
    },
    {
     "name": "stdout",
     "output_type": "stream",
     "text": [
      "Epoch [1747/2000]: Train loss: 0.9900, Valid loss: 1.0473\n"
     ]
    },
    {
     "name": "stderr",
     "output_type": "stream",
     "text": [
      "Epoch [1748/2000]: 100%|██████████| 10/10 [00:00<00:00, 29.69it/s, loss=1.26]\n"
     ]
    },
    {
     "name": "stdout",
     "output_type": "stream",
     "text": [
      "Epoch [1748/2000]: Train loss: 0.9948, Valid loss: 0.9701\n"
     ]
    },
    {
     "name": "stderr",
     "output_type": "stream",
     "text": [
      "Epoch [1749/2000]: 100%|██████████| 10/10 [00:00<00:00, 10.42it/s, loss=1.13]\n"
     ]
    },
    {
     "name": "stdout",
     "output_type": "stream",
     "text": [
      "Epoch [1749/2000]: Train loss: 0.9969, Valid loss: 0.9862\n"
     ]
    },
    {
     "name": "stderr",
     "output_type": "stream",
     "text": [
      "Epoch [1750/2000]: 100%|██████████| 10/10 [00:00<00:00, 43.62it/s, loss=1.04]\n"
     ]
    },
    {
     "name": "stdout",
     "output_type": "stream",
     "text": [
      "Epoch [1750/2000]: Train loss: 0.9873, Valid loss: 1.0251\n"
     ]
    },
    {
     "name": "stderr",
     "output_type": "stream",
     "text": [
      "Epoch [1751/2000]: 100%|██████████| 10/10 [00:01<00:00,  8.96it/s, loss=0.834]\n"
     ]
    },
    {
     "name": "stdout",
     "output_type": "stream",
     "text": [
      "Epoch [1751/2000]: Train loss: 0.9720, Valid loss: 1.0367\n"
     ]
    },
    {
     "name": "stderr",
     "output_type": "stream",
     "text": [
      "Epoch [1752/2000]: 100%|██████████| 10/10 [00:00<00:00, 13.05it/s, loss=0.978]\n"
     ]
    },
    {
     "name": "stdout",
     "output_type": "stream",
     "text": [
      "Epoch [1752/2000]: Train loss: 0.9809, Valid loss: 0.9749\n"
     ]
    },
    {
     "name": "stderr",
     "output_type": "stream",
     "text": [
      "Epoch [1753/2000]: 100%|██████████| 10/10 [00:00<00:00, 31.19it/s, loss=0.783]\n"
     ]
    },
    {
     "name": "stdout",
     "output_type": "stream",
     "text": [
      "Epoch [1753/2000]: Train loss: 0.9714, Valid loss: 0.9536\n"
     ]
    },
    {
     "name": "stderr",
     "output_type": "stream",
     "text": [
      "Epoch [1754/2000]: 100%|██████████| 10/10 [00:00<00:00, 20.11it/s, loss=1.05]\n"
     ]
    },
    {
     "name": "stdout",
     "output_type": "stream",
     "text": [
      "Epoch [1754/2000]: Train loss: 0.9881, Valid loss: 0.9569\n"
     ]
    },
    {
     "name": "stderr",
     "output_type": "stream",
     "text": [
      "Epoch [1755/2000]: 100%|██████████| 10/10 [00:00<00:00, 41.72it/s, loss=1.55]\n"
     ]
    },
    {
     "name": "stdout",
     "output_type": "stream",
     "text": [
      "Epoch [1755/2000]: Train loss: 1.0151, Valid loss: 0.9627\n"
     ]
    },
    {
     "name": "stderr",
     "output_type": "stream",
     "text": [
      "Epoch [1756/2000]: 100%|██████████| 10/10 [00:00<00:00, 26.06it/s, loss=1.04]\n"
     ]
    },
    {
     "name": "stdout",
     "output_type": "stream",
     "text": [
      "Epoch [1756/2000]: Train loss: 0.9814, Valid loss: 1.0563\n"
     ]
    },
    {
     "name": "stderr",
     "output_type": "stream",
     "text": [
      "Epoch [1757/2000]: 100%|██████████| 10/10 [00:00<00:00, 19.82it/s, loss=1.2] \n"
     ]
    },
    {
     "name": "stdout",
     "output_type": "stream",
     "text": [
      "Epoch [1757/2000]: Train loss: 0.9927, Valid loss: 0.9604\n"
     ]
    },
    {
     "name": "stderr",
     "output_type": "stream",
     "text": [
      "Epoch [1758/2000]: 100%|██████████| 10/10 [00:00<00:00, 18.63it/s, loss=0.837]\n"
     ]
    },
    {
     "name": "stdout",
     "output_type": "stream",
     "text": [
      "Epoch [1758/2000]: Train loss: 0.9772, Valid loss: 0.9658\n"
     ]
    },
    {
     "name": "stderr",
     "output_type": "stream",
     "text": [
      "Epoch [1759/2000]: 100%|██████████| 10/10 [00:00<00:00, 20.94it/s, loss=0.769]\n"
     ]
    },
    {
     "name": "stdout",
     "output_type": "stream",
     "text": [
      "Epoch [1759/2000]: Train loss: 0.9656, Valid loss: 0.9745\n"
     ]
    },
    {
     "name": "stderr",
     "output_type": "stream",
     "text": [
      "Epoch [1760/2000]: 100%|██████████| 10/10 [00:01<00:00,  9.87it/s, loss=0.965]\n"
     ]
    },
    {
     "name": "stdout",
     "output_type": "stream",
     "text": [
      "Epoch [1760/2000]: Train loss: 0.9957, Valid loss: 0.9985\n"
     ]
    },
    {
     "name": "stderr",
     "output_type": "stream",
     "text": [
      "Epoch [1761/2000]: 100%|██████████| 10/10 [00:00<00:00, 27.95it/s, loss=0.907]\n"
     ]
    },
    {
     "name": "stdout",
     "output_type": "stream",
     "text": [
      "Epoch [1761/2000]: Train loss: 0.9837, Valid loss: 1.0478\n"
     ]
    },
    {
     "name": "stderr",
     "output_type": "stream",
     "text": [
      "Epoch [1762/2000]: 100%|██████████| 10/10 [00:00<00:00, 25.67it/s, loss=0.883]\n"
     ]
    },
    {
     "name": "stdout",
     "output_type": "stream",
     "text": [
      "Epoch [1762/2000]: Train loss: 0.9817, Valid loss: 0.9309\n"
     ]
    },
    {
     "name": "stderr",
     "output_type": "stream",
     "text": [
      "Epoch [1763/2000]: 100%|██████████| 10/10 [00:00<00:00, 27.87it/s, loss=0.755]\n"
     ]
    },
    {
     "name": "stdout",
     "output_type": "stream",
     "text": [
      "Epoch [1763/2000]: Train loss: 0.9734, Valid loss: 0.9443\n"
     ]
    },
    {
     "name": "stderr",
     "output_type": "stream",
     "text": [
      "Epoch [1764/2000]: 100%|██████████| 10/10 [00:00<00:00, 25.44it/s, loss=1.06]\n"
     ]
    },
    {
     "name": "stdout",
     "output_type": "stream",
     "text": [
      "Epoch [1764/2000]: Train loss: 1.0007, Valid loss: 1.0654\n"
     ]
    },
    {
     "name": "stderr",
     "output_type": "stream",
     "text": [
      "Epoch [1765/2000]: 100%|██████████| 10/10 [00:00<00:00, 46.62it/s, loss=0.834]\n"
     ]
    },
    {
     "name": "stdout",
     "output_type": "stream",
     "text": [
      "Epoch [1765/2000]: Train loss: 0.9903, Valid loss: 1.0728\n"
     ]
    },
    {
     "name": "stderr",
     "output_type": "stream",
     "text": [
      "Epoch [1766/2000]: 100%|██████████| 10/10 [00:00<00:00, 36.45it/s, loss=0.942]\n"
     ]
    },
    {
     "name": "stdout",
     "output_type": "stream",
     "text": [
      "Epoch [1766/2000]: Train loss: 0.9775, Valid loss: 1.0521\n"
     ]
    },
    {
     "name": "stderr",
     "output_type": "stream",
     "text": [
      "Epoch [1767/2000]: 100%|██████████| 10/10 [00:00<00:00, 15.63it/s, loss=0.854]\n"
     ]
    },
    {
     "name": "stdout",
     "output_type": "stream",
     "text": [
      "Epoch [1767/2000]: Train loss: 0.9717, Valid loss: 0.9964\n"
     ]
    },
    {
     "name": "stderr",
     "output_type": "stream",
     "text": [
      "Epoch [1768/2000]: 100%|██████████| 10/10 [00:00<00:00, 35.38it/s, loss=0.838]\n"
     ]
    },
    {
     "name": "stdout",
     "output_type": "stream",
     "text": [
      "Epoch [1768/2000]: Train loss: 0.9684, Valid loss: 0.9458\n"
     ]
    },
    {
     "name": "stderr",
     "output_type": "stream",
     "text": [
      "Epoch [1769/2000]: 100%|██████████| 10/10 [00:00<00:00, 16.41it/s, loss=1.1] \n"
     ]
    },
    {
     "name": "stdout",
     "output_type": "stream",
     "text": [
      "Epoch [1769/2000]: Train loss: 0.9921, Valid loss: 0.9477\n"
     ]
    },
    {
     "name": "stderr",
     "output_type": "stream",
     "text": [
      "Epoch [1770/2000]: 100%|██████████| 10/10 [00:00<00:00, 14.35it/s, loss=1.13]\n"
     ]
    },
    {
     "name": "stdout",
     "output_type": "stream",
     "text": [
      "Epoch [1770/2000]: Train loss: 1.0142, Valid loss: 0.9642\n"
     ]
    },
    {
     "name": "stderr",
     "output_type": "stream",
     "text": [
      "Epoch [1771/2000]: 100%|██████████| 10/10 [00:00<00:00, 38.32it/s, loss=1.04]\n"
     ]
    },
    {
     "name": "stdout",
     "output_type": "stream",
     "text": [
      "Epoch [1771/2000]: Train loss: 0.9847, Valid loss: 0.9296\n"
     ]
    },
    {
     "name": "stderr",
     "output_type": "stream",
     "text": [
      "Epoch [1772/2000]: 100%|██████████| 10/10 [00:00<00:00, 24.41it/s, loss=1.21]\n"
     ]
    },
    {
     "name": "stdout",
     "output_type": "stream",
     "text": [
      "Epoch [1772/2000]: Train loss: 0.9911, Valid loss: 0.9758\n"
     ]
    },
    {
     "name": "stderr",
     "output_type": "stream",
     "text": [
      "Epoch [1773/2000]: 100%|██████████| 10/10 [00:00<00:00, 18.31it/s, loss=0.743]\n"
     ]
    },
    {
     "name": "stdout",
     "output_type": "stream",
     "text": [
      "Epoch [1773/2000]: Train loss: 0.9677, Valid loss: 0.9899\n"
     ]
    },
    {
     "name": "stderr",
     "output_type": "stream",
     "text": [
      "Epoch [1774/2000]: 100%|██████████| 10/10 [00:00<00:00, 37.12it/s, loss=1.12]\n"
     ]
    },
    {
     "name": "stdout",
     "output_type": "stream",
     "text": [
      "Epoch [1774/2000]: Train loss: 0.9943, Valid loss: 0.9742\n"
     ]
    },
    {
     "name": "stderr",
     "output_type": "stream",
     "text": [
      "Epoch [1775/2000]: 100%|██████████| 10/10 [00:00<00:00, 22.74it/s, loss=1.07]\n"
     ]
    },
    {
     "name": "stdout",
     "output_type": "stream",
     "text": [
      "Epoch [1775/2000]: Train loss: 0.9915, Valid loss: 0.9467\n"
     ]
    },
    {
     "name": "stderr",
     "output_type": "stream",
     "text": [
      "Epoch [1776/2000]: 100%|██████████| 10/10 [00:00<00:00, 68.90it/s, loss=1.01]\n"
     ]
    },
    {
     "name": "stdout",
     "output_type": "stream",
     "text": [
      "Epoch [1776/2000]: Train loss: 0.9809, Valid loss: 0.9747\n"
     ]
    },
    {
     "name": "stderr",
     "output_type": "stream",
     "text": [
      "Epoch [1777/2000]: 100%|██████████| 10/10 [00:00<00:00, 23.55it/s, loss=1.06]\n"
     ]
    },
    {
     "name": "stdout",
     "output_type": "stream",
     "text": [
      "Epoch [1777/2000]: Train loss: 0.9853, Valid loss: 0.9960\n"
     ]
    },
    {
     "name": "stderr",
     "output_type": "stream",
     "text": [
      "Epoch [1778/2000]: 100%|██████████| 10/10 [00:00<00:00, 25.87it/s, loss=0.979]\n"
     ]
    },
    {
     "name": "stdout",
     "output_type": "stream",
     "text": [
      "Epoch [1778/2000]: Train loss: 0.9808, Valid loss: 0.9357\n"
     ]
    },
    {
     "name": "stderr",
     "output_type": "stream",
     "text": [
      "Epoch [1779/2000]: 100%|██████████| 10/10 [00:00<00:00, 45.35it/s, loss=1.05]\n"
     ]
    },
    {
     "name": "stdout",
     "output_type": "stream",
     "text": [
      "Epoch [1779/2000]: Train loss: 0.9806, Valid loss: 0.9707\n"
     ]
    },
    {
     "name": "stderr",
     "output_type": "stream",
     "text": [
      "Epoch [1780/2000]: 100%|██████████| 10/10 [00:00<00:00, 11.23it/s, loss=0.953]\n"
     ]
    },
    {
     "name": "stdout",
     "output_type": "stream",
     "text": [
      "Epoch [1780/2000]: Train loss: 0.9880, Valid loss: 1.0585\n"
     ]
    },
    {
     "name": "stderr",
     "output_type": "stream",
     "text": [
      "Epoch [1781/2000]: 100%|██████████| 10/10 [00:00<00:00, 22.70it/s, loss=0.949]\n"
     ]
    },
    {
     "name": "stdout",
     "output_type": "stream",
     "text": [
      "Epoch [1781/2000]: Train loss: 0.9746, Valid loss: 1.0067\n"
     ]
    },
    {
     "name": "stderr",
     "output_type": "stream",
     "text": [
      "Epoch [1782/2000]: 100%|██████████| 10/10 [00:00<00:00, 18.36it/s, loss=0.938]\n"
     ]
    },
    {
     "name": "stdout",
     "output_type": "stream",
     "text": [
      "Epoch [1782/2000]: Train loss: 0.9839, Valid loss: 1.0246\n"
     ]
    },
    {
     "name": "stderr",
     "output_type": "stream",
     "text": [
      "Epoch [1783/2000]: 100%|██████████| 10/10 [00:00<00:00, 18.65it/s, loss=0.909]\n"
     ]
    },
    {
     "name": "stdout",
     "output_type": "stream",
     "text": [
      "Epoch [1783/2000]: Train loss: 0.9838, Valid loss: 0.9828\n"
     ]
    },
    {
     "name": "stderr",
     "output_type": "stream",
     "text": [
      "Epoch [1784/2000]: 100%|██████████| 10/10 [00:00<00:00, 37.85it/s, loss=1.02]\n"
     ]
    },
    {
     "name": "stdout",
     "output_type": "stream",
     "text": [
      "Epoch [1784/2000]: Train loss: 1.0094, Valid loss: 1.0096\n"
     ]
    },
    {
     "name": "stderr",
     "output_type": "stream",
     "text": [
      "Epoch [1785/2000]: 100%|██████████| 10/10 [00:00<00:00, 20.40it/s, loss=0.944]\n"
     ]
    },
    {
     "name": "stdout",
     "output_type": "stream",
     "text": [
      "Epoch [1785/2000]: Train loss: 1.0069, Valid loss: 1.0230\n"
     ]
    },
    {
     "name": "stderr",
     "output_type": "stream",
     "text": [
      "Epoch [1786/2000]: 100%|██████████| 10/10 [00:00<00:00, 22.61it/s, loss=1.07]\n"
     ]
    },
    {
     "name": "stdout",
     "output_type": "stream",
     "text": [
      "Epoch [1786/2000]: Train loss: 1.0050, Valid loss: 0.9604\n"
     ]
    },
    {
     "name": "stderr",
     "output_type": "stream",
     "text": [
      "Epoch [1787/2000]: 100%|██████████| 10/10 [00:00<00:00, 28.21it/s, loss=1.05]\n"
     ]
    },
    {
     "name": "stdout",
     "output_type": "stream",
     "text": [
      "Epoch [1787/2000]: Train loss: 0.9843, Valid loss: 0.9962\n"
     ]
    },
    {
     "name": "stderr",
     "output_type": "stream",
     "text": [
      "Epoch [1788/2000]: 100%|██████████| 10/10 [00:00<00:00, 33.23it/s, loss=1.04]\n"
     ]
    },
    {
     "name": "stdout",
     "output_type": "stream",
     "text": [
      "Epoch [1788/2000]: Train loss: 0.9870, Valid loss: 0.9664\n"
     ]
    },
    {
     "name": "stderr",
     "output_type": "stream",
     "text": [
      "Epoch [1789/2000]: 100%|██████████| 10/10 [00:00<00:00, 29.87it/s, loss=0.745]\n"
     ]
    },
    {
     "name": "stdout",
     "output_type": "stream",
     "text": [
      "Epoch [1789/2000]: Train loss: 0.9607, Valid loss: 1.0641\n"
     ]
    },
    {
     "name": "stderr",
     "output_type": "stream",
     "text": [
      "Epoch [1790/2000]: 100%|██████████| 10/10 [00:00<00:00, 18.71it/s, loss=0.994]\n"
     ]
    },
    {
     "name": "stdout",
     "output_type": "stream",
     "text": [
      "Epoch [1790/2000]: Train loss: 0.9788, Valid loss: 0.9947\n"
     ]
    },
    {
     "name": "stderr",
     "output_type": "stream",
     "text": [
      "Epoch [1791/2000]: 100%|██████████| 10/10 [00:00<00:00, 26.79it/s, loss=0.842]\n"
     ]
    },
    {
     "name": "stdout",
     "output_type": "stream",
     "text": [
      "Epoch [1791/2000]: Train loss: 0.9842, Valid loss: 1.0260\n"
     ]
    },
    {
     "name": "stderr",
     "output_type": "stream",
     "text": [
      "Epoch [1792/2000]: 100%|██████████| 10/10 [00:00<00:00, 24.55it/s, loss=0.967]\n"
     ]
    },
    {
     "name": "stdout",
     "output_type": "stream",
     "text": [
      "Epoch [1792/2000]: Train loss: 0.9755, Valid loss: 1.0143\n"
     ]
    },
    {
     "name": "stderr",
     "output_type": "stream",
     "text": [
      "Epoch [1793/2000]: 100%|██████████| 10/10 [00:00<00:00, 12.98it/s, loss=0.932]\n"
     ]
    },
    {
     "name": "stdout",
     "output_type": "stream",
     "text": [
      "Epoch [1793/2000]: Train loss: 0.9721, Valid loss: 1.0800\n"
     ]
    },
    {
     "name": "stderr",
     "output_type": "stream",
     "text": [
      "Epoch [1794/2000]: 100%|██████████| 10/10 [00:00<00:00, 24.05it/s, loss=0.955]\n"
     ]
    },
    {
     "name": "stdout",
     "output_type": "stream",
     "text": [
      "Epoch [1794/2000]: Train loss: 0.9747, Valid loss: 1.0404\n"
     ]
    },
    {
     "name": "stderr",
     "output_type": "stream",
     "text": [
      "Epoch [1795/2000]: 100%|██████████| 10/10 [00:00<00:00, 18.12it/s, loss=0.985]\n"
     ]
    },
    {
     "name": "stdout",
     "output_type": "stream",
     "text": [
      "Epoch [1795/2000]: Train loss: 0.9785, Valid loss: 0.9362\n"
     ]
    },
    {
     "name": "stderr",
     "output_type": "stream",
     "text": [
      "Epoch [1796/2000]: 100%|██████████| 10/10 [00:00<00:00, 14.20it/s, loss=1.08]\n"
     ]
    },
    {
     "name": "stdout",
     "output_type": "stream",
     "text": [
      "Epoch [1796/2000]: Train loss: 0.9797, Valid loss: 0.9712\n"
     ]
    },
    {
     "name": "stderr",
     "output_type": "stream",
     "text": [
      "Epoch [1797/2000]: 100%|██████████| 10/10 [00:00<00:00, 25.62it/s, loss=0.968]\n"
     ]
    },
    {
     "name": "stdout",
     "output_type": "stream",
     "text": [
      "Epoch [1797/2000]: Train loss: 0.9730, Valid loss: 0.9776\n"
     ]
    },
    {
     "name": "stderr",
     "output_type": "stream",
     "text": [
      "Epoch [1798/2000]: 100%|██████████| 10/10 [00:00<00:00, 15.40it/s, loss=0.841]\n"
     ]
    },
    {
     "name": "stdout",
     "output_type": "stream",
     "text": [
      "Epoch [1798/2000]: Train loss: 0.9687, Valid loss: 0.9991\n"
     ]
    },
    {
     "name": "stderr",
     "output_type": "stream",
     "text": [
      "Epoch [1799/2000]: 100%|██████████| 10/10 [00:00<00:00, 23.58it/s, loss=1.13]\n"
     ]
    },
    {
     "name": "stdout",
     "output_type": "stream",
     "text": [
      "Epoch [1799/2000]: Train loss: 0.9875, Valid loss: 0.9612\n"
     ]
    },
    {
     "name": "stderr",
     "output_type": "stream",
     "text": [
      "Epoch [1800/2000]: 100%|██████████| 10/10 [00:01<00:00,  9.63it/s, loss=1.08]\n"
     ]
    },
    {
     "name": "stdout",
     "output_type": "stream",
     "text": [
      "Epoch [1800/2000]: Train loss: 0.9807, Valid loss: 1.0168\n"
     ]
    },
    {
     "name": "stderr",
     "output_type": "stream",
     "text": [
      "Epoch [1801/2000]: 100%|██████████| 10/10 [00:00<00:00, 21.46it/s, loss=1.03]\n"
     ]
    },
    {
     "name": "stdout",
     "output_type": "stream",
     "text": [
      "Epoch [1801/2000]: Train loss: 0.9772, Valid loss: 0.9820\n"
     ]
    },
    {
     "name": "stderr",
     "output_type": "stream",
     "text": [
      "Epoch [1802/2000]: 100%|██████████| 10/10 [00:00<00:00, 15.56it/s, loss=0.768]\n"
     ]
    },
    {
     "name": "stdout",
     "output_type": "stream",
     "text": [
      "Epoch [1802/2000]: Train loss: 0.9742, Valid loss: 1.0019\n"
     ]
    },
    {
     "name": "stderr",
     "output_type": "stream",
     "text": [
      "Epoch [1803/2000]: 100%|██████████| 10/10 [00:00<00:00, 13.68it/s, loss=0.991]\n"
     ]
    },
    {
     "name": "stdout",
     "output_type": "stream",
     "text": [
      "Epoch [1803/2000]: Train loss: 0.9860, Valid loss: 1.0318\n"
     ]
    },
    {
     "name": "stderr",
     "output_type": "stream",
     "text": [
      "Epoch [1804/2000]: 100%|██████████| 10/10 [00:00<00:00, 27.24it/s, loss=0.859]\n"
     ]
    },
    {
     "name": "stdout",
     "output_type": "stream",
     "text": [
      "Epoch [1804/2000]: Train loss: 0.9758, Valid loss: 1.0452\n"
     ]
    },
    {
     "name": "stderr",
     "output_type": "stream",
     "text": [
      "Epoch [1805/2000]: 100%|██████████| 10/10 [00:00<00:00, 16.55it/s, loss=1.33]\n"
     ]
    },
    {
     "name": "stdout",
     "output_type": "stream",
     "text": [
      "Epoch [1805/2000]: Train loss: 1.0106, Valid loss: 1.0903\n"
     ]
    },
    {
     "name": "stderr",
     "output_type": "stream",
     "text": [
      "Epoch [1806/2000]: 100%|██████████| 10/10 [00:00<00:00, 49.17it/s, loss=0.825]\n"
     ]
    },
    {
     "name": "stdout",
     "output_type": "stream",
     "text": [
      "Epoch [1806/2000]: Train loss: 0.9688, Valid loss: 0.9773\n"
     ]
    },
    {
     "name": "stderr",
     "output_type": "stream",
     "text": [
      "Epoch [1807/2000]: 100%|██████████| 10/10 [00:00<00:00, 27.51it/s, loss=0.909]\n"
     ]
    },
    {
     "name": "stdout",
     "output_type": "stream",
     "text": [
      "Epoch [1807/2000]: Train loss: 0.9840, Valid loss: 0.9236\n"
     ]
    },
    {
     "name": "stderr",
     "output_type": "stream",
     "text": [
      "Epoch [1808/2000]: 100%|██████████| 10/10 [00:00<00:00, 36.21it/s, loss=1.35]\n"
     ]
    },
    {
     "name": "stdout",
     "output_type": "stream",
     "text": [
      "Epoch [1808/2000]: Train loss: 1.0011, Valid loss: 1.0637\n"
     ]
    },
    {
     "name": "stderr",
     "output_type": "stream",
     "text": [
      "Epoch [1809/2000]: 100%|██████████| 10/10 [00:00<00:00, 17.76it/s, loss=0.973]\n"
     ]
    },
    {
     "name": "stdout",
     "output_type": "stream",
     "text": [
      "Epoch [1809/2000]: Train loss: 0.9711, Valid loss: 0.9923\n"
     ]
    },
    {
     "name": "stderr",
     "output_type": "stream",
     "text": [
      "Epoch [1810/2000]: 100%|██████████| 10/10 [00:00<00:00, 45.83it/s, loss=0.751]\n"
     ]
    },
    {
     "name": "stdout",
     "output_type": "stream",
     "text": [
      "Epoch [1810/2000]: Train loss: 0.9638, Valid loss: 0.9631\n"
     ]
    },
    {
     "name": "stderr",
     "output_type": "stream",
     "text": [
      "Epoch [1811/2000]: 100%|██████████| 10/10 [00:00<00:00, 22.30it/s, loss=0.904]\n"
     ]
    },
    {
     "name": "stdout",
     "output_type": "stream",
     "text": [
      "Epoch [1811/2000]: Train loss: 0.9696, Valid loss: 0.9875\n"
     ]
    },
    {
     "name": "stderr",
     "output_type": "stream",
     "text": [
      "Epoch [1812/2000]: 100%|██████████| 10/10 [00:00<00:00, 35.23it/s, loss=0.995]\n"
     ]
    },
    {
     "name": "stdout",
     "output_type": "stream",
     "text": [
      "Epoch [1812/2000]: Train loss: 0.9838, Valid loss: 1.0077\n"
     ]
    },
    {
     "name": "stderr",
     "output_type": "stream",
     "text": [
      "Epoch [1813/2000]: 100%|██████████| 10/10 [00:00<00:00, 37.77it/s, loss=0.857]\n"
     ]
    },
    {
     "name": "stdout",
     "output_type": "stream",
     "text": [
      "Epoch [1813/2000]: Train loss: 0.9737, Valid loss: 0.9916\n"
     ]
    },
    {
     "name": "stderr",
     "output_type": "stream",
     "text": [
      "Epoch [1814/2000]: 100%|██████████| 10/10 [00:00<00:00, 13.38it/s, loss=0.749]\n"
     ]
    },
    {
     "name": "stdout",
     "output_type": "stream",
     "text": [
      "Epoch [1814/2000]: Train loss: 0.9756, Valid loss: 1.0285\n"
     ]
    },
    {
     "name": "stderr",
     "output_type": "stream",
     "text": [
      "Epoch [1815/2000]: 100%|██████████| 10/10 [00:00<00:00, 36.53it/s, loss=0.85]\n"
     ]
    },
    {
     "name": "stdout",
     "output_type": "stream",
     "text": [
      "Epoch [1815/2000]: Train loss: 0.9663, Valid loss: 0.9547\n"
     ]
    },
    {
     "name": "stderr",
     "output_type": "stream",
     "text": [
      "Epoch [1816/2000]: 100%|██████████| 10/10 [00:00<00:00, 25.28it/s, loss=1.06]\n"
     ]
    },
    {
     "name": "stdout",
     "output_type": "stream",
     "text": [
      "Epoch [1816/2000]: Train loss: 0.9776, Valid loss: 0.9681\n"
     ]
    },
    {
     "name": "stderr",
     "output_type": "stream",
     "text": [
      "Epoch [1817/2000]: 100%|██████████| 10/10 [00:00<00:00, 33.24it/s, loss=0.94]\n"
     ]
    },
    {
     "name": "stdout",
     "output_type": "stream",
     "text": [
      "Epoch [1817/2000]: Train loss: 0.9743, Valid loss: 0.9690\n"
     ]
    },
    {
     "name": "stderr",
     "output_type": "stream",
     "text": [
      "Epoch [1818/2000]: 100%|██████████| 10/10 [00:00<00:00, 21.43it/s, loss=0.764]\n"
     ]
    },
    {
     "name": "stdout",
     "output_type": "stream",
     "text": [
      "Epoch [1818/2000]: Train loss: 0.9605, Valid loss: 0.9732\n"
     ]
    },
    {
     "name": "stderr",
     "output_type": "stream",
     "text": [
      "Epoch [1819/2000]: 100%|██████████| 10/10 [00:00<00:00, 13.23it/s, loss=0.756]\n"
     ]
    },
    {
     "name": "stdout",
     "output_type": "stream",
     "text": [
      "Epoch [1819/2000]: Train loss: 0.9608, Valid loss: 1.0531\n"
     ]
    },
    {
     "name": "stderr",
     "output_type": "stream",
     "text": [
      "Epoch [1820/2000]: 100%|██████████| 10/10 [00:00<00:00, 18.13it/s, loss=1.39]\n"
     ]
    },
    {
     "name": "stdout",
     "output_type": "stream",
     "text": [
      "Epoch [1820/2000]: Train loss: 0.9953, Valid loss: 0.9953\n"
     ]
    },
    {
     "name": "stderr",
     "output_type": "stream",
     "text": [
      "Epoch [1821/2000]: 100%|██████████| 10/10 [00:00<00:00, 30.62it/s, loss=1.02]\n"
     ]
    },
    {
     "name": "stdout",
     "output_type": "stream",
     "text": [
      "Epoch [1821/2000]: Train loss: 0.9822, Valid loss: 0.9367\n"
     ]
    },
    {
     "name": "stderr",
     "output_type": "stream",
     "text": [
      "Epoch [1822/2000]: 100%|██████████| 10/10 [00:00<00:00, 53.94it/s, loss=0.773]\n"
     ]
    },
    {
     "name": "stdout",
     "output_type": "stream",
     "text": [
      "Epoch [1822/2000]: Train loss: 0.9692, Valid loss: 1.0148\n"
     ]
    },
    {
     "name": "stderr",
     "output_type": "stream",
     "text": [
      "Epoch [1823/2000]: 100%|██████████| 10/10 [00:00<00:00, 37.17it/s, loss=0.851]\n"
     ]
    },
    {
     "name": "stdout",
     "output_type": "stream",
     "text": [
      "Epoch [1823/2000]: Train loss: 0.9785, Valid loss: 1.0370\n"
     ]
    },
    {
     "name": "stderr",
     "output_type": "stream",
     "text": [
      "Epoch [1824/2000]: 100%|██████████| 10/10 [00:00<00:00, 41.20it/s, loss=0.678]\n"
     ]
    },
    {
     "name": "stdout",
     "output_type": "stream",
     "text": [
      "Epoch [1824/2000]: Train loss: 0.9536, Valid loss: 0.9762\n"
     ]
    },
    {
     "name": "stderr",
     "output_type": "stream",
     "text": [
      "Epoch [1825/2000]: 100%|██████████| 10/10 [00:00<00:00, 24.43it/s, loss=0.998]\n"
     ]
    },
    {
     "name": "stdout",
     "output_type": "stream",
     "text": [
      "Epoch [1825/2000]: Train loss: 0.9877, Valid loss: 0.9757\n"
     ]
    },
    {
     "name": "stderr",
     "output_type": "stream",
     "text": [
      "Epoch [1826/2000]: 100%|██████████| 10/10 [00:00<00:00, 15.24it/s, loss=1.06]\n"
     ]
    },
    {
     "name": "stdout",
     "output_type": "stream",
     "text": [
      "Epoch [1826/2000]: Train loss: 0.9884, Valid loss: 0.9400\n"
     ]
    },
    {
     "name": "stderr",
     "output_type": "stream",
     "text": [
      "Epoch [1827/2000]: 100%|██████████| 10/10 [00:00<00:00, 23.75it/s, loss=0.996]\n"
     ]
    },
    {
     "name": "stdout",
     "output_type": "stream",
     "text": [
      "Epoch [1827/2000]: Train loss: 0.9711, Valid loss: 0.9264\n"
     ]
    },
    {
     "name": "stderr",
     "output_type": "stream",
     "text": [
      "Epoch [1828/2000]: 100%|██████████| 10/10 [00:00<00:00, 20.77it/s, loss=0.83]\n"
     ]
    },
    {
     "name": "stdout",
     "output_type": "stream",
     "text": [
      "Epoch [1828/2000]: Train loss: 0.9716, Valid loss: 1.0306\n"
     ]
    },
    {
     "name": "stderr",
     "output_type": "stream",
     "text": [
      "Epoch [1829/2000]: 100%|██████████| 10/10 [00:00<00:00, 33.21it/s, loss=1.02]\n"
     ]
    },
    {
     "name": "stdout",
     "output_type": "stream",
     "text": [
      "Epoch [1829/2000]: Train loss: 0.9736, Valid loss: 1.0160\n"
     ]
    },
    {
     "name": "stderr",
     "output_type": "stream",
     "text": [
      "Epoch [1830/2000]: 100%|██████████| 10/10 [00:00<00:00, 14.50it/s, loss=0.94]\n"
     ]
    },
    {
     "name": "stdout",
     "output_type": "stream",
     "text": [
      "Epoch [1830/2000]: Train loss: 0.9747, Valid loss: 0.9591\n"
     ]
    },
    {
     "name": "stderr",
     "output_type": "stream",
     "text": [
      "Epoch [1831/2000]: 100%|██████████| 10/10 [00:00<00:00, 22.75it/s, loss=1.16]\n"
     ]
    },
    {
     "name": "stdout",
     "output_type": "stream",
     "text": [
      "Epoch [1831/2000]: Train loss: 0.9851, Valid loss: 0.9718\n"
     ]
    },
    {
     "name": "stderr",
     "output_type": "stream",
     "text": [
      "Epoch [1832/2000]: 100%|██████████| 10/10 [00:00<00:00, 21.75it/s, loss=1.05]\n"
     ]
    },
    {
     "name": "stdout",
     "output_type": "stream",
     "text": [
      "Epoch [1832/2000]: Train loss: 0.9871, Valid loss: 0.9838\n"
     ]
    },
    {
     "name": "stderr",
     "output_type": "stream",
     "text": [
      "Epoch [1833/2000]: 100%|██████████| 10/10 [00:00<00:00, 21.18it/s, loss=1.18]\n"
     ]
    },
    {
     "name": "stdout",
     "output_type": "stream",
     "text": [
      "Epoch [1833/2000]: Train loss: 0.9962, Valid loss: 0.9948\n"
     ]
    },
    {
     "name": "stderr",
     "output_type": "stream",
     "text": [
      "Epoch [1834/2000]: 100%|██████████| 10/10 [00:00<00:00, 29.94it/s, loss=1.16]\n"
     ]
    },
    {
     "name": "stdout",
     "output_type": "stream",
     "text": [
      "Epoch [1834/2000]: Train loss: 0.9802, Valid loss: 0.9581\n"
     ]
    },
    {
     "name": "stderr",
     "output_type": "stream",
     "text": [
      "Epoch [1835/2000]: 100%|██████████| 10/10 [00:00<00:00, 32.02it/s, loss=1.02]\n"
     ]
    },
    {
     "name": "stdout",
     "output_type": "stream",
     "text": [
      "Epoch [1835/2000]: Train loss: 0.9724, Valid loss: 0.9588\n"
     ]
    },
    {
     "name": "stderr",
     "output_type": "stream",
     "text": [
      "Epoch [1836/2000]: 100%|██████████| 10/10 [00:00<00:00, 21.45it/s, loss=1.34]\n"
     ]
    },
    {
     "name": "stdout",
     "output_type": "stream",
     "text": [
      "Epoch [1836/2000]: Train loss: 0.9951, Valid loss: 1.0177\n"
     ]
    },
    {
     "name": "stderr",
     "output_type": "stream",
     "text": [
      "Epoch [1837/2000]: 100%|██████████| 10/10 [00:00<00:00, 16.74it/s, loss=1.03]\n"
     ]
    },
    {
     "name": "stdout",
     "output_type": "stream",
     "text": [
      "Epoch [1837/2000]: Train loss: 0.9932, Valid loss: 0.9553\n"
     ]
    },
    {
     "name": "stderr",
     "output_type": "stream",
     "text": [
      "Epoch [1838/2000]: 100%|██████████| 10/10 [00:00<00:00, 25.44it/s, loss=1.08]\n"
     ]
    },
    {
     "name": "stdout",
     "output_type": "stream",
     "text": [
      "Epoch [1838/2000]: Train loss: 0.9843, Valid loss: 0.9557\n"
     ]
    },
    {
     "name": "stderr",
     "output_type": "stream",
     "text": [
      "Epoch [1839/2000]: 100%|██████████| 10/10 [00:00<00:00, 18.46it/s, loss=0.985]\n"
     ]
    },
    {
     "name": "stdout",
     "output_type": "stream",
     "text": [
      "Epoch [1839/2000]: Train loss: 0.9751, Valid loss: 0.9652\n"
     ]
    },
    {
     "name": "stderr",
     "output_type": "stream",
     "text": [
      "Epoch [1840/2000]: 100%|██████████| 10/10 [00:00<00:00, 23.18it/s, loss=1.23]\n"
     ]
    },
    {
     "name": "stdout",
     "output_type": "stream",
     "text": [
      "Epoch [1840/2000]: Train loss: 0.9874, Valid loss: 0.9464\n"
     ]
    },
    {
     "name": "stderr",
     "output_type": "stream",
     "text": [
      "Epoch [1841/2000]: 100%|██████████| 10/10 [00:00<00:00, 16.92it/s, loss=0.871]\n"
     ]
    },
    {
     "name": "stdout",
     "output_type": "stream",
     "text": [
      "Epoch [1841/2000]: Train loss: 0.9615, Valid loss: 0.9563\n"
     ]
    },
    {
     "name": "stderr",
     "output_type": "stream",
     "text": [
      "Epoch [1842/2000]: 100%|██████████| 10/10 [00:00<00:00, 23.00it/s, loss=0.87]\n"
     ]
    },
    {
     "name": "stdout",
     "output_type": "stream",
     "text": [
      "Epoch [1842/2000]: Train loss: 0.9623, Valid loss: 1.0465\n"
     ]
    },
    {
     "name": "stderr",
     "output_type": "stream",
     "text": [
      "Epoch [1843/2000]: 100%|██████████| 10/10 [00:00<00:00, 18.15it/s, loss=1.15]\n"
     ]
    },
    {
     "name": "stdout",
     "output_type": "stream",
     "text": [
      "Epoch [1843/2000]: Train loss: 0.9811, Valid loss: 1.0014\n"
     ]
    },
    {
     "name": "stderr",
     "output_type": "stream",
     "text": [
      "Epoch [1844/2000]: 100%|██████████| 10/10 [00:00<00:00, 26.56it/s, loss=0.924]\n"
     ]
    },
    {
     "name": "stdout",
     "output_type": "stream",
     "text": [
      "Epoch [1844/2000]: Train loss: 0.9683, Valid loss: 1.0053\n"
     ]
    },
    {
     "name": "stderr",
     "output_type": "stream",
     "text": [
      "Epoch [1845/2000]: 100%|██████████| 10/10 [00:00<00:00, 33.77it/s, loss=0.903]\n"
     ]
    },
    {
     "name": "stdout",
     "output_type": "stream",
     "text": [
      "Epoch [1845/2000]: Train loss: 0.9703, Valid loss: 1.0057\n"
     ]
    },
    {
     "name": "stderr",
     "output_type": "stream",
     "text": [
      "Epoch [1846/2000]: 100%|██████████| 10/10 [00:00<00:00, 30.06it/s, loss=1.12]\n"
     ]
    },
    {
     "name": "stdout",
     "output_type": "stream",
     "text": [
      "Epoch [1846/2000]: Train loss: 0.9797, Valid loss: 1.0014\n"
     ]
    },
    {
     "name": "stderr",
     "output_type": "stream",
     "text": [
      "Epoch [1847/2000]: 100%|██████████| 10/10 [00:00<00:00, 23.46it/s, loss=0.955]\n"
     ]
    },
    {
     "name": "stdout",
     "output_type": "stream",
     "text": [
      "Epoch [1847/2000]: Train loss: 0.9701, Valid loss: 0.9495\n"
     ]
    },
    {
     "name": "stderr",
     "output_type": "stream",
     "text": [
      "Epoch [1848/2000]: 100%|██████████| 10/10 [00:00<00:00, 14.61it/s, loss=0.928]\n"
     ]
    },
    {
     "name": "stdout",
     "output_type": "stream",
     "text": [
      "Epoch [1848/2000]: Train loss: 0.9662, Valid loss: 0.9292\n"
     ]
    },
    {
     "name": "stderr",
     "output_type": "stream",
     "text": [
      "Epoch [1849/2000]: 100%|██████████| 10/10 [00:00<00:00, 33.31it/s, loss=0.841]\n"
     ]
    },
    {
     "name": "stdout",
     "output_type": "stream",
     "text": [
      "Epoch [1849/2000]: Train loss: 0.9647, Valid loss: 0.9752\n"
     ]
    },
    {
     "name": "stderr",
     "output_type": "stream",
     "text": [
      "Epoch [1850/2000]: 100%|██████████| 10/10 [00:00<00:00, 18.05it/s, loss=1.03]\n"
     ]
    },
    {
     "name": "stdout",
     "output_type": "stream",
     "text": [
      "Epoch [1850/2000]: Train loss: 0.9768, Valid loss: 0.9326\n"
     ]
    },
    {
     "name": "stderr",
     "output_type": "stream",
     "text": [
      "Epoch [1851/2000]: 100%|██████████| 10/10 [00:00<00:00, 53.50it/s, loss=0.989]\n"
     ]
    },
    {
     "name": "stdout",
     "output_type": "stream",
     "text": [
      "Epoch [1851/2000]: Train loss: 0.9743, Valid loss: 0.9147\n"
     ]
    },
    {
     "name": "stderr",
     "output_type": "stream",
     "text": [
      "Epoch [1852/2000]: 100%|██████████| 10/10 [00:00<00:00, 30.96it/s, loss=0.875]\n"
     ]
    },
    {
     "name": "stdout",
     "output_type": "stream",
     "text": [
      "Epoch [1852/2000]: Train loss: 0.9628, Valid loss: 0.9716\n"
     ]
    },
    {
     "name": "stderr",
     "output_type": "stream",
     "text": [
      "Epoch [1853/2000]: 100%|██████████| 10/10 [00:00<00:00, 37.79it/s, loss=1.36]\n"
     ]
    },
    {
     "name": "stdout",
     "output_type": "stream",
     "text": [
      "Epoch [1853/2000]: Train loss: 0.9928, Valid loss: 0.9521\n"
     ]
    },
    {
     "name": "stderr",
     "output_type": "stream",
     "text": [
      "Epoch [1854/2000]: 100%|██████████| 10/10 [00:00<00:00, 20.30it/s, loss=1.03]\n"
     ]
    },
    {
     "name": "stdout",
     "output_type": "stream",
     "text": [
      "Epoch [1854/2000]: Train loss: 0.9730, Valid loss: 0.9759\n"
     ]
    },
    {
     "name": "stderr",
     "output_type": "stream",
     "text": [
      "Epoch [1855/2000]: 100%|██████████| 10/10 [00:00<00:00, 34.21it/s, loss=1.13]\n"
     ]
    },
    {
     "name": "stdout",
     "output_type": "stream",
     "text": [
      "Epoch [1855/2000]: Train loss: 0.9790, Valid loss: 0.9783\n"
     ]
    },
    {
     "name": "stderr",
     "output_type": "stream",
     "text": [
      "Epoch [1856/2000]: 100%|██████████| 10/10 [00:00<00:00, 36.33it/s, loss=1.39]\n"
     ]
    },
    {
     "name": "stdout",
     "output_type": "stream",
     "text": [
      "Epoch [1856/2000]: Train loss: 0.9992, Valid loss: 0.9406\n"
     ]
    },
    {
     "name": "stderr",
     "output_type": "stream",
     "text": [
      "Epoch [1857/2000]: 100%|██████████| 10/10 [00:00<00:00, 38.85it/s, loss=1.04]\n"
     ]
    },
    {
     "name": "stdout",
     "output_type": "stream",
     "text": [
      "Epoch [1857/2000]: Train loss: 0.9808, Valid loss: 0.9747\n"
     ]
    },
    {
     "name": "stderr",
     "output_type": "stream",
     "text": [
      "Epoch [1858/2000]: 100%|██████████| 10/10 [00:00<00:00, 28.97it/s, loss=1.17]\n"
     ]
    },
    {
     "name": "stdout",
     "output_type": "stream",
     "text": [
      "Epoch [1858/2000]: Train loss: 0.9834, Valid loss: 0.9645\n"
     ]
    },
    {
     "name": "stderr",
     "output_type": "stream",
     "text": [
      "Epoch [1859/2000]: 100%|██████████| 10/10 [00:00<00:00, 22.89it/s, loss=0.968]\n"
     ]
    },
    {
     "name": "stdout",
     "output_type": "stream",
     "text": [
      "Epoch [1859/2000]: Train loss: 0.9790, Valid loss: 1.0106\n"
     ]
    },
    {
     "name": "stderr",
     "output_type": "stream",
     "text": [
      "Epoch [1860/2000]: 100%|██████████| 10/10 [00:00<00:00, 40.58it/s, loss=0.979]\n"
     ]
    },
    {
     "name": "stdout",
     "output_type": "stream",
     "text": [
      "Epoch [1860/2000]: Train loss: 0.9770, Valid loss: 1.0066\n"
     ]
    },
    {
     "name": "stderr",
     "output_type": "stream",
     "text": [
      "Epoch [1861/2000]: 100%|██████████| 10/10 [00:00<00:00, 24.20it/s, loss=0.99]\n"
     ]
    },
    {
     "name": "stdout",
     "output_type": "stream",
     "text": [
      "Epoch [1861/2000]: Train loss: 0.9748, Valid loss: 0.9807\n"
     ]
    },
    {
     "name": "stderr",
     "output_type": "stream",
     "text": [
      "Epoch [1862/2000]: 100%|██████████| 10/10 [00:00<00:00, 15.94it/s, loss=1.24]\n"
     ]
    },
    {
     "name": "stdout",
     "output_type": "stream",
     "text": [
      "Epoch [1862/2000]: Train loss: 0.9957, Valid loss: 0.9714\n"
     ]
    },
    {
     "name": "stderr",
     "output_type": "stream",
     "text": [
      "Epoch [1863/2000]: 100%|██████████| 10/10 [00:00<00:00, 28.47it/s, loss=1.2] \n"
     ]
    },
    {
     "name": "stdout",
     "output_type": "stream",
     "text": [
      "Epoch [1863/2000]: Train loss: 0.9922, Valid loss: 0.9990\n"
     ]
    },
    {
     "name": "stderr",
     "output_type": "stream",
     "text": [
      "Epoch [1864/2000]: 100%|██████████| 10/10 [00:00<00:00, 58.11it/s, loss=1.15]\n"
     ]
    },
    {
     "name": "stdout",
     "output_type": "stream",
     "text": [
      "Epoch [1864/2000]: Train loss: 0.9961, Valid loss: 0.9181\n"
     ]
    },
    {
     "name": "stderr",
     "output_type": "stream",
     "text": [
      "Epoch [1865/2000]: 100%|██████████| 10/10 [00:00<00:00, 18.99it/s, loss=0.901]\n"
     ]
    },
    {
     "name": "stdout",
     "output_type": "stream",
     "text": [
      "Epoch [1865/2000]: Train loss: 0.9738, Valid loss: 1.0779\n"
     ]
    },
    {
     "name": "stderr",
     "output_type": "stream",
     "text": [
      "Epoch [1866/2000]: 100%|██████████| 10/10 [00:00<00:00, 19.64it/s, loss=0.801]\n"
     ]
    },
    {
     "name": "stdout",
     "output_type": "stream",
     "text": [
      "Epoch [1866/2000]: Train loss: 0.9572, Valid loss: 1.1000\n"
     ]
    },
    {
     "name": "stderr",
     "output_type": "stream",
     "text": [
      "Epoch [1867/2000]: 100%|██████████| 10/10 [00:00<00:00, 59.37it/s, loss=0.841]\n"
     ]
    },
    {
     "name": "stdout",
     "output_type": "stream",
     "text": [
      "Epoch [1867/2000]: Train loss: 0.9639, Valid loss: 0.9420\n"
     ]
    },
    {
     "name": "stderr",
     "output_type": "stream",
     "text": [
      "Epoch [1868/2000]: 100%|██████████| 10/10 [00:00<00:00, 15.18it/s, loss=0.876]\n"
     ]
    },
    {
     "name": "stdout",
     "output_type": "stream",
     "text": [
      "Epoch [1868/2000]: Train loss: 0.9701, Valid loss: 0.9470\n"
     ]
    },
    {
     "name": "stderr",
     "output_type": "stream",
     "text": [
      "Epoch [1869/2000]: 100%|██████████| 10/10 [00:00<00:00, 34.34it/s, loss=1.39]\n"
     ]
    },
    {
     "name": "stdout",
     "output_type": "stream",
     "text": [
      "Epoch [1869/2000]: Train loss: 0.9943, Valid loss: 0.9861\n"
     ]
    },
    {
     "name": "stderr",
     "output_type": "stream",
     "text": [
      "Epoch [1870/2000]: 100%|██████████| 10/10 [00:00<00:00, 23.24it/s, loss=0.781]\n"
     ]
    },
    {
     "name": "stdout",
     "output_type": "stream",
     "text": [
      "Epoch [1870/2000]: Train loss: 0.9581, Valid loss: 1.0069\n"
     ]
    },
    {
     "name": "stderr",
     "output_type": "stream",
     "text": [
      "Epoch [1871/2000]: 100%|██████████| 10/10 [00:00<00:00, 23.83it/s, loss=1.11]\n"
     ]
    },
    {
     "name": "stdout",
     "output_type": "stream",
     "text": [
      "Epoch [1871/2000]: Train loss: 0.9749, Valid loss: 0.9826\n"
     ]
    },
    {
     "name": "stderr",
     "output_type": "stream",
     "text": [
      "Epoch [1872/2000]: 100%|██████████| 10/10 [00:00<00:00, 25.83it/s, loss=1.12]\n"
     ]
    },
    {
     "name": "stdout",
     "output_type": "stream",
     "text": [
      "Epoch [1872/2000]: Train loss: 0.9742, Valid loss: 0.9932\n"
     ]
    },
    {
     "name": "stderr",
     "output_type": "stream",
     "text": [
      "Epoch [1873/2000]: 100%|██████████| 10/10 [00:00<00:00, 34.36it/s, loss=0.808]\n"
     ]
    },
    {
     "name": "stdout",
     "output_type": "stream",
     "text": [
      "Epoch [1873/2000]: Train loss: 0.9808, Valid loss: 1.0086\n"
     ]
    },
    {
     "name": "stderr",
     "output_type": "stream",
     "text": [
      "Epoch [1874/2000]: 100%|██████████| 10/10 [00:00<00:00, 32.21it/s, loss=0.869]\n"
     ]
    },
    {
     "name": "stdout",
     "output_type": "stream",
     "text": [
      "Epoch [1874/2000]: Train loss: 0.9737, Valid loss: 1.0024\n"
     ]
    },
    {
     "name": "stderr",
     "output_type": "stream",
     "text": [
      "Epoch [1875/2000]: 100%|██████████| 10/10 [00:00<00:00, 12.02it/s, loss=1.37]\n"
     ]
    },
    {
     "name": "stdout",
     "output_type": "stream",
     "text": [
      "Epoch [1875/2000]: Train loss: 0.9915, Valid loss: 0.9659\n"
     ]
    },
    {
     "name": "stderr",
     "output_type": "stream",
     "text": [
      "Epoch [1876/2000]: 100%|██████████| 10/10 [00:00<00:00, 33.51it/s, loss=0.867]\n"
     ]
    },
    {
     "name": "stdout",
     "output_type": "stream",
     "text": [
      "Epoch [1876/2000]: Train loss: 0.9587, Valid loss: 1.0308\n"
     ]
    },
    {
     "name": "stderr",
     "output_type": "stream",
     "text": [
      "Epoch [1877/2000]: 100%|██████████| 10/10 [00:00<00:00, 22.09it/s, loss=1.02]\n"
     ]
    },
    {
     "name": "stdout",
     "output_type": "stream",
     "text": [
      "Epoch [1877/2000]: Train loss: 0.9850, Valid loss: 1.0472\n"
     ]
    },
    {
     "name": "stderr",
     "output_type": "stream",
     "text": [
      "Epoch [1878/2000]: 100%|██████████| 10/10 [00:00<00:00, 40.64it/s, loss=0.933]\n"
     ]
    },
    {
     "name": "stdout",
     "output_type": "stream",
     "text": [
      "Epoch [1878/2000]: Train loss: 0.9689, Valid loss: 1.0145\n"
     ]
    },
    {
     "name": "stderr",
     "output_type": "stream",
     "text": [
      "Epoch [1879/2000]: 100%|██████████| 10/10 [00:00<00:00, 24.14it/s, loss=0.846]\n"
     ]
    },
    {
     "name": "stdout",
     "output_type": "stream",
     "text": [
      "Epoch [1879/2000]: Train loss: 0.9604, Valid loss: 0.9558\n"
     ]
    },
    {
     "name": "stderr",
     "output_type": "stream",
     "text": [
      "Epoch [1880/2000]: 100%|██████████| 10/10 [00:00<00:00, 16.80it/s, loss=0.707]\n"
     ]
    },
    {
     "name": "stdout",
     "output_type": "stream",
     "text": [
      "Epoch [1880/2000]: Train loss: 0.9588, Valid loss: 0.9621\n"
     ]
    },
    {
     "name": "stderr",
     "output_type": "stream",
     "text": [
      "Epoch [1881/2000]: 100%|██████████| 10/10 [00:00<00:00, 29.93it/s, loss=0.737]\n"
     ]
    },
    {
     "name": "stdout",
     "output_type": "stream",
     "text": [
      "Epoch [1881/2000]: Train loss: 0.9616, Valid loss: 0.9718\n"
     ]
    },
    {
     "name": "stderr",
     "output_type": "stream",
     "text": [
      "Epoch [1882/2000]: 100%|██████████| 10/10 [00:00<00:00, 29.02it/s, loss=0.942]\n"
     ]
    },
    {
     "name": "stdout",
     "output_type": "stream",
     "text": [
      "Epoch [1882/2000]: Train loss: 0.9675, Valid loss: 0.9668\n"
     ]
    },
    {
     "name": "stderr",
     "output_type": "stream",
     "text": [
      "Epoch [1883/2000]: 100%|██████████| 10/10 [00:00<00:00, 13.78it/s, loss=1.29]\n"
     ]
    },
    {
     "name": "stdout",
     "output_type": "stream",
     "text": [
      "Epoch [1883/2000]: Train loss: 0.9858, Valid loss: 1.0046\n"
     ]
    },
    {
     "name": "stderr",
     "output_type": "stream",
     "text": [
      "Epoch [1884/2000]: 100%|██████████| 10/10 [00:00<00:00, 46.63it/s, loss=0.921]\n"
     ]
    },
    {
     "name": "stdout",
     "output_type": "stream",
     "text": [
      "Epoch [1884/2000]: Train loss: 0.9679, Valid loss: 0.9865\n"
     ]
    },
    {
     "name": "stderr",
     "output_type": "stream",
     "text": [
      "Epoch [1885/2000]: 100%|██████████| 10/10 [00:00<00:00, 35.17it/s, loss=1.12]\n"
     ]
    },
    {
     "name": "stdout",
     "output_type": "stream",
     "text": [
      "Epoch [1885/2000]: Train loss: 0.9789, Valid loss: 0.9999\n"
     ]
    },
    {
     "name": "stderr",
     "output_type": "stream",
     "text": [
      "Epoch [1886/2000]: 100%|██████████| 10/10 [00:00<00:00, 18.87it/s, loss=0.797]\n"
     ]
    },
    {
     "name": "stdout",
     "output_type": "stream",
     "text": [
      "Epoch [1886/2000]: Train loss: 0.9556, Valid loss: 1.0459\n"
     ]
    },
    {
     "name": "stderr",
     "output_type": "stream",
     "text": [
      "Epoch [1887/2000]: 100%|██████████| 10/10 [00:00<00:00, 18.55it/s, loss=1.48]\n"
     ]
    },
    {
     "name": "stdout",
     "output_type": "stream",
     "text": [
      "Epoch [1887/2000]: Train loss: 1.0078, Valid loss: 0.9685\n"
     ]
    },
    {
     "name": "stderr",
     "output_type": "stream",
     "text": [
      "Epoch [1888/2000]: 100%|██████████| 10/10 [00:01<00:00,  8.90it/s, loss=0.741]\n"
     ]
    },
    {
     "name": "stdout",
     "output_type": "stream",
     "text": [
      "Epoch [1888/2000]: Train loss: 0.9564, Valid loss: 1.0155\n"
     ]
    },
    {
     "name": "stderr",
     "output_type": "stream",
     "text": [
      "Epoch [1889/2000]: 100%|██████████| 10/10 [00:00<00:00, 33.51it/s, loss=0.796]\n"
     ]
    },
    {
     "name": "stdout",
     "output_type": "stream",
     "text": [
      "Epoch [1889/2000]: Train loss: 0.9610, Valid loss: 0.9665\n"
     ]
    },
    {
     "name": "stderr",
     "output_type": "stream",
     "text": [
      "Epoch [1890/2000]: 100%|██████████| 10/10 [00:00<00:00, 17.47it/s, loss=0.935]\n"
     ]
    },
    {
     "name": "stdout",
     "output_type": "stream",
     "text": [
      "Epoch [1890/2000]: Train loss: 0.9667, Valid loss: 0.9563\n"
     ]
    },
    {
     "name": "stderr",
     "output_type": "stream",
     "text": [
      "Epoch [1891/2000]: 100%|██████████| 10/10 [00:00<00:00, 17.00it/s, loss=1.17]\n"
     ]
    },
    {
     "name": "stdout",
     "output_type": "stream",
     "text": [
      "Epoch [1891/2000]: Train loss: 0.9795, Valid loss: 0.9956\n"
     ]
    },
    {
     "name": "stderr",
     "output_type": "stream",
     "text": [
      "Epoch [1892/2000]: 100%|██████████| 10/10 [00:00<00:00, 18.85it/s, loss=0.681]\n"
     ]
    },
    {
     "name": "stdout",
     "output_type": "stream",
     "text": [
      "Epoch [1892/2000]: Train loss: 0.9468, Valid loss: 0.9723\n"
     ]
    },
    {
     "name": "stderr",
     "output_type": "stream",
     "text": [
      "Epoch [1893/2000]: 100%|██████████| 10/10 [00:00<00:00, 19.56it/s, loss=1.17]\n"
     ]
    },
    {
     "name": "stdout",
     "output_type": "stream",
     "text": [
      "Epoch [1893/2000]: Train loss: 0.9899, Valid loss: 1.0043\n"
     ]
    },
    {
     "name": "stderr",
     "output_type": "stream",
     "text": [
      "Epoch [1894/2000]: 100%|██████████| 10/10 [00:00<00:00, 42.50it/s, loss=1.14]\n"
     ]
    },
    {
     "name": "stdout",
     "output_type": "stream",
     "text": [
      "Epoch [1894/2000]: Train loss: 0.9863, Valid loss: 1.0248\n"
     ]
    },
    {
     "name": "stderr",
     "output_type": "stream",
     "text": [
      "Epoch [1895/2000]: 100%|██████████| 10/10 [00:00<00:00, 19.74it/s, loss=0.885]\n"
     ]
    },
    {
     "name": "stdout",
     "output_type": "stream",
     "text": [
      "Epoch [1895/2000]: Train loss: 0.9626, Valid loss: 1.0616\n"
     ]
    },
    {
     "name": "stderr",
     "output_type": "stream",
     "text": [
      "Epoch [1896/2000]: 100%|██████████| 10/10 [00:00<00:00, 14.43it/s, loss=0.862]\n"
     ]
    },
    {
     "name": "stdout",
     "output_type": "stream",
     "text": [
      "Epoch [1896/2000]: Train loss: 0.9591, Valid loss: 0.9646\n"
     ]
    },
    {
     "name": "stderr",
     "output_type": "stream",
     "text": [
      "Epoch [1897/2000]: 100%|██████████| 10/10 [00:00<00:00, 33.56it/s, loss=1.03]\n"
     ]
    },
    {
     "name": "stdout",
     "output_type": "stream",
     "text": [
      "Epoch [1897/2000]: Train loss: 0.9752, Valid loss: 1.0154\n"
     ]
    },
    {
     "name": "stderr",
     "output_type": "stream",
     "text": [
      "Epoch [1898/2000]: 100%|██████████| 10/10 [00:00<00:00, 27.94it/s, loss=0.884]\n"
     ]
    },
    {
     "name": "stdout",
     "output_type": "stream",
     "text": [
      "Epoch [1898/2000]: Train loss: 0.9784, Valid loss: 0.9257\n"
     ]
    },
    {
     "name": "stderr",
     "output_type": "stream",
     "text": [
      "Epoch [1899/2000]: 100%|██████████| 10/10 [00:00<00:00, 44.61it/s, loss=0.906]\n"
     ]
    },
    {
     "name": "stdout",
     "output_type": "stream",
     "text": [
      "Epoch [1899/2000]: Train loss: 0.9751, Valid loss: 0.9167\n"
     ]
    },
    {
     "name": "stderr",
     "output_type": "stream",
     "text": [
      "Epoch [1900/2000]: 100%|██████████| 10/10 [00:00<00:00, 38.59it/s, loss=0.87]\n"
     ]
    },
    {
     "name": "stdout",
     "output_type": "stream",
     "text": [
      "Epoch [1900/2000]: Train loss: 0.9625, Valid loss: 0.9538\n"
     ]
    },
    {
     "name": "stderr",
     "output_type": "stream",
     "text": [
      "Epoch [1901/2000]: 100%|██████████| 10/10 [00:00<00:00, 26.37it/s, loss=1.47]\n"
     ]
    },
    {
     "name": "stdout",
     "output_type": "stream",
     "text": [
      "Epoch [1901/2000]: Train loss: 0.9988, Valid loss: 0.9746\n"
     ]
    },
    {
     "name": "stderr",
     "output_type": "stream",
     "text": [
      "Epoch [1902/2000]: 100%|██████████| 10/10 [00:00<00:00, 24.06it/s, loss=0.791]\n"
     ]
    },
    {
     "name": "stdout",
     "output_type": "stream",
     "text": [
      "Epoch [1902/2000]: Train loss: 0.9520, Valid loss: 0.9032\n",
      "Saving model with loss 0.903...\n"
     ]
    },
    {
     "name": "stderr",
     "output_type": "stream",
     "text": [
      "Epoch [1903/2000]: 100%|██████████| 10/10 [00:00<00:00, 33.05it/s, loss=0.707]\n"
     ]
    },
    {
     "name": "stdout",
     "output_type": "stream",
     "text": [
      "Epoch [1903/2000]: Train loss: 0.9450, Valid loss: 0.9150\n"
     ]
    },
    {
     "name": "stderr",
     "output_type": "stream",
     "text": [
      "Epoch [1904/2000]: 100%|██████████| 10/10 [00:00<00:00, 16.55it/s, loss=0.898]\n"
     ]
    },
    {
     "name": "stdout",
     "output_type": "stream",
     "text": [
      "Epoch [1904/2000]: Train loss: 0.9586, Valid loss: 1.0063\n"
     ]
    },
    {
     "name": "stderr",
     "output_type": "stream",
     "text": [
      "Epoch [1905/2000]: 100%|██████████| 10/10 [00:00<00:00, 42.00it/s, loss=1.2] \n"
     ]
    },
    {
     "name": "stdout",
     "output_type": "stream",
     "text": [
      "Epoch [1905/2000]: Train loss: 0.9748, Valid loss: 1.0160\n"
     ]
    },
    {
     "name": "stderr",
     "output_type": "stream",
     "text": [
      "Epoch [1906/2000]: 100%|██████████| 10/10 [00:00<00:00, 16.92it/s, loss=0.977]\n"
     ]
    },
    {
     "name": "stdout",
     "output_type": "stream",
     "text": [
      "Epoch [1906/2000]: Train loss: 0.9619, Valid loss: 1.0029\n"
     ]
    },
    {
     "name": "stderr",
     "output_type": "stream",
     "text": [
      "Epoch [1907/2000]: 100%|██████████| 10/10 [00:00<00:00, 32.53it/s, loss=0.833]\n"
     ]
    },
    {
     "name": "stdout",
     "output_type": "stream",
     "text": [
      "Epoch [1907/2000]: Train loss: 0.9561, Valid loss: 1.0046\n"
     ]
    },
    {
     "name": "stderr",
     "output_type": "stream",
     "text": [
      "Epoch [1908/2000]: 100%|██████████| 10/10 [00:00<00:00, 36.51it/s, loss=0.925]\n"
     ]
    },
    {
     "name": "stdout",
     "output_type": "stream",
     "text": [
      "Epoch [1908/2000]: Train loss: 0.9637, Valid loss: 1.0158\n"
     ]
    },
    {
     "name": "stderr",
     "output_type": "stream",
     "text": [
      "Epoch [1909/2000]: 100%|██████████| 10/10 [00:00<00:00, 20.65it/s, loss=0.905]\n"
     ]
    },
    {
     "name": "stdout",
     "output_type": "stream",
     "text": [
      "Epoch [1909/2000]: Train loss: 0.9586, Valid loss: 0.9800\n"
     ]
    },
    {
     "name": "stderr",
     "output_type": "stream",
     "text": [
      "Epoch [1910/2000]: 100%|██████████| 10/10 [00:00<00:00, 18.25it/s, loss=1.17]\n"
     ]
    },
    {
     "name": "stdout",
     "output_type": "stream",
     "text": [
      "Epoch [1910/2000]: Train loss: 0.9834, Valid loss: 1.0461\n"
     ]
    },
    {
     "name": "stderr",
     "output_type": "stream",
     "text": [
      "Epoch [1911/2000]: 100%|██████████| 10/10 [00:00<00:00, 26.06it/s, loss=1.22]\n"
     ]
    },
    {
     "name": "stdout",
     "output_type": "stream",
     "text": [
      "Epoch [1911/2000]: Train loss: 0.9856, Valid loss: 0.9600\n"
     ]
    },
    {
     "name": "stderr",
     "output_type": "stream",
     "text": [
      "Epoch [1912/2000]: 100%|██████████| 10/10 [00:00<00:00, 11.64it/s, loss=0.869]\n"
     ]
    },
    {
     "name": "stdout",
     "output_type": "stream",
     "text": [
      "Epoch [1912/2000]: Train loss: 0.9659, Valid loss: 0.9367\n"
     ]
    },
    {
     "name": "stderr",
     "output_type": "stream",
     "text": [
      "Epoch [1913/2000]: 100%|██████████| 10/10 [00:00<00:00, 40.52it/s, loss=1.06]\n"
     ]
    },
    {
     "name": "stdout",
     "output_type": "stream",
     "text": [
      "Epoch [1913/2000]: Train loss: 0.9686, Valid loss: 0.9400\n"
     ]
    },
    {
     "name": "stderr",
     "output_type": "stream",
     "text": [
      "Epoch [1914/2000]: 100%|██████████| 10/10 [00:00<00:00, 32.58it/s, loss=1.33]\n"
     ]
    },
    {
     "name": "stdout",
     "output_type": "stream",
     "text": [
      "Epoch [1914/2000]: Train loss: 0.9848, Valid loss: 0.9380\n"
     ]
    },
    {
     "name": "stderr",
     "output_type": "stream",
     "text": [
      "Epoch [1915/2000]: 100%|██████████| 10/10 [00:00<00:00, 16.76it/s, loss=0.962]\n"
     ]
    },
    {
     "name": "stdout",
     "output_type": "stream",
     "text": [
      "Epoch [1915/2000]: Train loss: 0.9638, Valid loss: 0.9961\n"
     ]
    },
    {
     "name": "stderr",
     "output_type": "stream",
     "text": [
      "Epoch [1916/2000]: 100%|██████████| 10/10 [00:00<00:00, 22.04it/s, loss=1.28]\n"
     ]
    },
    {
     "name": "stdout",
     "output_type": "stream",
     "text": [
      "Epoch [1916/2000]: Train loss: 0.9824, Valid loss: 1.0084\n"
     ]
    },
    {
     "name": "stderr",
     "output_type": "stream",
     "text": [
      "Epoch [1917/2000]: 100%|██████████| 10/10 [00:00<00:00, 26.58it/s, loss=0.816]\n"
     ]
    },
    {
     "name": "stdout",
     "output_type": "stream",
     "text": [
      "Epoch [1917/2000]: Train loss: 0.9653, Valid loss: 0.9002\n",
      "Saving model with loss 0.900...\n"
     ]
    },
    {
     "name": "stderr",
     "output_type": "stream",
     "text": [
      "Epoch [1918/2000]: 100%|██████████| 10/10 [00:00<00:00, 23.44it/s, loss=1.07]\n"
     ]
    },
    {
     "name": "stdout",
     "output_type": "stream",
     "text": [
      "Epoch [1918/2000]: Train loss: 0.9799, Valid loss: 1.0006\n"
     ]
    },
    {
     "name": "stderr",
     "output_type": "stream",
     "text": [
      "Epoch [1919/2000]: 100%|██████████| 10/10 [00:00<00:00, 40.82it/s, loss=1.1] \n"
     ]
    },
    {
     "name": "stdout",
     "output_type": "stream",
     "text": [
      "Epoch [1919/2000]: Train loss: 0.9843, Valid loss: 0.9974\n"
     ]
    },
    {
     "name": "stderr",
     "output_type": "stream",
     "text": [
      "Epoch [1920/2000]: 100%|██████████| 10/10 [00:00<00:00, 33.08it/s, loss=1.04]\n"
     ]
    },
    {
     "name": "stdout",
     "output_type": "stream",
     "text": [
      "Epoch [1920/2000]: Train loss: 0.9731, Valid loss: 0.9968\n"
     ]
    },
    {
     "name": "stderr",
     "output_type": "stream",
     "text": [
      "Epoch [1921/2000]: 100%|██████████| 10/10 [00:00<00:00, 14.78it/s, loss=0.852]\n"
     ]
    },
    {
     "name": "stdout",
     "output_type": "stream",
     "text": [
      "Epoch [1921/2000]: Train loss: 0.9552, Valid loss: 0.9493\n"
     ]
    },
    {
     "name": "stderr",
     "output_type": "stream",
     "text": [
      "Epoch [1922/2000]: 100%|██████████| 10/10 [00:00<00:00, 19.39it/s, loss=0.906]\n"
     ]
    },
    {
     "name": "stdout",
     "output_type": "stream",
     "text": [
      "Epoch [1922/2000]: Train loss: 0.9568, Valid loss: 0.9785\n"
     ]
    },
    {
     "name": "stderr",
     "output_type": "stream",
     "text": [
      "Epoch [1923/2000]: 100%|██████████| 10/10 [00:00<00:00, 46.41it/s, loss=0.901]\n"
     ]
    },
    {
     "name": "stdout",
     "output_type": "stream",
     "text": [
      "Epoch [1923/2000]: Train loss: 0.9608, Valid loss: 0.9621\n"
     ]
    },
    {
     "name": "stderr",
     "output_type": "stream",
     "text": [
      "Epoch [1924/2000]: 100%|██████████| 10/10 [00:00<00:00, 28.41it/s, loss=0.941]\n"
     ]
    },
    {
     "name": "stdout",
     "output_type": "stream",
     "text": [
      "Epoch [1924/2000]: Train loss: 0.9648, Valid loss: 1.0365\n"
     ]
    },
    {
     "name": "stderr",
     "output_type": "stream",
     "text": [
      "Epoch [1925/2000]: 100%|██████████| 10/10 [00:00<00:00, 30.76it/s, loss=0.933]\n"
     ]
    },
    {
     "name": "stdout",
     "output_type": "stream",
     "text": [
      "Epoch [1925/2000]: Train loss: 0.9621, Valid loss: 0.9279\n"
     ]
    },
    {
     "name": "stderr",
     "output_type": "stream",
     "text": [
      "Epoch [1926/2000]: 100%|██████████| 10/10 [00:00<00:00, 33.38it/s, loss=0.557]\n"
     ]
    },
    {
     "name": "stdout",
     "output_type": "stream",
     "text": [
      "Epoch [1926/2000]: Train loss: 0.9548, Valid loss: 1.0372\n"
     ]
    },
    {
     "name": "stderr",
     "output_type": "stream",
     "text": [
      "Epoch [1927/2000]: 100%|██████████| 10/10 [00:00<00:00, 37.11it/s, loss=0.863]\n"
     ]
    },
    {
     "name": "stdout",
     "output_type": "stream",
     "text": [
      "Epoch [1927/2000]: Train loss: 1.0120, Valid loss: 1.0004\n"
     ]
    },
    {
     "name": "stderr",
     "output_type": "stream",
     "text": [
      "Epoch [1928/2000]: 100%|██████████| 10/10 [00:00<00:00, 30.06it/s, loss=1.02]\n"
     ]
    },
    {
     "name": "stdout",
     "output_type": "stream",
     "text": [
      "Epoch [1928/2000]: Train loss: 0.9896, Valid loss: 0.9778\n"
     ]
    },
    {
     "name": "stderr",
     "output_type": "stream",
     "text": [
      "Epoch [1929/2000]: 100%|██████████| 10/10 [00:00<00:00, 45.85it/s, loss=0.976]\n"
     ]
    },
    {
     "name": "stdout",
     "output_type": "stream",
     "text": [
      "Epoch [1929/2000]: Train loss: 0.9697, Valid loss: 1.0034\n"
     ]
    },
    {
     "name": "stderr",
     "output_type": "stream",
     "text": [
      "Epoch [1930/2000]: 100%|██████████| 10/10 [00:00<00:00, 32.57it/s, loss=0.796]\n"
     ]
    },
    {
     "name": "stdout",
     "output_type": "stream",
     "text": [
      "Epoch [1930/2000]: Train loss: 0.9512, Valid loss: 1.0147\n"
     ]
    },
    {
     "name": "stderr",
     "output_type": "stream",
     "text": [
      "Epoch [1931/2000]: 100%|██████████| 10/10 [00:00<00:00, 21.74it/s, loss=0.852]\n"
     ]
    },
    {
     "name": "stdout",
     "output_type": "stream",
     "text": [
      "Epoch [1931/2000]: Train loss: 0.9514, Valid loss: 0.9981\n"
     ]
    },
    {
     "name": "stderr",
     "output_type": "stream",
     "text": [
      "Epoch [1932/2000]: 100%|██████████| 10/10 [00:00<00:00, 40.84it/s, loss=1.14]\n"
     ]
    },
    {
     "name": "stdout",
     "output_type": "stream",
     "text": [
      "Epoch [1932/2000]: Train loss: 0.9827, Valid loss: 0.9380\n"
     ]
    },
    {
     "name": "stderr",
     "output_type": "stream",
     "text": [
      "Epoch [1933/2000]: 100%|██████████| 10/10 [00:00<00:00, 27.86it/s, loss=0.777]\n"
     ]
    },
    {
     "name": "stdout",
     "output_type": "stream",
     "text": [
      "Epoch [1933/2000]: Train loss: 0.9769, Valid loss: 1.0005\n"
     ]
    },
    {
     "name": "stderr",
     "output_type": "stream",
     "text": [
      "Epoch [1934/2000]: 100%|██████████| 10/10 [00:00<00:00, 13.23it/s, loss=0.878]\n"
     ]
    },
    {
     "name": "stdout",
     "output_type": "stream",
     "text": [
      "Epoch [1934/2000]: Train loss: 0.9694, Valid loss: 0.9676\n"
     ]
    },
    {
     "name": "stderr",
     "output_type": "stream",
     "text": [
      "Epoch [1935/2000]: 100%|██████████| 10/10 [00:00<00:00, 17.86it/s, loss=0.856]\n"
     ]
    },
    {
     "name": "stdout",
     "output_type": "stream",
     "text": [
      "Epoch [1935/2000]: Train loss: 0.9574, Valid loss: 1.1514\n"
     ]
    },
    {
     "name": "stderr",
     "output_type": "stream",
     "text": [
      "Epoch [1936/2000]: 100%|██████████| 10/10 [00:00<00:00, 23.64it/s, loss=1.01]\n"
     ]
    },
    {
     "name": "stdout",
     "output_type": "stream",
     "text": [
      "Epoch [1936/2000]: Train loss: 0.9870, Valid loss: 1.0477\n"
     ]
    },
    {
     "name": "stderr",
     "output_type": "stream",
     "text": [
      "Epoch [1937/2000]: 100%|██████████| 10/10 [00:00<00:00, 15.73it/s, loss=0.883]\n"
     ]
    },
    {
     "name": "stdout",
     "output_type": "stream",
     "text": [
      "Epoch [1937/2000]: Train loss: 0.9808, Valid loss: 1.0083\n"
     ]
    },
    {
     "name": "stderr",
     "output_type": "stream",
     "text": [
      "Epoch [1938/2000]: 100%|██████████| 10/10 [00:00<00:00, 22.08it/s, loss=0.827]\n"
     ]
    },
    {
     "name": "stdout",
     "output_type": "stream",
     "text": [
      "Epoch [1938/2000]: Train loss: 0.9609, Valid loss: 1.0072\n"
     ]
    },
    {
     "name": "stderr",
     "output_type": "stream",
     "text": [
      "Epoch [1939/2000]: 100%|██████████| 10/10 [00:00<00:00, 30.45it/s, loss=1.07]\n"
     ]
    },
    {
     "name": "stdout",
     "output_type": "stream",
     "text": [
      "Epoch [1939/2000]: Train loss: 0.9674, Valid loss: 1.0196\n"
     ]
    },
    {
     "name": "stderr",
     "output_type": "stream",
     "text": [
      "Epoch [1940/2000]: 100%|██████████| 10/10 [00:00<00:00, 31.03it/s, loss=0.877]\n"
     ]
    },
    {
     "name": "stdout",
     "output_type": "stream",
     "text": [
      "Epoch [1940/2000]: Train loss: 0.9694, Valid loss: 0.9644\n"
     ]
    },
    {
     "name": "stderr",
     "output_type": "stream",
     "text": [
      "Epoch [1941/2000]: 100%|██████████| 10/10 [00:00<00:00, 18.85it/s, loss=0.858]\n"
     ]
    },
    {
     "name": "stdout",
     "output_type": "stream",
     "text": [
      "Epoch [1941/2000]: Train loss: 0.9538, Valid loss: 1.1011\n"
     ]
    },
    {
     "name": "stderr",
     "output_type": "stream",
     "text": [
      "Epoch [1942/2000]: 100%|██████████| 10/10 [00:00<00:00, 49.31it/s, loss=1.06]\n"
     ]
    },
    {
     "name": "stdout",
     "output_type": "stream",
     "text": [
      "Epoch [1942/2000]: Train loss: 0.9671, Valid loss: 0.9775\n"
     ]
    },
    {
     "name": "stderr",
     "output_type": "stream",
     "text": [
      "Epoch [1943/2000]: 100%|██████████| 10/10 [00:00<00:00, 21.45it/s, loss=0.936]\n"
     ]
    },
    {
     "name": "stdout",
     "output_type": "stream",
     "text": [
      "Epoch [1943/2000]: Train loss: 0.9550, Valid loss: 1.0204\n"
     ]
    },
    {
     "name": "stderr",
     "output_type": "stream",
     "text": [
      "Epoch [1944/2000]: 100%|██████████| 10/10 [00:00<00:00, 25.25it/s, loss=1.01]\n"
     ]
    },
    {
     "name": "stdout",
     "output_type": "stream",
     "text": [
      "Epoch [1944/2000]: Train loss: 0.9630, Valid loss: 0.9178\n"
     ]
    },
    {
     "name": "stderr",
     "output_type": "stream",
     "text": [
      "Epoch [1945/2000]: 100%|██████████| 10/10 [00:00<00:00, 25.06it/s, loss=0.915]\n"
     ]
    },
    {
     "name": "stdout",
     "output_type": "stream",
     "text": [
      "Epoch [1945/2000]: Train loss: 0.9529, Valid loss: 0.9644\n"
     ]
    },
    {
     "name": "stderr",
     "output_type": "stream",
     "text": [
      "Epoch [1946/2000]: 100%|██████████| 10/10 [00:00<00:00, 14.74it/s, loss=0.777]\n"
     ]
    },
    {
     "name": "stdout",
     "output_type": "stream",
     "text": [
      "Epoch [1946/2000]: Train loss: 0.9550, Valid loss: 0.9614\n"
     ]
    },
    {
     "name": "stderr",
     "output_type": "stream",
     "text": [
      "Epoch [1947/2000]: 100%|██████████| 10/10 [00:00<00:00, 24.97it/s, loss=1.25]\n"
     ]
    },
    {
     "name": "stdout",
     "output_type": "stream",
     "text": [
      "Epoch [1947/2000]: Train loss: 0.9756, Valid loss: 0.9978\n"
     ]
    },
    {
     "name": "stderr",
     "output_type": "stream",
     "text": [
      "Epoch [1948/2000]: 100%|██████████| 10/10 [00:01<00:00,  9.83it/s, loss=0.76]\n"
     ]
    },
    {
     "name": "stdout",
     "output_type": "stream",
     "text": [
      "Epoch [1948/2000]: Train loss: 0.9482, Valid loss: 1.0105\n"
     ]
    },
    {
     "name": "stderr",
     "output_type": "stream",
     "text": [
      "Epoch [1949/2000]: 100%|██████████| 10/10 [00:00<00:00, 14.86it/s, loss=1.49]\n"
     ]
    },
    {
     "name": "stdout",
     "output_type": "stream",
     "text": [
      "Epoch [1949/2000]: Train loss: 1.0003, Valid loss: 0.9709\n"
     ]
    },
    {
     "name": "stderr",
     "output_type": "stream",
     "text": [
      "Epoch [1950/2000]: 100%|██████████| 10/10 [00:01<00:00,  8.20it/s, loss=0.988]\n"
     ]
    },
    {
     "name": "stdout",
     "output_type": "stream",
     "text": [
      "Epoch [1950/2000]: Train loss: 0.9718, Valid loss: 0.9541\n"
     ]
    },
    {
     "name": "stderr",
     "output_type": "stream",
     "text": [
      "Epoch [1951/2000]: 100%|██████████| 10/10 [00:00<00:00, 23.90it/s, loss=1.05]\n"
     ]
    },
    {
     "name": "stdout",
     "output_type": "stream",
     "text": [
      "Epoch [1951/2000]: Train loss: 0.9675, Valid loss: 0.9953\n"
     ]
    },
    {
     "name": "stderr",
     "output_type": "stream",
     "text": [
      "Epoch [1952/2000]: 100%|██████████| 10/10 [00:00<00:00, 51.77it/s, loss=0.785]\n"
     ]
    },
    {
     "name": "stdout",
     "output_type": "stream",
     "text": [
      "Epoch [1952/2000]: Train loss: 0.9664, Valid loss: 0.9502\n"
     ]
    },
    {
     "name": "stderr",
     "output_type": "stream",
     "text": [
      "Epoch [1953/2000]: 100%|██████████| 10/10 [00:00<00:00, 25.58it/s, loss=0.91]\n"
     ]
    },
    {
     "name": "stdout",
     "output_type": "stream",
     "text": [
      "Epoch [1953/2000]: Train loss: 0.9601, Valid loss: 0.9866\n"
     ]
    },
    {
     "name": "stderr",
     "output_type": "stream",
     "text": [
      "Epoch [1954/2000]: 100%|██████████| 10/10 [00:00<00:00, 17.28it/s, loss=1.02]\n"
     ]
    },
    {
     "name": "stdout",
     "output_type": "stream",
     "text": [
      "Epoch [1954/2000]: Train loss: 0.9660, Valid loss: 1.0018\n"
     ]
    },
    {
     "name": "stderr",
     "output_type": "stream",
     "text": [
      "Epoch [1955/2000]: 100%|██████████| 10/10 [00:00<00:00, 28.53it/s, loss=0.988]\n"
     ]
    },
    {
     "name": "stdout",
     "output_type": "stream",
     "text": [
      "Epoch [1955/2000]: Train loss: 0.9598, Valid loss: 0.9522\n"
     ]
    },
    {
     "name": "stderr",
     "output_type": "stream",
     "text": [
      "Epoch [1956/2000]: 100%|██████████| 10/10 [00:00<00:00, 10.46it/s, loss=0.733]\n"
     ]
    },
    {
     "name": "stdout",
     "output_type": "stream",
     "text": [
      "Epoch [1956/2000]: Train loss: 0.9420, Valid loss: 0.9288\n"
     ]
    },
    {
     "name": "stderr",
     "output_type": "stream",
     "text": [
      "Epoch [1957/2000]: 100%|██████████| 10/10 [00:00<00:00, 26.63it/s, loss=0.905]\n"
     ]
    },
    {
     "name": "stdout",
     "output_type": "stream",
     "text": [
      "Epoch [1957/2000]: Train loss: 0.9526, Valid loss: 0.9589\n"
     ]
    },
    {
     "name": "stderr",
     "output_type": "stream",
     "text": [
      "Epoch [1958/2000]: 100%|██████████| 10/10 [00:00<00:00, 39.91it/s, loss=0.816]\n"
     ]
    },
    {
     "name": "stdout",
     "output_type": "stream",
     "text": [
      "Epoch [1958/2000]: Train loss: 0.9467, Valid loss: 0.8843\n",
      "Saving model with loss 0.884...\n"
     ]
    },
    {
     "name": "stderr",
     "output_type": "stream",
     "text": [
      "Epoch [1959/2000]: 100%|██████████| 10/10 [00:00<00:00, 39.68it/s, loss=0.713]\n"
     ]
    },
    {
     "name": "stdout",
     "output_type": "stream",
     "text": [
      "Epoch [1959/2000]: Train loss: 0.9388, Valid loss: 0.9352\n"
     ]
    },
    {
     "name": "stderr",
     "output_type": "stream",
     "text": [
      "Epoch [1960/2000]: 100%|██████████| 10/10 [00:00<00:00, 28.50it/s, loss=1.12]\n"
     ]
    },
    {
     "name": "stdout",
     "output_type": "stream",
     "text": [
      "Epoch [1960/2000]: Train loss: 0.9733, Valid loss: 1.0140\n"
     ]
    },
    {
     "name": "stderr",
     "output_type": "stream",
     "text": [
      "Epoch [1961/2000]: 100%|██████████| 10/10 [00:00<00:00, 32.81it/s, loss=1.15]\n"
     ]
    },
    {
     "name": "stdout",
     "output_type": "stream",
     "text": [
      "Epoch [1961/2000]: Train loss: 0.9687, Valid loss: 0.9565\n"
     ]
    },
    {
     "name": "stderr",
     "output_type": "stream",
     "text": [
      "Epoch [1962/2000]: 100%|██████████| 10/10 [00:00<00:00, 25.04it/s, loss=1.09]\n"
     ]
    },
    {
     "name": "stdout",
     "output_type": "stream",
     "text": [
      "Epoch [1962/2000]: Train loss: 0.9620, Valid loss: 0.9643\n"
     ]
    },
    {
     "name": "stderr",
     "output_type": "stream",
     "text": [
      "Epoch [1963/2000]: 100%|██████████| 10/10 [00:00<00:00, 39.37it/s, loss=1.2] \n"
     ]
    },
    {
     "name": "stdout",
     "output_type": "stream",
     "text": [
      "Epoch [1963/2000]: Train loss: 0.9744, Valid loss: 0.9646\n"
     ]
    },
    {
     "name": "stderr",
     "output_type": "stream",
     "text": [
      "Epoch [1964/2000]: 100%|██████████| 10/10 [00:00<00:00, 13.72it/s, loss=0.863]\n"
     ]
    },
    {
     "name": "stdout",
     "output_type": "stream",
     "text": [
      "Epoch [1964/2000]: Train loss: 0.9542, Valid loss: 0.9931\n"
     ]
    },
    {
     "name": "stderr",
     "output_type": "stream",
     "text": [
      "Epoch [1965/2000]: 100%|██████████| 10/10 [00:00<00:00, 24.96it/s, loss=0.954]\n"
     ]
    },
    {
     "name": "stdout",
     "output_type": "stream",
     "text": [
      "Epoch [1965/2000]: Train loss: 0.9589, Valid loss: 0.9752\n"
     ]
    },
    {
     "name": "stderr",
     "output_type": "stream",
     "text": [
      "Epoch [1966/2000]: 100%|██████████| 10/10 [00:00<00:00, 15.19it/s, loss=1.05]\n"
     ]
    },
    {
     "name": "stdout",
     "output_type": "stream",
     "text": [
      "Epoch [1966/2000]: Train loss: 0.9691, Valid loss: 0.9481\n"
     ]
    },
    {
     "name": "stderr",
     "output_type": "stream",
     "text": [
      "Epoch [1967/2000]: 100%|██████████| 10/10 [00:00<00:00, 23.09it/s, loss=1.3] \n"
     ]
    },
    {
     "name": "stdout",
     "output_type": "stream",
     "text": [
      "Epoch [1967/2000]: Train loss: 0.9811, Valid loss: 0.9884\n"
     ]
    },
    {
     "name": "stderr",
     "output_type": "stream",
     "text": [
      "Epoch [1968/2000]: 100%|██████████| 10/10 [00:00<00:00, 23.65it/s, loss=0.899]\n"
     ]
    },
    {
     "name": "stdout",
     "output_type": "stream",
     "text": [
      "Epoch [1968/2000]: Train loss: 0.9728, Valid loss: 0.9803\n"
     ]
    },
    {
     "name": "stderr",
     "output_type": "stream",
     "text": [
      "Epoch [1969/2000]: 100%|██████████| 10/10 [00:00<00:00, 19.94it/s, loss=0.931]\n"
     ]
    },
    {
     "name": "stdout",
     "output_type": "stream",
     "text": [
      "Epoch [1969/2000]: Train loss: 0.9629, Valid loss: 0.9590\n"
     ]
    },
    {
     "name": "stderr",
     "output_type": "stream",
     "text": [
      "Epoch [1970/2000]: 100%|██████████| 10/10 [00:00<00:00, 18.41it/s, loss=1.24]\n"
     ]
    },
    {
     "name": "stdout",
     "output_type": "stream",
     "text": [
      "Epoch [1970/2000]: Train loss: 0.9733, Valid loss: 0.8933\n"
     ]
    },
    {
     "name": "stderr",
     "output_type": "stream",
     "text": [
      "Epoch [1971/2000]: 100%|██████████| 10/10 [00:00<00:00, 26.23it/s, loss=1.29]\n"
     ]
    },
    {
     "name": "stdout",
     "output_type": "stream",
     "text": [
      "Epoch [1971/2000]: Train loss: 0.9773, Valid loss: 0.9505\n"
     ]
    },
    {
     "name": "stderr",
     "output_type": "stream",
     "text": [
      "Epoch [1972/2000]: 100%|██████████| 10/10 [00:00<00:00, 43.90it/s, loss=0.903]\n"
     ]
    },
    {
     "name": "stdout",
     "output_type": "stream",
     "text": [
      "Epoch [1972/2000]: Train loss: 0.9595, Valid loss: 0.9754\n"
     ]
    },
    {
     "name": "stderr",
     "output_type": "stream",
     "text": [
      "Epoch [1973/2000]: 100%|██████████| 10/10 [00:00<00:00, 28.23it/s, loss=0.955]\n"
     ]
    },
    {
     "name": "stdout",
     "output_type": "stream",
     "text": [
      "Epoch [1973/2000]: Train loss: 0.9695, Valid loss: 0.9483\n"
     ]
    },
    {
     "name": "stderr",
     "output_type": "stream",
     "text": [
      "Epoch [1974/2000]: 100%|██████████| 10/10 [00:00<00:00, 12.95it/s, loss=1.48]\n"
     ]
    },
    {
     "name": "stdout",
     "output_type": "stream",
     "text": [
      "Epoch [1974/2000]: Train loss: 1.0054, Valid loss: 1.0157\n"
     ]
    },
    {
     "name": "stderr",
     "output_type": "stream",
     "text": [
      "Epoch [1975/2000]: 100%|██████████| 10/10 [00:00<00:00, 39.92it/s, loss=0.992]\n"
     ]
    },
    {
     "name": "stdout",
     "output_type": "stream",
     "text": [
      "Epoch [1975/2000]: Train loss: 0.9615, Valid loss: 0.9200\n"
     ]
    },
    {
     "name": "stderr",
     "output_type": "stream",
     "text": [
      "Epoch [1976/2000]: 100%|██████████| 10/10 [00:00<00:00, 15.24it/s, loss=0.767]\n"
     ]
    },
    {
     "name": "stdout",
     "output_type": "stream",
     "text": [
      "Epoch [1976/2000]: Train loss: 0.9420, Valid loss: 0.9560\n"
     ]
    },
    {
     "name": "stderr",
     "output_type": "stream",
     "text": [
      "Epoch [1977/2000]: 100%|██████████| 10/10 [00:00<00:00, 11.50it/s, loss=0.863]\n"
     ]
    },
    {
     "name": "stdout",
     "output_type": "stream",
     "text": [
      "Epoch [1977/2000]: Train loss: 0.9494, Valid loss: 0.9699\n"
     ]
    },
    {
     "name": "stderr",
     "output_type": "stream",
     "text": [
      "Epoch [1978/2000]: 100%|██████████| 10/10 [00:00<00:00, 11.00it/s, loss=0.904]\n"
     ]
    },
    {
     "name": "stdout",
     "output_type": "stream",
     "text": [
      "Epoch [1978/2000]: Train loss: 0.9547, Valid loss: 0.9961\n"
     ]
    },
    {
     "name": "stderr",
     "output_type": "stream",
     "text": [
      "Epoch [1979/2000]: 100%|██████████| 10/10 [00:00<00:00, 27.02it/s, loss=0.892]\n"
     ]
    },
    {
     "name": "stdout",
     "output_type": "stream",
     "text": [
      "Epoch [1979/2000]: Train loss: 0.9498, Valid loss: 0.9295\n"
     ]
    },
    {
     "name": "stderr",
     "output_type": "stream",
     "text": [
      "Epoch [1980/2000]: 100%|██████████| 10/10 [00:00<00:00, 28.66it/s, loss=0.999]\n"
     ]
    },
    {
     "name": "stdout",
     "output_type": "stream",
     "text": [
      "Epoch [1980/2000]: Train loss: 0.9567, Valid loss: 0.9982\n"
     ]
    },
    {
     "name": "stderr",
     "output_type": "stream",
     "text": [
      "Epoch [1981/2000]: 100%|██████████| 10/10 [00:00<00:00, 15.39it/s, loss=1.03]\n"
     ]
    },
    {
     "name": "stdout",
     "output_type": "stream",
     "text": [
      "Epoch [1981/2000]: Train loss: 0.9690, Valid loss: 0.9840\n"
     ]
    },
    {
     "name": "stderr",
     "output_type": "stream",
     "text": [
      "Epoch [1982/2000]: 100%|██████████| 10/10 [00:00<00:00, 18.80it/s, loss=1.02]\n"
     ]
    },
    {
     "name": "stdout",
     "output_type": "stream",
     "text": [
      "Epoch [1982/2000]: Train loss: 0.9609, Valid loss: 0.9526\n"
     ]
    },
    {
     "name": "stderr",
     "output_type": "stream",
     "text": [
      "Epoch [1983/2000]: 100%|██████████| 10/10 [00:01<00:00,  9.15it/s, loss=0.895]\n"
     ]
    },
    {
     "name": "stdout",
     "output_type": "stream",
     "text": [
      "Epoch [1983/2000]: Train loss: 0.9600, Valid loss: 0.9444\n"
     ]
    },
    {
     "name": "stderr",
     "output_type": "stream",
     "text": [
      "Epoch [1984/2000]: 100%|██████████| 10/10 [00:00<00:00, 13.58it/s, loss=0.992]\n"
     ]
    },
    {
     "name": "stdout",
     "output_type": "stream",
     "text": [
      "Epoch [1984/2000]: Train loss: 0.9679, Valid loss: 1.0010\n"
     ]
    },
    {
     "name": "stderr",
     "output_type": "stream",
     "text": [
      "Epoch [1985/2000]: 100%|██████████| 10/10 [00:00<00:00, 17.62it/s, loss=1.08]\n"
     ]
    },
    {
     "name": "stdout",
     "output_type": "stream",
     "text": [
      "Epoch [1985/2000]: Train loss: 0.9663, Valid loss: 0.8873\n"
     ]
    },
    {
     "name": "stderr",
     "output_type": "stream",
     "text": [
      "Epoch [1986/2000]: 100%|██████████| 10/10 [00:00<00:00, 35.92it/s, loss=0.901]\n"
     ]
    },
    {
     "name": "stdout",
     "output_type": "stream",
     "text": [
      "Epoch [1986/2000]: Train loss: 0.9508, Valid loss: 0.9724\n"
     ]
    },
    {
     "name": "stderr",
     "output_type": "stream",
     "text": [
      "Epoch [1987/2000]: 100%|██████████| 10/10 [00:00<00:00, 39.63it/s, loss=0.933]\n"
     ]
    },
    {
     "name": "stdout",
     "output_type": "stream",
     "text": [
      "Epoch [1987/2000]: Train loss: 0.9726, Valid loss: 0.9745\n"
     ]
    },
    {
     "name": "stderr",
     "output_type": "stream",
     "text": [
      "Epoch [1988/2000]: 100%|██████████| 10/10 [00:00<00:00, 21.77it/s, loss=1.47]\n"
     ]
    },
    {
     "name": "stdout",
     "output_type": "stream",
     "text": [
      "Epoch [1988/2000]: Train loss: 1.0053, Valid loss: 0.9406\n"
     ]
    },
    {
     "name": "stderr",
     "output_type": "stream",
     "text": [
      "Epoch [1989/2000]: 100%|██████████| 10/10 [00:00<00:00, 21.58it/s, loss=1.27]\n"
     ]
    },
    {
     "name": "stdout",
     "output_type": "stream",
     "text": [
      "Epoch [1989/2000]: Train loss: 0.9845, Valid loss: 0.9435\n"
     ]
    },
    {
     "name": "stderr",
     "output_type": "stream",
     "text": [
      "Epoch [1990/2000]: 100%|██████████| 10/10 [00:00<00:00, 36.28it/s, loss=1.06]\n"
     ]
    },
    {
     "name": "stdout",
     "output_type": "stream",
     "text": [
      "Epoch [1990/2000]: Train loss: 0.9713, Valid loss: 1.0543\n"
     ]
    },
    {
     "name": "stderr",
     "output_type": "stream",
     "text": [
      "Epoch [1991/2000]: 100%|██████████| 10/10 [00:00<00:00, 26.04it/s, loss=0.786]\n"
     ]
    },
    {
     "name": "stdout",
     "output_type": "stream",
     "text": [
      "Epoch [1991/2000]: Train loss: 0.9509, Valid loss: 1.0441\n"
     ]
    },
    {
     "name": "stderr",
     "output_type": "stream",
     "text": [
      "Epoch [1992/2000]: 100%|██████████| 10/10 [00:00<00:00, 39.57it/s, loss=1.45]\n"
     ]
    },
    {
     "name": "stdout",
     "output_type": "stream",
     "text": [
      "Epoch [1992/2000]: Train loss: 0.9889, Valid loss: 0.9571\n"
     ]
    },
    {
     "name": "stderr",
     "output_type": "stream",
     "text": [
      "Epoch [1993/2000]: 100%|██████████| 10/10 [00:00<00:00, 31.96it/s, loss=1]   \n"
     ]
    },
    {
     "name": "stdout",
     "output_type": "stream",
     "text": [
      "Epoch [1993/2000]: Train loss: 0.9658, Valid loss: 1.0009\n"
     ]
    },
    {
     "name": "stderr",
     "output_type": "stream",
     "text": [
      "Epoch [1994/2000]: 100%|██████████| 10/10 [00:00<00:00, 49.18it/s, loss=1.09]\n"
     ]
    },
    {
     "name": "stdout",
     "output_type": "stream",
     "text": [
      "Epoch [1994/2000]: Train loss: 0.9742, Valid loss: 0.9401\n"
     ]
    },
    {
     "name": "stderr",
     "output_type": "stream",
     "text": [
      "Epoch [1995/2000]: 100%|██████████| 10/10 [00:00<00:00, 36.19it/s, loss=1.05]\n"
     ]
    },
    {
     "name": "stdout",
     "output_type": "stream",
     "text": [
      "Epoch [1995/2000]: Train loss: 0.9708, Valid loss: 0.9472\n"
     ]
    },
    {
     "name": "stderr",
     "output_type": "stream",
     "text": [
      "Epoch [1996/2000]: 100%|██████████| 10/10 [00:00<00:00, 27.27it/s, loss=0.835]\n"
     ]
    },
    {
     "name": "stdout",
     "output_type": "stream",
     "text": [
      "Epoch [1996/2000]: Train loss: 0.9509, Valid loss: 0.9237\n"
     ]
    },
    {
     "name": "stderr",
     "output_type": "stream",
     "text": [
      "Epoch [1997/2000]: 100%|██████████| 10/10 [00:00<00:00, 37.89it/s, loss=0.906]\n"
     ]
    },
    {
     "name": "stdout",
     "output_type": "stream",
     "text": [
      "Epoch [1997/2000]: Train loss: 0.9518, Valid loss: 0.9755\n"
     ]
    },
    {
     "name": "stderr",
     "output_type": "stream",
     "text": [
      "Epoch [1998/2000]: 100%|██████████| 10/10 [00:00<00:00, 33.72it/s, loss=0.824]\n"
     ]
    },
    {
     "name": "stdout",
     "output_type": "stream",
     "text": [
      "Epoch [1998/2000]: Train loss: 0.9570, Valid loss: 0.9990\n"
     ]
    },
    {
     "name": "stderr",
     "output_type": "stream",
     "text": [
      "Epoch [1999/2000]: 100%|██████████| 10/10 [00:00<00:00, 13.43it/s, loss=1.25]\n"
     ]
    },
    {
     "name": "stdout",
     "output_type": "stream",
     "text": [
      "Epoch [1999/2000]: Train loss: 0.9742, Valid loss: 0.9518\n"
     ]
    },
    {
     "name": "stderr",
     "output_type": "stream",
     "text": [
      "Epoch [2000/2000]: 100%|██████████| 10/10 [00:00<00:00, 37.70it/s, loss=0.899]\n"
     ]
    },
    {
     "name": "stdout",
     "output_type": "stream",
     "text": [
      "Epoch [2000/2000]: Train loss: 0.9498, Valid loss: 0.9925\n"
     ]
    }
   ],
   "source": [
    "model = CovidClassifier(input_dim=x_train.shape[1]).to(device) # put your model and data on the same computation device.\n",
    "trainer(train_loader, valid_loader, model, config, device)"
   ]
  },
  {
   "cell_type": "code",
   "execution_count": 119,
   "metadata": {},
   "outputs": [
    {
     "name": "stderr",
     "output_type": "stream",
     "text": [
      "100%|██████████| 4/4 [00:00<00:00, 328.57it/s]\n"
     ]
    }
   ],
   "source": [
    "def save_pred(preds, file):\n",
    "    ''' Save predictions to specified file '''\n",
    "    with open(file, 'w') as fp:\n",
    "        writer = csv.writer(fp)\n",
    "        writer.writerow(['id', 'tested_positive'])\n",
    "        for i, p in enumerate(preds):\n",
    "            writer.writerow([i, p])\n",
    "\n",
    "model = CovidClassifier(input_dim=x_train.shape[1]).to(device)\n",
    "model.load_state_dict(torch.load(config['save_path']))\n",
    "preds = predict(test_loader, model, device) \n",
    "save_pred(preds, 'pred.csv')         "
   ]
  },
  {
   "cell_type": "code",
   "execution_count": 120,
   "metadata": {},
   "outputs": [
    {
     "data": {
      "text/html": [
       "<a href='pred.csv' target='_blank'>pred.csv</a><br>"
      ],
      "text/plain": [
       "/app/pred.csv"
      ]
     },
     "execution_count": 120,
     "metadata": {},
     "output_type": "execute_result"
    }
   ],
   "source": [
    "from IPython.display import FileLink\n",
    "FileLink(r'pred.csv')"
   ]
  }
 ],
 "metadata": {
  "kernelspec": {
   "display_name": "Python 3 (ipykernel)",
   "language": "python",
   "name": "python3"
  },
  "language_info": {
   "codemirror_mode": {
    "name": "ipython",
    "version": 3
   },
   "file_extension": ".py",
   "mimetype": "text/x-python",
   "name": "python",
   "nbconvert_exporter": "python",
   "pygments_lexer": "ipython3",
   "version": "3.11.6"
  }
 },
 "nbformat": 4,
 "nbformat_minor": 2
}
